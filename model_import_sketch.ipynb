{
  "cells": [
    {
      "cell_type": "markdown",
      "metadata": {
        "id": "view-in-github",
        "colab_type": "text"
      },
      "source": [
        "<a href=\"https://colab.research.google.com/github/xloem/techsketball/blob/main/model_import_sketch.ipynb\" target=\"_parent\"><img src=\"https://colab.research.google.com/assets/colab-badge.svg\" alt=\"Open In Colab\"/></a>"
      ]
    },
    {
      "cell_type": "code",
      "execution_count": null,
      "metadata": {
        "id": "nH1Ld_vd9wyx",
        "outputId": "9872aa78-a6d1-430a-adeb-72f6f7d44087",
        "colab": {
          "base_uri": "https://localhost:8080/"
        }
      },
      "outputs": [
        {
          "output_type": "stream",
          "name": "stdout",
          "text": [
            "Collecting deepspeed\n",
            "  Downloading deepspeed-0.5.10.tar.gz (515 kB)\n",
            "\u001b[K     |████████████████████████████████| 515 kB 11.7 MB/s \n",
            "\u001b[?25hCollecting hjson\n",
            "  Downloading hjson-3.0.2-py3-none-any.whl (54 kB)\n",
            "\u001b[K     |████████████████████████████████| 54 kB 2.7 MB/s \n",
            "\u001b[?25hCollecting ninja\n",
            "  Downloading ninja-1.10.2.3-py2.py3-none-manylinux_2_5_x86_64.manylinux1_x86_64.whl (108 kB)\n",
            "\u001b[K     |████████████████████████████████| 108 kB 60.4 MB/s \n",
            "\u001b[?25hRequirement already satisfied: numpy in /usr/local/lib/python3.7/dist-packages (from deepspeed) (1.19.5)\n",
            "Requirement already satisfied: packaging in /usr/local/lib/python3.7/dist-packages (from deepspeed) (21.3)\n",
            "Requirement already satisfied: psutil in /usr/local/lib/python3.7/dist-packages (from deepspeed) (5.4.8)\n",
            "Collecting py-cpuinfo\n",
            "  Downloading py-cpuinfo-8.0.0.tar.gz (99 kB)\n",
            "\u001b[K     |████████████████████████████████| 99 kB 10.1 MB/s \n",
            "\u001b[?25hRequirement already satisfied: torch in /usr/local/lib/python3.7/dist-packages (from deepspeed) (1.10.0+cu111)\n",
            "Requirement already satisfied: tqdm in /usr/local/lib/python3.7/dist-packages (from deepspeed) (4.62.3)\n",
            "Collecting triton==1.0.0\n",
            "  Downloading triton-1.0.0-cp37-cp37m-manylinux_2_17_x86_64.manylinux2014_x86_64.whl (15.2 MB)\n",
            "\u001b[K     |████████████████████████████████| 15.2 MB 49.4 MB/s \n",
            "\u001b[?25hRequirement already satisfied: pyparsing!=3.0.5,>=2.0.2 in /usr/local/lib/python3.7/dist-packages (from packaging->deepspeed) (3.0.6)\n",
            "Requirement already satisfied: typing-extensions in /usr/local/lib/python3.7/dist-packages (from torch->deepspeed) (3.10.0.2)\n",
            "Building wheels for collected packages: deepspeed, py-cpuinfo\n",
            "  Building wheel for deepspeed (setup.py) ... \u001b[?25l\u001b[?25hdone\n",
            "  Created wheel for deepspeed: filename=deepspeed-0.5.10-py3-none-any.whl size=528334 sha256=4b2ec24ef925fd2fbe91f72cfe061e2835dd1f63f24a5612c797f69bf684df22\n",
            "  Stored in directory: /root/.cache/pip/wheels/b9/f1/7e/23e5e8660c7e72626d7dd90f5657d84c7d5c3838c593f82795\n",
            "  Building wheel for py-cpuinfo (setup.py) ... \u001b[?25l\u001b[?25hdone\n",
            "  Created wheel for py-cpuinfo: filename=py_cpuinfo-8.0.0-py3-none-any.whl size=22257 sha256=0d75fddfab38ef3a1663252fa67424509493d2c183eaa9385dd763cb16ffc748\n",
            "  Stored in directory: /root/.cache/pip/wheels/d2/f1/1f/041add21dc9c4220157f1bd2bd6afe1f1a49524c3396b94401\n",
            "Successfully built deepspeed py-cpuinfo\n",
            "Installing collected packages: triton, py-cpuinfo, ninja, hjson, deepspeed\n",
            "Successfully installed deepspeed-0.5.10 hjson-3.0.2 ninja-1.10.2.3 py-cpuinfo-8.0.0 triton-1.0.0\n",
            "Collecting transformers\n",
            "  Downloading transformers-4.15.0-py3-none-any.whl (3.4 MB)\n",
            "\u001b[K     |████████████████████████████████| 3.4 MB 12.2 MB/s \n",
            "\u001b[?25hRequirement already satisfied: importlib-metadata in /usr/local/lib/python3.7/dist-packages (from transformers) (4.10.0)\n",
            "Collecting pyyaml>=5.1\n",
            "  Downloading PyYAML-6.0-cp37-cp37m-manylinux_2_5_x86_64.manylinux1_x86_64.manylinux_2_12_x86_64.manylinux2010_x86_64.whl (596 kB)\n",
            "\u001b[K     |████████████████████████████████| 596 kB 50.7 MB/s \n",
            "\u001b[?25hCollecting huggingface-hub<1.0,>=0.1.0\n",
            "  Downloading huggingface_hub-0.4.0-py3-none-any.whl (67 kB)\n",
            "\u001b[K     |████████████████████████████████| 67 kB 5.1 MB/s \n",
            "\u001b[?25hRequirement already satisfied: numpy>=1.17 in /usr/local/lib/python3.7/dist-packages (from transformers) (1.19.5)\n",
            "Requirement already satisfied: regex!=2019.12.17 in /usr/local/lib/python3.7/dist-packages (from transformers) (2019.12.20)\n",
            "Requirement already satisfied: requests in /usr/local/lib/python3.7/dist-packages (from transformers) (2.23.0)\n",
            "Requirement already satisfied: tqdm>=4.27 in /usr/local/lib/python3.7/dist-packages (from transformers) (4.62.3)\n",
            "Requirement already satisfied: packaging>=20.0 in /usr/local/lib/python3.7/dist-packages (from transformers) (21.3)\n",
            "Collecting sacremoses\n",
            "  Downloading sacremoses-0.0.47-py2.py3-none-any.whl (895 kB)\n",
            "\u001b[K     |████████████████████████████████| 895 kB 51.5 MB/s \n",
            "\u001b[?25hRequirement already satisfied: filelock in /usr/local/lib/python3.7/dist-packages (from transformers) (3.4.2)\n",
            "Collecting tokenizers<0.11,>=0.10.1\n",
            "  Downloading tokenizers-0.10.3-cp37-cp37m-manylinux_2_5_x86_64.manylinux1_x86_64.manylinux_2_12_x86_64.manylinux2010_x86_64.whl (3.3 MB)\n",
            "\u001b[K     |████████████████████████████████| 3.3 MB 39.5 MB/s \n",
            "\u001b[?25hRequirement already satisfied: typing-extensions>=3.7.4.3 in /usr/local/lib/python3.7/dist-packages (from huggingface-hub<1.0,>=0.1.0->transformers) (3.10.0.2)\n",
            "Requirement already satisfied: pyparsing!=3.0.5,>=2.0.2 in /usr/local/lib/python3.7/dist-packages (from packaging>=20.0->transformers) (3.0.6)\n",
            "Requirement already satisfied: zipp>=0.5 in /usr/local/lib/python3.7/dist-packages (from importlib-metadata->transformers) (3.7.0)\n",
            "Requirement already satisfied: certifi>=2017.4.17 in /usr/local/lib/python3.7/dist-packages (from requests->transformers) (2021.10.8)\n",
            "Requirement already satisfied: chardet<4,>=3.0.2 in /usr/local/lib/python3.7/dist-packages (from requests->transformers) (3.0.4)\n",
            "Requirement already satisfied: urllib3!=1.25.0,!=1.25.1,<1.26,>=1.21.1 in /usr/local/lib/python3.7/dist-packages (from requests->transformers) (1.24.3)\n",
            "Requirement already satisfied: idna<3,>=2.5 in /usr/local/lib/python3.7/dist-packages (from requests->transformers) (2.10)\n",
            "Requirement already satisfied: joblib in /usr/local/lib/python3.7/dist-packages (from sacremoses->transformers) (1.1.0)\n",
            "Requirement already satisfied: six in /usr/local/lib/python3.7/dist-packages (from sacremoses->transformers) (1.15.0)\n",
            "Requirement already satisfied: click in /usr/local/lib/python3.7/dist-packages (from sacremoses->transformers) (7.1.2)\n",
            "Installing collected packages: pyyaml, tokenizers, sacremoses, huggingface-hub, transformers\n",
            "  Attempting uninstall: pyyaml\n",
            "    Found existing installation: PyYAML 3.13\n",
            "    Uninstalling PyYAML-3.13:\n",
            "      Successfully uninstalled PyYAML-3.13\n",
            "Successfully installed huggingface-hub-0.4.0 pyyaml-6.0 sacremoses-0.0.47 tokenizers-0.10.3 transformers-4.15.0\n",
            "Collecting flax\n",
            "  Downloading flax-0.3.6-py3-none-any.whl (207 kB)\n",
            "\u001b[K     |████████████████████████████████| 207 kB 12.3 MB/s \n",
            "\u001b[?25hCollecting optax\n",
            "  Downloading optax-0.1.0-py3-none-any.whl (126 kB)\n",
            "\u001b[K     |████████████████████████████████| 126 kB 52.3 MB/s \n",
            "\u001b[?25hRequirement already satisfied: numpy>=1.12 in /usr/local/lib/python3.7/dist-packages (from flax) (1.19.5)\n",
            "Requirement already satisfied: msgpack in /usr/local/lib/python3.7/dist-packages (from flax) (1.0.3)\n",
            "Requirement already satisfied: matplotlib in /usr/local/lib/python3.7/dist-packages (from flax) (3.2.2)\n",
            "Requirement already satisfied: jax>=0.2.21 in /usr/local/lib/python3.7/dist-packages (from flax) (0.2.25)\n",
            "Requirement already satisfied: absl-py in /usr/local/lib/python3.7/dist-packages (from jax>=0.2.21->flax) (0.12.0)\n",
            "Requirement already satisfied: scipy>=1.2.1 in /usr/local/lib/python3.7/dist-packages (from jax>=0.2.21->flax) (1.4.1)\n",
            "Requirement already satisfied: opt-einsum in /usr/local/lib/python3.7/dist-packages (from jax>=0.2.21->flax) (3.3.0)\n",
            "Requirement already satisfied: typing-extensions in /usr/local/lib/python3.7/dist-packages (from jax>=0.2.21->flax) (3.10.0.2)\n",
            "Requirement already satisfied: six in /usr/local/lib/python3.7/dist-packages (from absl-py->jax>=0.2.21->flax) (1.15.0)\n",
            "Requirement already satisfied: pyparsing!=2.0.4,!=2.1.2,!=2.1.6,>=2.0.1 in /usr/local/lib/python3.7/dist-packages (from matplotlib->flax) (3.0.6)\n",
            "Requirement already satisfied: cycler>=0.10 in /usr/local/lib/python3.7/dist-packages (from matplotlib->flax) (0.11.0)\n",
            "Requirement already satisfied: kiwisolver>=1.0.1 in /usr/local/lib/python3.7/dist-packages (from matplotlib->flax) (1.3.2)\n",
            "Requirement already satisfied: python-dateutil>=2.1 in /usr/local/lib/python3.7/dist-packages (from matplotlib->flax) (2.8.2)\n",
            "Requirement already satisfied: jaxlib>=0.1.37 in /usr/local/lib/python3.7/dist-packages (from optax->flax) (0.1.71+cuda111)\n",
            "Collecting chex>=0.0.4\n",
            "  Downloading chex-0.1.0-py3-none-any.whl (65 kB)\n",
            "\u001b[K     |████████████████████████████████| 65 kB 3.5 MB/s \n",
            "\u001b[?25hRequirement already satisfied: toolz>=0.9.0 in /usr/local/lib/python3.7/dist-packages (from chex>=0.0.4->optax->flax) (0.11.2)\n",
            "Requirement already satisfied: dm-tree>=0.1.5 in /usr/local/lib/python3.7/dist-packages (from chex>=0.0.4->optax->flax) (0.1.6)\n",
            "Requirement already satisfied: flatbuffers<3.0,>=1.12 in /usr/local/lib/python3.7/dist-packages (from jaxlib>=0.1.37->optax->flax) (2.0)\n",
            "Installing collected packages: chex, optax, flax\n",
            "Successfully installed chex-0.1.0 flax-0.3.6 optax-0.1.0\n",
            "Collecting sentencepiece\n",
            "  Downloading sentencepiece-0.1.96-cp37-cp37m-manylinux_2_17_x86_64.manylinux2014_x86_64.whl (1.2 MB)\n",
            "\u001b[K     |████████████████████████████████| 1.2 MB 12.1 MB/s \n",
            "\u001b[?25hInstalling collected packages: sentencepiece\n",
            "Successfully installed sentencepiece-0.1.96\n",
            "Cloning into 'techsketball'...\n",
            "remote: Enumerating objects: 288, done.\u001b[K\n",
            "remote: Counting objects: 100% (288/288), done.\u001b[K\n",
            "remote: Compressing objects: 100% (226/226), done.\u001b[K\n",
            "remote: Total 288 (delta 162), reused 114 (delta 52), pack-reused 0\u001b[K\n",
            "Receiving objects: 100% (288/288), 134.47 KiB | 1.75 MiB/s, done.\n",
            "Resolving deltas: 100% (162/162), done.\n",
            "Reading package lists... Done\n",
            "Building dependency tree       \n",
            "Reading state information... Done\n",
            "The following NEW packages will be installed:\n",
            "  git-lfs\n",
            "0 upgraded, 1 newly installed, 0 to remove and 37 not upgraded.\n",
            "Need to get 2,129 kB of archives.\n",
            "After this operation, 7,662 kB of additional disk space will be used.\n",
            "Get:1 http://archive.ubuntu.com/ubuntu bionic/universe amd64 git-lfs amd64 2.3.4-1 [2,129 kB]\n",
            "Fetched 2,129 kB in 0s (19.1 MB/s)\n",
            "Selecting previously unselected package git-lfs.\n",
            "(Reading database ... 155229 files and directories currently installed.)\n",
            "Preparing to unpack .../git-lfs_2.3.4-1_amd64.deb ...\n",
            "Unpacking git-lfs (2.3.4-1) ...\n",
            "Setting up git-lfs (2.3.4-1) ...\n",
            "Processing triggers for man-db (2.8.3-2ubuntu0.1) ...\n"
          ]
        }
      ],
      "source": [
        "#[![Open In Colab](https://colab.research.google.com/assets/colab-badge.svg)](https://colab.research.google.com/github/googlecolab/colabtools/blob/master/notebooks/colab-github-demo.ipynb)\n",
        "\n",
        "import jax\n",
        "\n",
        "starting_model_path = 'baffo32/pyc2py_alpha' #'t5-base'#'t5-small'#'bigscience/T0pp'\n",
        "train_tokenizer = False # baffo32/pyc2py_alpha already has a tokenizer that can output bytes\n",
        "\n",
        "input_width = 512\n",
        "# these are not t5 parameters?\n",
        "train_batch_size = 20 # small for notebook\n",
        "per_device_batch_size = train_batch_size // jax.device_count()\n",
        "num_epochs = 1\n",
        "training_seed = 0\n",
        "learning_rate = 0.0001#3e-4\n",
        "logging_steps = 32\n",
        "\n",
        "\n",
        "#!pip install jax[tpu] -f https://storage.googleapis.com/jax-releases/libtpu_releases.html\n",
        "!pip3 install deepspeed\n",
        "!pip3 install transformers\n",
        "!pip3 install flax\n",
        "!pip3 install sentencepiece\n",
        "!git clone https://github.com/xloem/techsketball && ln -s techsketball/* .\n",
        "!apt-get install git-lfs\n",
        "!git config --global user.email johndoe@example.com\n",
        "!git config --global user.name 'John Doe'"
      ]
    },
    {
      "cell_type": "code",
      "execution_count": null,
      "metadata": {
        "colab": {
          "base_uri": "https://localhost:8080/"
        },
        "id": "mTGBjrXoX2eS",
        "outputId": "3abd133a-9388-4d87-c93c-373b231b3101"
      },
      "outputs": [
        {
          "output_type": "stream",
          "name": "stdout",
          "text": [
            "Thu Jan 20 00:18:24 2022       \n",
            "+-----------------------------------------------------------------------------+\n",
            "| NVIDIA-SMI 495.46       Driver Version: 460.32.03    CUDA Version: 11.2     |\n",
            "|-------------------------------+----------------------+----------------------+\n",
            "| GPU  Name        Persistence-M| Bus-Id        Disp.A | Volatile Uncorr. ECC |\n",
            "| Fan  Temp  Perf  Pwr:Usage/Cap|         Memory-Usage | GPU-Util  Compute M. |\n",
            "|                               |                      |               MIG M. |\n",
            "|===============================+======================+======================|\n",
            "|   0  Tesla P100-PCIE...  Off  | 00000000:00:04.0 Off |                    0 |\n",
            "| N/A   39C    P0    33W / 250W |    257MiB / 16280MiB |      0%      Default |\n",
            "|                               |                      |                  N/A |\n",
            "+-------------------------------+----------------------+----------------------+\n",
            "                                                                               \n",
            "+-----------------------------------------------------------------------------+\n",
            "| Processes:                                                                  |\n",
            "|  GPU   GI   CI        PID   Type   Process name                  GPU Memory |\n",
            "|        ID   ID                                                   Usage      |\n",
            "|=============================================================================|\n",
            "|  No running processes found                                                 |\n",
            "+-----------------------------------------------------------------------------+\n"
          ]
        },
        {
          "output_type": "execute_result",
          "data": {
            "text/plain": [
              "[GpuDevice(id=0, process_index=0)]"
            ]
          },
          "metadata": {},
          "execution_count": 2
        }
      ],
      "source": [
        "import jax.tools.colab_tpu\n",
        "import jaxlib\n",
        "import os\n",
        "try:\n",
        "  if 'COLAB_TPU_ADDR' in os.environ:\n",
        "    jax.tools.colab_tpu.setup_tpu()\n",
        "  jaxlib.xla_extension.tpu_client()\n",
        "  backend = 'tpu'\n",
        "except:\n",
        "  try:\n",
        "    jaxlib.xla_extension.gpu_client()\n",
        "    backend = 'gpu'\n",
        "  except:\n",
        "    backend = 'cpu'\n",
        "import tensorflow as tf\n",
        "!nvidia-smi\n",
        "jax.local_devices()"
      ]
    },
    {
      "cell_type": "code",
      "execution_count": null,
      "metadata": {
        "id": "qhJhFJfQAOXG",
        "colab": {
          "base_uri": "https://localhost:8080/",
          "height": 169,
          "referenced_widgets": [
            "8d2b177e9eb248ba9f7075406e257dac",
            "d7fd051f29de4264b52e804e84f49b1c",
            "708515f5e150458f8116fd425f5a6697",
            "c2d67aeb71f54d218efdde38341ecc1b",
            "31979ffa817b4d8683fd447d682b6a39",
            "d29f34df718441639dda43e74cee1af0",
            "36c1e1abf49446f5b1163f148af5e91e",
            "3667278bc4804f93b87d092550853d13",
            "4bb6955d2e8d4423943383341b5d24c1",
            "3b395aad74934962b5871d103b62658e",
            "92fcdd2641e547aa833184f22948c63b",
            "4f331d56b9aa447c9d4ff3cbdb1d539a",
            "9102640426dd4d7eb64e326752024515",
            "5ea2f78b8ff640e09534c3723984d158",
            "e7007ec7470e41838d0904ffdb2c891c",
            "010d53d8e85e41e9a519241d124bb12b",
            "32dae5ee26954ee88639fee5b959db14",
            "9165da459a35429aac7e2e4d568a4094",
            "e5b8b72b42424f4e9db925882bf32b66",
            "f378d616119a4035bbbff05a17d3a70c",
            "2f4c2a24a575475cb5a10461f6b7e39e",
            "6af8bd66f11547968358bcd2019c41ba",
            "2f2c9fe60f5244f0a5dd5285e3af3c2a",
            "7d225752b20d4d09893175a840ec324d",
            "952ce89aab804b3aa54c119a8ca090fc",
            "1a2e04acb6ab49f0b53598fa646b51a4",
            "75714a58e12341739d3425a117168bbd",
            "36543b9c3c6e48668287483d20524c17",
            "e6a53e3b58b5489d891ecf56c62a00e7",
            "6964963fd3464b8782f436105de1dc92",
            "122cae27f17a4f57aae957cf30768dcc",
            "7c0b73554a534caf950c85e8a989b9ad",
            "598c2d50ef3f42c28f5c2d48b9a8ea2b",
            "69ab53d003d840afae697b4d8eafdcbf"
          ]
        },
        "outputId": "27e26ff0-a4f2-41d7-c294-230d087ab95f"
      },
      "outputs": [
        {
          "metadata": {
            "tags": null
          },
          "name": "stderr",
          "output_type": "stream",
          "text": [
            "Cloning https://huggingface.co/baffo32/pyc2py_alpha into local empty directory.\n",
            "WARNING:huggingface_hub.repository:Cloning https://huggingface.co/baffo32/pyc2py_alpha into local empty directory.\n"
          ]
        },
        {
          "data": {
            "application/vnd.jupyter.widget-view+json": {
              "model_id": "8d2b177e9eb248ba9f7075406e257dac",
              "version_major": 2,
              "version_minor": 0
            },
            "text/plain": [
              "Download file flax_model.msgpack:   0%|          | 8.37k/850M [00:00<?, ?B/s]"
            ]
          },
          "metadata": {},
          "output_type": "display_data"
        },
        {
          "data": {
            "application/vnd.jupyter.widget-view+json": {
              "model_id": "4f331d56b9aa447c9d4ff3cbdb1d539a",
              "version_major": 2,
              "version_minor": 0
            },
            "text/plain": [
              "Download file spiece.model:   2%|1         | 8.37k/515k [00:00<?, ?B/s]"
            ]
          },
          "metadata": {},
          "output_type": "display_data"
        },
        {
          "data": {
            "application/vnd.jupyter.widget-view+json": {
              "model_id": "2f2c9fe60f5244f0a5dd5285e3af3c2a",
              "version_major": 2,
              "version_minor": 0
            },
            "text/plain": [
              "Clean file spiece.model:   0%|          | 1.00k/515k [00:00<?, ?B/s]"
            ]
          },
          "metadata": {},
          "output_type": "display_data"
        },
        {
          "data": {
            "application/vnd.jupyter.widget-view+json": {
              "model_id": "69ab53d003d840afae697b4d8eafdcbf",
              "version_major": 2,
              "version_minor": 0
            },
            "text/plain": [
              "Clean file flax_model.msgpack:   0%|          | 1.00k/850M [00:00<?, ?B/s]"
            ]
          },
          "metadata": {},
          "output_type": "display_data"
        }
      ],
      "source": [
        "from transformers import T5Tokenizer, FlaxT5ForConditionalGeneration \n",
        "import huggingface_hub\n",
        "repo = huggingface_hub.Repository('local_model', clone_from=starting_model_path)\n",
        "try:\n",
        "    tokenizer = T5Tokenizer.from_pretrained('local_model')\n",
        "except:\n",
        "    tokenizer = T5Tokenizer.from_pretrained(starting_model_path)\n",
        "try:\n",
        "    model = FlaxT5ForConditionalGeneration.from_pretrained('local_model')\n",
        "except:\n",
        "    model = FlaxT5ForConditionalGeneration.from_pretrained(starting_model_path)"
      ]
    },
    {
      "cell_type": "code",
      "execution_count": null,
      "metadata": {
        "id": "mZqc_JNhixjS"
      },
      "outputs": [],
      "source": [
        "# before data is generated we can import libraries to generate it from\n",
        "import jax, jax.numpy as jnp\n",
        "import numpy as np\n",
        "import optax\n",
        "import flax\n",
        "import flax.training.common_utils\n",
        "import flax.training.train_state\n",
        "import tqdm\n",
        "import time\n",
        "import os\n",
        "# ...\n",
        "import transformers\n",
        "import deepspeed\n",
        "import scipy\n",
        "import matplotlib\n",
        "import sentencepiece\n",
        "import dis"
      ]
    },
    {
      "cell_type": "code",
      "execution_count": null,
      "metadata": {
        "colab": {
          "base_uri": "https://localhost:8080/"
        },
        "id": "QnyDTDt_f1fE",
        "outputId": "97680271-0837-4b21-a4e0-7ad848e19ae6"
      },
      "outputs": [
        {
          "output_type": "stream",
          "name": "stdout",
          "text": [
            "getting training data ...\n"
          ]
        },
        {
          "output_type": "stream",
          "name": "stderr",
          "text": [
            "/usr/local/lib/python3.7/dist-packages/torch/distributed/distributed_c10d.py:171: UserWarning: torch.distributed.reduce_op is deprecated, please use torch.distributed.ReduceOp instead\n",
            "  \"torch.distributed.reduce_op is deprecated, please use \"\n"
          ]
        },
        {
          "output_type": "stream",
          "name": "stdout",
          "text": [
            "\n"
          ]
        }
      ],
      "source": [
        "import find_pycode\n",
        "print('getting training data ...')\n",
        "tokenizerpfx = starting_model_path.replace('/','_') + '.'\n",
        "find_pycode.write_files('example.', tokenizerpfx, 512, tokenizer, 512, globals(), skip_if_exists = True, train_tokenizer = train_tokenizer, tokenize_binary = True)\n",
        "tokenizer.save_pretrained('local_model')\n",
        "# repo.push_to_hub(commit_message=f'commit-message', blocking=False)\n",
        "train_data = find_pycode.read_files('example.', tokenizerpfx, 512, 512, tokenize_binary = True)"
      ]
    },
    {
      "cell_type": "code",
      "execution_count": null,
      "metadata": {
        "id": "6qTNv8oZwbGS"
      },
      "outputs": [],
      "source": [
        "#from tokenizers import ByteLevelBPETokenizer\n",
        "#tokenizer = ByteLevelBPETokenizer()\n",
        "#tokenizer.train_from_iterator((str for bytes, str in data_tuples), vocab_size=model.config.vocab_size, min_frequency=2) "
      ]
    },
    {
      "cell_type": "code",
      "execution_count": null,
      "metadata": {
        "id": "CxCgcJ0dzQY_",
        "lines_to_next_cell": 2
      },
      "outputs": [],
      "source": [
        ""
      ]
    },
    {
      "cell_type": "code",
      "execution_count": null,
      "metadata": {
        "id": "sdJ1Ek3-_j37"
      },
      "outputs": [],
      "source": [
        "#cmd_args = None\n",
        "#model_engine, optimizer, _, _ = deepspeed.initialize(args=cmd_args,\n",
        "#                                                     model=model,\n",
        "#                                                     model_parameters=params)"
      ]
    },
    {
      "cell_type": "code",
      "execution_count": null,
      "metadata": {
        "id": "nTQyR1KO4Sbv"
      },
      "outputs": [],
      "source": [
        "num_train_steps = len(train_data['input_ids']) // train_batch_size * num_epochs\n",
        "\n",
        "rng = jax.random.PRNGKey(training_seed)"
      ]
    },
    {
      "cell_type": "code",
      "execution_count": null,
      "metadata": {
        "id": "gD_cvz5MebpC"
      },
      "outputs": [],
      "source": [
        "def batch_from_indices(dataset : dict, indices):\n",
        "  #print(dataset['input_ids'].shape, indices.shape)\n",
        "  result = {\n",
        "      key : jnp.stack(data[indices,:])\n",
        "      for key, data in dataset.items()\n",
        "  }\n",
        "  # this change could be already put in the dataset passed by the function that produces it\n",
        "  result['labels'] = result['decoder_input_ids']\n",
        "  result['decoder_input_ids'] = np.asarray(transformers.models.t5.modeling_flax_t5.shift_tokens_right(result['labels'], tokenizer.pad_token_id, model.config.decoder_start_token_id))\n",
        "  return result"
      ]
    },
    {
      "cell_type": "code",
      "execution_count": null,
      "metadata": {
        "id": "m58ESSevKp6P",
        "lines_to_next_cell": 2,
        "outputId": "4bc9cd61-03e3-4d03-fce3-81aa331772d6",
        "colab": {
          "base_uri": "https://localhost:8080/"
        }
      },
      "outputs": [
        {
          "metadata": {
            "tags": null
          },
          "name": "stderr",
          "output_type": "stream",
          "text": [
            "WARNING:absl:Compiling prim_fun (140015545847712) for args ().\n",
            "WARNING:absl:Compiling _shuffle (140015545843952) for args (ShapedArray(uint32[2]), ShapedArray(int32[35146])).\n"
          ]
        },
        {
          "metadata": {
            "tags": null
          },
          "name": "stdout",
          "output_type": "stream",
          "text": [
            "Performing initial batch to compile train step ...\n"
          ]
        },
        {
          "metadata": {
            "tags": null
          },
          "name": "stderr",
          "output_type": "stream",
          "text": [
            "WARNING:absl:Compiling prim_fun (140015616934288) for args (ShapedArray(int32[]),).\n",
            "WARNING:absl:Compiling prim_fun (140015611742960) for args (ShapedArray(int32[35146]), ShapedArray(int32[1])).\n",
            "WARNING:absl:Compiling prim_fun (140015611742960) for args (ShapedArray(int32[19]),).\n",
            "WARNING:absl:Compiling prim_fun (140015649250512) for args (ShapedArray(uint16[19,512]),).\n",
            "WARNING:absl:Compiling prim_fun (140015649250512) for args (ShapedArray(uint16[19,1,512]),).\n",
            "WARNING:absl:Compiling prim_fun (140015616936128) for args (ShapedArray(uint8[19,512]),).\n",
            "WARNING:absl:Compiling prim_fun (140015649250512) for args (ShapedArray(uint8[19,1,512]),).\n",
            "WARNING:absl:Compiling prim_fun (140015649250512) for args (ShapedArray(uint16[19,512]), ShapedArray(int32[1])).\n",
            "WARNING:absl:Compiling prim_fun (140015649250512) for args (ShapedArray(uint16[19,511]),).\n",
            "WARNING:absl:Compiling prim_fun (140031145124720) for args (ShapedArray(uint8[19,512]),).\n",
            "WARNING:absl:Compiling prim_fun (140031145124800) for args (ShapedArray(uint16[19,512]),).\n",
            "WARNING:absl:Compiling train_step (140031145537696) for 1 devices with args (ShapedArray(int32[1]), ShapedArray(float32[1,768,768]), ShapedArray(float32[1,768,768]), ShapedArray(float32[1,768,768]), ShapedArray(float32[1,32,12]), ShapedArray(float32[1,768,768]), ShapedArray(float32[1,768]), ShapedArray(float32[1,768,768]), ShapedArray(float32[1,768,768]), ShapedArray(float32[1,768,768]), ShapedArray(float32[1,768,768]), ShapedArray(float32[1,768]), ShapedArray(float32[1,768,3072]), ShapedArray(float32[1,3072,768]), ShapedArray(float32[1,768]), ShapedArray(float32[1,768,768]), ShapedArray(float32[1,768,768]), ShapedArray(float32[1,768,768]), ShapedArray(float32[1,768,768]), ShapedArray(float32[1,768]), ShapedArray(float32[1,768,768]), ShapedArray(float32[1,768,768]), ShapedArray(float32[1,768,768]), ShapedArray(float32[1,768,768]), ShapedArray(float32[1,768]), ShapedArray(float32[1,768,3072]), ShapedArray(float32[1,3072,768]), ShapedArray(float32[1,768]), ShapedArray(float32[1,768,768]), ShapedArray(float32[1,768,768]), ShapedArray(float32[1,768,768]), ShapedArray(float32[1,768,768]), ShapedArray(float32[1,768]), ShapedArray(float32[1,768,768]), ShapedArray(float32[1,768,768]), ShapedArray(float32[1,768,768]), ShapedArray(float32[1,768,768]), ShapedArray(float32[1,768]), ShapedArray(float32[1,768,3072]), ShapedArray(float32[1,3072,768]), ShapedArray(float32[1,768]), ShapedArray(float32[1,768,768]), ShapedArray(float32[1,768,768]), ShapedArray(float32[1,768,768]), ShapedArray(float32[1,768,768]), ShapedArray(float32[1,768]), ShapedArray(float32[1,768,768]), ShapedArray(float32[1,768,768]), ShapedArray(float32[1,768,768]), ShapedArray(float32[1,768,768]), ShapedArray(float32[1,768]), ShapedArray(float32[1,768,3072]), ShapedArray(float32[1,3072,768]), ShapedArray(float32[1,768]), ShapedArray(float32[1,768,768]), ShapedArray(float32[1,768,768]), ShapedArray(float32[1,768,768]), ShapedArray(float32[1,768,768]), ShapedArray(float32[1,768]), ShapedArray(float32[1,768,768]), ShapedArray(float32[1,768,768]), ShapedArray(float32[1,768,768]), ShapedArray(float32[1,768,768]), ShapedArray(float32[1,768]), ShapedArray(float32[1,768,3072]), ShapedArray(float32[1,3072,768]), ShapedArray(float32[1,768]), ShapedArray(float32[1,768,768]), ShapedArray(float32[1,768,768]), ShapedArray(float32[1,768,768]), ShapedArray(float32[1,768,768]), ShapedArray(float32[1,768]), ShapedArray(float32[1,768,768]), ShapedArray(float32[1,768,768]), ShapedArray(float32[1,768,768]), ShapedArray(float32[1,768,768]), ShapedArray(float32[1,768]), ShapedArray(float32[1,768,3072]), ShapedArray(float32[1,3072,768]), ShapedArray(float32[1,768]), ShapedArray(float32[1,768,768]), ShapedArray(float32[1,768,768]), ShapedArray(float32[1,768,768]), ShapedArray(float32[1,768,768]), ShapedArray(float32[1,768]), ShapedArray(float32[1,768,768]), ShapedArray(float32[1,768,768]), ShapedArray(float32[1,768,768]), ShapedArray(float32[1,768,768]), ShapedArray(float32[1,768]), ShapedArray(float32[1,768,3072]), ShapedArray(float32[1,3072,768]), ShapedArray(float32[1,768]), ShapedArray(float32[1,768,768]), ShapedArray(float32[1,768,768]), ShapedArray(float32[1,768,768]), ShapedArray(float32[1,768,768]), ShapedArray(float32[1,768]), ShapedArray(float32[1,768,768]), ShapedArray(float32[1,768,768]), ShapedArray(float32[1,768,768]), ShapedArray(float32[1,768,768]), ShapedArray(float32[1,768]), ShapedArray(float32[1,768,3072]), ShapedArray(float32[1,3072,768]), ShapedArray(float32[1,768]), ShapedArray(float32[1,768,768]), ShapedArray(float32[1,768,768]), ShapedArray(float32[1,768,768]), ShapedArray(float32[1,768,768]), ShapedArray(float32[1,768]), ShapedArray(float32[1,768,768]), ShapedArray(float32[1,768,768]), ShapedArray(float32[1,768,768]), ShapedArray(float32[1,768,768]), ShapedArray(float32[1,768]), ShapedArray(float32[1,768,3072]), ShapedArray(float32[1,3072,768]), ShapedArray(float32[1,768]), ShapedArray(float32[1,768,768]), ShapedArray(float32[1,768,768]), ShapedArray(float32[1,768,768]), ShapedArray(float32[1,768,768]), ShapedArray(float32[1,768]), ShapedArray(float32[1,768,768]), ShapedArray(float32[1,768,768]), ShapedArray(float32[1,768,768]), ShapedArray(float32[1,768,768]), ShapedArray(float32[1,768]), ShapedArray(float32[1,768,3072]), ShapedArray(float32[1,3072,768]), ShapedArray(float32[1,768]), ShapedArray(float32[1,768,768]), ShapedArray(float32[1,768,768]), ShapedArray(float32[1,768,768]), ShapedArray(float32[1,768,768]), ShapedArray(float32[1,768]), ShapedArray(float32[1,768,768]), ShapedArray(float32[1,768,768]), ShapedArray(float32[1,768,768]), ShapedArray(float32[1,768,768]), ShapedArray(float32[1,768]), ShapedArray(float32[1,768,3072]), ShapedArray(float32[1,3072,768]), ShapedArray(float32[1,768]), ShapedArray(float32[1,768,768]), ShapedArray(float32[1,768,768]), ShapedArray(float32[1,768,768]), ShapedArray(float32[1,768,768]), ShapedArray(float32[1,768]), ShapedArray(float32[1,768,768]), ShapedArray(float32[1,768,768]), ShapedArray(float32[1,768,768]), ShapedArray(float32[1,768,768]), ShapedArray(float32[1,768]), ShapedArray(float32[1,768,3072]), ShapedArray(float32[1,3072,768]), ShapedArray(float32[1,768]), ShapedArray(float32[1,768]), ShapedArray(float32[1,768,768]), ShapedArray(float32[1,768,768]), ShapedArray(float32[1,768,768]), ShapedArray(float32[1,32,12]), ShapedArray(float32[1,768,768]), ShapedArray(float32[1,768]), ShapedArray(float32[1,768,3072]), ShapedArray(float32[1,3072,768]), ShapedArray(float32[1,768]), ShapedArray(float32[1,768,768]), ShapedArray(float32[1,768,768]), ShapedArray(float32[1,768,768]), ShapedArray(float32[1,768,768]), ShapedArray(float32[1,768]), ShapedArray(float32[1,768,3072]), ShapedArray(float32[1,3072,768]), ShapedArray(float32[1,768]), ShapedArray(float32[1,768,768]), ShapedArray(float32[1,768,768]), ShapedArray(float32[1,768,768]), ShapedArray(float32[1,768,768]), ShapedArray(float32[1,768]), ShapedArray(float32[1,768,3072]), ShapedArray(float32[1,3072,768]), ShapedArray(float32[1,768]), ShapedArray(float32[1,768,768]), ShapedArray(float32[1,768,768]), ShapedArray(float32[1,768,768]), ShapedArray(float32[1,768,768]), ShapedArray(float32[1,768]), ShapedArray(float32[1,768,3072]), ShapedArray(float32[1,3072,768]), ShapedArray(float32[1,768]), ShapedArray(float32[1,768,768]), ShapedArray(float32[1,768,768]), ShapedArray(float32[1,768,768]), ShapedArray(float32[1,768,768]), ShapedArray(float32[1,768]), ShapedArray(float32[1,768,3072]), ShapedArray(float32[1,3072,768]), ShapedArray(float32[1,768]), ShapedArray(float32[1,768,768]), ShapedArray(float32[1,768,768]), ShapedArray(float32[1,768,768]), ShapedArray(float32[1,768,768]), ShapedArray(float32[1,768]), ShapedArray(float32[1,768,3072]), ShapedArray(float32[1,3072,768]), ShapedArray(float32[1,768]), ShapedArray(float32[1,768,768]), ShapedArray(float32[1,768,768]), ShapedArray(float32[1,768,768]), ShapedArray(float32[1,768,768]), ShapedArray(float32[1,768]), ShapedArray(float32[1,768,3072]), ShapedArray(float32[1,3072,768]), ShapedArray(float32[1,768]), ShapedArray(float32[1,768,768]), ShapedArray(float32[1,768,768]), ShapedArray(float32[1,768,768]), ShapedArray(float32[1,768,768]), ShapedArray(float32[1,768]), ShapedArray(float32[1,768,3072]), ShapedArray(float32[1,3072,768]), ShapedArray(float32[1,768]), ShapedArray(float32[1,768,768]), ShapedArray(float32[1,768,768]), ShapedArray(float32[1,768,768]), ShapedArray(float32[1,768,768]), ShapedArray(float32[1,768]), ShapedArray(float32[1,768,3072]), ShapedArray(float32[1,3072,768]), ShapedArray(float32[1,768]), ShapedArray(float32[1,768,768]), ShapedArray(float32[1,768,768]), ShapedArray(float32[1,768,768]), ShapedArray(float32[1,768,768]), ShapedArray(float32[1,768]), ShapedArray(float32[1,768,3072]), ShapedArray(float32[1,3072,768]), ShapedArray(float32[1,768]), ShapedArray(float32[1,768,768]), ShapedArray(float32[1,768,768]), ShapedArray(float32[1,768,768]), ShapedArray(float32[1,768,768]), ShapedArray(float32[1,768]), ShapedArray(float32[1,768,3072]), ShapedArray(float32[1,3072,768]), ShapedArray(float32[1,768]), ShapedArray(float32[1,768,768]), ShapedArray(float32[1,768,768]), ShapedArray(float32[1,768,768]), ShapedArray(float32[1,768,768]), ShapedArray(float32[1,768]), ShapedArray(float32[1,768,3072]), ShapedArray(float32[1,3072,768]), ShapedArray(float32[1,768]), ShapedArray(float32[1,768]), ShapedArray(float32[1,32128,768]), ShapedArray(int32[1]), ShapedArray(float32[1,768,768]), ShapedArray(float32[1,768,768]), ShapedArray(float32[1,768,768]), ShapedArray(float32[1,32,12]), ShapedArray(float32[1,768,768]), ShapedArray(float32[1,768]), ShapedArray(float32[1,768,768]), ShapedArray(float32[1,768,768]), ShapedArray(float32[1,768,768]), ShapedArray(float32[1,768,768]), ShapedArray(float32[1,768]), ShapedArray(float32[1,768,3072]), ShapedArray(float32[1,3072,768]), ShapedArray(float32[1,768]), ShapedArray(float32[1,768,768]), ShapedArray(float32[1,768,768]), ShapedArray(float32[1,768,768]), ShapedArray(float32[1,768,768]), ShapedArray(float32[1,768]), ShapedArray(float32[1,768,768]), ShapedArray(float32[1,768,768]), ShapedArray(float32[1,768,768]), ShapedArray(float32[1,768,768]), ShapedArray(float32[1,768]), ShapedArray(float32[1,768,3072]), ShapedArray(float32[1,3072,768]), ShapedArray(float32[1,768]), ShapedArray(float32[1,768,768]), ShapedArray(float32[1,768,768]), ShapedArray(float32[1,768,768]), ShapedArray(float32[1,768,768]), ShapedArray(float32[1,768]), ShapedArray(float32[1,768,768]), ShapedArray(float32[1,768,768]), ShapedArray(float32[1,768,768]), ShapedArray(float32[1,768,768]), ShapedArray(float32[1,768]), ShapedArray(float32[1,768,3072]), ShapedArray(float32[1,3072,768]), ShapedArray(float32[1,768]), ShapedArray(float32[1,768,768]), ShapedArray(float32[1,768,768]), ShapedArray(float32[1,768,768]), ShapedArray(float32[1,768,768]), ShapedArray(float32[1,768]), ShapedArray(float32[1,768,768]), ShapedArray(float32[1,768,768]), ShapedArray(float32[1,768,768]), ShapedArray(float32[1,768,768]), ShapedArray(float32[1,768]), ShapedArray(float32[1,768,3072]), ShapedArray(float32[1,3072,768]), ShapedArray(float32[1,768]), ShapedArray(float32[1,768,768]), ShapedArray(float32[1,768,768]), ShapedArray(float32[1,768,768]), ShapedArray(float32[1,768,768]), ShapedArray(float32[1,768]), ShapedArray(float32[1,768,768]), ShapedArray(float32[1,768,768]), ShapedArray(float32[1,768,768]), ShapedArray(float32[1,768,768]), ShapedArray(float32[1,768]), ShapedArray(float32[1,768,3072]), ShapedArray(float32[1,3072,768]), ShapedArray(float32[1,768]), ShapedArray(float32[1,768,768]), ShapedArray(float32[1,768,768]), ShapedArray(float32[1,768,768]), ShapedArray(float32[1,768,768]), ShapedArray(float32[1,768]), ShapedArray(float32[1,768,768]), ShapedArray(float32[1,768,768]), ShapedArray(float32[1,768,768]), ShapedArray(float32[1,768,768]), ShapedArray(float32[1,768]), ShapedArray(float32[1,768,3072]), ShapedArray(float32[1,3072,768]), ShapedArray(float32[1,768]), ShapedArray(float32[1,768,768]), ShapedArray(float32[1,768,768]), ShapedArray(float32[1,768,768]), ShapedArray(float32[1,768,768]), ShapedArray(float32[1,768]), ShapedArray(float32[1,768,768]), ShapedArray(float32[1,768,768]), ShapedArray(float32[1,768,768]), ShapedArray(float32[1,768,768]), ShapedArray(float32[1,768]), ShapedArray(float32[1,768,3072]), ShapedArray(float32[1,3072,768]), ShapedArray(float32[1,768]), ShapedArray(float32[1,768,768]), ShapedArray(float32[1,768,768]), ShapedArray(float32[1,768,768]), ShapedArray(float32[1,768,768]), ShapedArray(float32[1,768]), ShapedArray(float32[1,768,768]), ShapedArray(float32[1,768,768]), ShapedArray(float32[1,768,768]), ShapedArray(float32[1,768,768]), ShapedArray(float32[1,768]), ShapedArray(float32[1,768,3072]), ShapedArray(float32[1,3072,768]), ShapedArray(float32[1,768]), ShapedArray(float32[1,768,768]), ShapedArray(float32[1,768,768]), ShapedArray(float32[1,768,768]), ShapedArray(float32[1,768,768]), ShapedArray(float32[1,768]), ShapedArray(float32[1,768,768]), ShapedArray(float32[1,768,768]), ShapedArray(float32[1,768,768]), ShapedArray(float32[1,768,768]), ShapedArray(float32[1,768]), ShapedArray(float32[1,768,3072]), ShapedArray(float32[1,3072,768]), ShapedArray(float32[1,768]), ShapedArray(float32[1,768,768]), ShapedArray(float32[1,768,768]), ShapedArray(float32[1,768,768]), ShapedArray(float32[1,768,768]), ShapedArray(float32[1,768]), ShapedArray(float32[1,768,768]), ShapedArray(float32[1,768,768]), ShapedArray(float32[1,768,768]), ShapedArray(float32[1,768,768]), ShapedArray(float32[1,768]), ShapedArray(float32[1,768,3072]), ShapedArray(float32[1,3072,768]), ShapedArray(float32[1,768]), ShapedArray(float32[1,768,768]), ShapedArray(float32[1,768,768]), ShapedArray(float32[1,768,768]), ShapedArray(float32[1,768,768]), ShapedArray(float32[1,768]), ShapedArray(float32[1,768,768]), ShapedArray(float32[1,768,768]), ShapedArray(float32[1,768,768]), ShapedArray(float32[1,768,768]), ShapedArray(float32[1,768]), ShapedArray(float32[1,768,3072]), ShapedArray(float32[1,3072,768]), ShapedArray(float32[1,768]), ShapedArray(float32[1,768,768]), ShapedArray(float32[1,768,768]), ShapedArray(float32[1,768,768]), ShapedArray(float32[1,768,768]), ShapedArray(float32[1,768]), ShapedArray(float32[1,768,768]), ShapedArray(float32[1,768,768]), ShapedArray(float32[1,768,768]), ShapedArray(float32[1,768,768]), ShapedArray(float32[1,768]), ShapedArray(float32[1,768,3072]), ShapedArray(float32[1,3072,768]), ShapedArray(float32[1,768]), ShapedArray(float32[1,768]), ShapedArray(float32[1,768,768]), ShapedArray(float32[1,768,768]), ShapedArray(float32[1,768,768]), ShapedArray(float32[1,32,12]), ShapedArray(float32[1,768,768]), ShapedArray(float32[1,768]), ShapedArray(float32[1,768,3072]), ShapedArray(float32[1,3072,768]), ShapedArray(float32[1,768]), ShapedArray(float32[1,768,768]), ShapedArray(float32[1,768,768]), ShapedArray(float32[1,768,768]), ShapedArray(float32[1,768,768]), ShapedArray(float32[1,768]), ShapedArray(float32[1,768,3072]), ShapedArray(float32[1,3072,768]), ShapedArray(float32[1,768]), ShapedArray(float32[1,768,768]), ShapedArray(float32[1,768,768]), ShapedArray(float32[1,768,768]), ShapedArray(float32[1,768,768]), ShapedArray(float32[1,768]), ShapedArray(float32[1,768,3072]), ShapedArray(float32[1,3072,768]), ShapedArray(float32[1,768]), ShapedArray(float32[1,768,768]), ShapedArray(float32[1,768,768]), ShapedArray(float32[1,768,768]), ShapedArray(float32[1,768,768]), ShapedArray(float32[1,768]), ShapedArray(float32[1,768,3072]), ShapedArray(float32[1,3072,768]), ShapedArray(float32[1,768]), ShapedArray(float32[1,768,768]), ShapedArray(float32[1,768,768]), ShapedArray(float32[1,768,768]), ShapedArray(float32[1,768,768]), ShapedArray(float32[1,768]), ShapedArray(float32[1,768,3072]), ShapedArray(float32[1,3072,768]), ShapedArray(float32[1,768]), ShapedArray(float32[1,768,768]), ShapedArray(float32[1,768,768]), ShapedArray(float32[1,768,768]), ShapedArray(float32[1,768,768]), ShapedArray(float32[1,768]), ShapedArray(float32[1,768,3072]), ShapedArray(float32[1,3072,768]), ShapedArray(float32[1,768]), ShapedArray(float32[1,768,768]), ShapedArray(float32[1,768,768]), ShapedArray(float32[1,768,768]), ShapedArray(float32[1,768,768]), ShapedArray(float32[1,768]), ShapedArray(float32[1,768,3072]), ShapedArray(float32[1,3072,768]), ShapedArray(float32[1,768]), ShapedArray(float32[1,768,768]), ShapedArray(float32[1,768,768]), ShapedArray(float32[1,768,768]), ShapedArray(float32[1,768,768]), ShapedArray(float32[1,768]), ShapedArray(float32[1,768,3072]), ShapedArray(float32[1,3072,768]), ShapedArray(float32[1,768]), ShapedArray(float32[1,768,768]), ShapedArray(float32[1,768,768]), ShapedArray(float32[1,768,768]), ShapedArray(float32[1,768,768]), ShapedArray(float32[1,768]), ShapedArray(float32[1,768,3072]), ShapedArray(float32[1,3072,768]), ShapedArray(float32[1,768]), ShapedArray(float32[1,768,768]), ShapedArray(float32[1,768,768]), ShapedArray(float32[1,768,768]), ShapedArray(float32[1,768,768]), ShapedArray(float32[1,768]), ShapedArray(float32[1,768,3072]), ShapedArray(float32[1,3072,768]), ShapedArray(float32[1,768]), ShapedArray(float32[1,768,768]), ShapedArray(float32[1,768,768]), ShapedArray(float32[1,768,768]), ShapedArray(float32[1,768,768]), ShapedArray(float32[1,768]), ShapedArray(float32[1,768,3072]), ShapedArray(float32[1,3072,768]), ShapedArray(float32[1,768]), ShapedArray(float32[1,768,768]), ShapedArray(float32[1,768,768]), ShapedArray(float32[1,768,768]), ShapedArray(float32[1,768,768]), ShapedArray(float32[1,768]), ShapedArray(float32[1,768,3072]), ShapedArray(float32[1,3072,768]), ShapedArray(float32[1,768]), ShapedArray(float32[1,768]), ShapedArray(float32[1,32128,768]), ShapedArray(float32[1,768,768]), ShapedArray(float32[1,768,768]), ShapedArray(float32[1,768,768]), ShapedArray(float32[1,32,12]), ShapedArray(float32[1,768,768]), ShapedArray(float32[1,768]), ShapedArray(float32[1,768,768]), ShapedArray(float32[1,768,768]), ShapedArray(float32[1,768,768]), ShapedArray(float32[1,768,768]), ShapedArray(float32[1,768]), ShapedArray(float32[1,768,3072]), ShapedArray(float32[1,3072,768]), ShapedArray(float32[1,768]), ShapedArray(float32[1,768,768]), ShapedArray(float32[1,768,768]), ShapedArray(float32[1,768,768]), ShapedArray(float32[1,768,768]), ShapedArray(float32[1,768]), ShapedArray(float32[1,768,768]), ShapedArray(float32[1,768,768]), ShapedArray(float32[1,768,768]), ShapedArray(float32[1,768,768]), ShapedArray(float32[1,768]), ShapedArray(float32[1,768,3072]), ShapedArray(float32[1,3072,768]), ShapedArray(float32[1,768]), ShapedArray(float32[1,768,768]), ShapedArray(float32[1,768,768]), ShapedArray(float32[1,768,768]), ShapedArray(float32[1,768,768]), ShapedArray(float32[1,768]), ShapedArray(float32[1,768,768]), ShapedArray(float32[1,768,768]), ShapedArray(float32[1,768,768]), ShapedArray(float32[1,768,768]), ShapedArray(float32[1,768]), ShapedArray(float32[1,768,3072]), ShapedArray(float32[1,3072,768]), ShapedArray(float32[1,768]), ShapedArray(float32[1,768,768]), ShapedArray(float32[1,768,768]), ShapedArray(float32[1,768,768]), ShapedArray(float32[1,768,768]), ShapedArray(float32[1,768]), ShapedArray(float32[1,768,768]), ShapedArray(float32[1,768,768]), ShapedArray(float32[1,768,768]), ShapedArray(float32[1,768,768]), ShapedArray(float32[1,768]), ShapedArray(float32[1,768,3072]), ShapedArray(float32[1,3072,768]), ShapedArray(float32[1,768]), ShapedArray(float32[1,768,768]), ShapedArray(float32[1,768,768]), ShapedArray(float32[1,768,768]), ShapedArray(float32[1,768,768]), ShapedArray(float32[1,768]), ShapedArray(float32[1,768,768]), ShapedArray(float32[1,768,768]), ShapedArray(float32[1,768,768]), ShapedArray(float32[1,768,768]), ShapedArray(float32[1,768]), ShapedArray(float32[1,768,3072]), ShapedArray(float32[1,3072,768]), ShapedArray(float32[1,768]), ShapedArray(float32[1,768,768]), ShapedArray(float32[1,768,768]), ShapedArray(float32[1,768,768]), ShapedArray(float32[1,768,768]), ShapedArray(float32[1,768]), ShapedArray(float32[1,768,768]), ShapedArray(float32[1,768,768]), ShapedArray(float32[1,768,768]), ShapedArray(float32[1,768,768]), ShapedArray(float32[1,768]), ShapedArray(float32[1,768,3072]), ShapedArray(float32[1,3072,768]), ShapedArray(float32[1,768]), ShapedArray(float32[1,768,768]), ShapedArray(float32[1,768,768]), ShapedArray(float32[1,768,768]), ShapedArray(float32[1,768,768]), ShapedArray(float32[1,768]), ShapedArray(float32[1,768,768]), ShapedArray(float32[1,768,768]), ShapedArray(float32[1,768,768]), ShapedArray(float32[1,768,768]), ShapedArray(float32[1,768]), ShapedArray(float32[1,768,3072]), ShapedArray(float32[1,3072,768]), ShapedArray(float32[1,768]), ShapedArray(float32[1,768,768]), ShapedArray(float32[1,768,768]), ShapedArray(float32[1,768,768]), ShapedArray(float32[1,768,768]), ShapedArray(float32[1,768]), ShapedArray(float32[1,768,768]), ShapedArray(float32[1,768,768]), ShapedArray(float32[1,768,768]), ShapedArray(float32[1,768,768]), ShapedArray(float32[1,768]), ShapedArray(float32[1,768,3072]), ShapedArray(float32[1,3072,768]), ShapedArray(float32[1,768]), ShapedArray(float32[1,768,768]), ShapedArray(float32[1,768,768]), ShapedArray(float32[1,768,768]), ShapedArray(float32[1,768,768]), ShapedArray(float32[1,768]), ShapedArray(float32[1,768,768]), ShapedArray(float32[1,768,768]), ShapedArray(float32[1,768,768]), ShapedArray(float32[1,768,768]), ShapedArray(float32[1,768]), ShapedArray(float32[1,768,3072]), ShapedArray(float32[1,3072,768]), ShapedArray(float32[1,768]), ShapedArray(float32[1,768,768]), ShapedArray(float32[1,768,768]), ShapedArray(float32[1,768,768]), ShapedArray(float32[1,768,768]), ShapedArray(float32[1,768]), ShapedArray(float32[1,768,768]), ShapedArray(float32[1,768,768]), ShapedArray(float32[1,768,768]), ShapedArray(float32[1,768,768]), ShapedArray(float32[1,768]), ShapedArray(float32[1,768,3072]), ShapedArray(float32[1,3072,768]), ShapedArray(float32[1,768]), ShapedArray(float32[1,768,768]), ShapedArray(float32[1,768,768]), ShapedArray(float32[1,768,768]), ShapedArray(float32[1,768,768]), ShapedArray(float32[1,768]), ShapedArray(float32[1,768,768]), ShapedArray(float32[1,768,768]), ShapedArray(float32[1,768,768]), ShapedArray(float32[1,768,768]), ShapedArray(float32[1,768]), ShapedArray(float32[1,768,3072]), ShapedArray(float32[1,3072,768]), ShapedArray(float32[1,768]), ShapedArray(float32[1,768,768]), ShapedArray(float32[1,768,768]), ShapedArray(float32[1,768,768]), ShapedArray(float32[1,768,768]), ShapedArray(float32[1,768]), ShapedArray(float32[1,768,768]), ShapedArray(float32[1,768,768]), ShapedArray(float32[1,768,768]), ShapedArray(float32[1,768,768]), ShapedArray(float32[1,768]), ShapedArray(float32[1,768,3072]), ShapedArray(float32[1,3072,768]), ShapedArray(float32[1,768]), ShapedArray(float32[1,768]), ShapedArray(float32[1,768,768]), ShapedArray(float32[1,768,768]), ShapedArray(float32[1,768,768]), ShapedArray(float32[1,32,12]), ShapedArray(float32[1,768,768]), ShapedArray(float32[1,768]), ShapedArray(float32[1,768,3072]), ShapedArray(float32[1,3072,768]), ShapedArray(float32[1,768]), ShapedArray(float32[1,768,768]), ShapedArray(float32[1,768,768]), ShapedArray(float32[1,768,768]), ShapedArray(float32[1,768,768]), ShapedArray(float32[1,768]), ShapedArray(float32[1,768,3072]), ShapedArray(float32[1,3072,768]), ShapedArray(float32[1,768]), ShapedArray(float32[1,768,768]), ShapedArray(float32[1,768,768]), ShapedArray(float32[1,768,768]), ShapedArray(float32[1,768,768]), ShapedArray(float32[1,768]), ShapedArray(float32[1,768,3072]), ShapedArray(float32[1,3072,768]), ShapedArray(float32[1,768]), ShapedArray(float32[1,768,768]), ShapedArray(float32[1,768,768]), ShapedArray(float32[1,768,768]), ShapedArray(float32[1,768,768]), ShapedArray(float32[1,768]), ShapedArray(float32[1,768,3072]), ShapedArray(float32[1,3072,768]), ShapedArray(float32[1,768]), ShapedArray(float32[1,768,768]), ShapedArray(float32[1,768,768]), ShapedArray(float32[1,768,768]), ShapedArray(float32[1,768,768]), ShapedArray(float32[1,768]), ShapedArray(float32[1,768,3072]), ShapedArray(float32[1,3072,768]), ShapedArray(float32[1,768]), ShapedArray(float32[1,768,768]), ShapedArray(float32[1,768,768]), ShapedArray(float32[1,768,768]), ShapedArray(float32[1,768,768]), ShapedArray(float32[1,768]), ShapedArray(float32[1,768,3072]), ShapedArray(float32[1,3072,768]), ShapedArray(float32[1,768]), ShapedArray(float32[1,768,768]), ShapedArray(float32[1,768,768]), ShapedArray(float32[1,768,768]), ShapedArray(float32[1,768,768]), ShapedArray(float32[1,768]), ShapedArray(float32[1,768,3072]), ShapedArray(float32[1,3072,768]), ShapedArray(float32[1,768]), ShapedArray(float32[1,768,768]), ShapedArray(float32[1,768,768]), ShapedArray(float32[1,768,768]), ShapedArray(float32[1,768,768]), ShapedArray(float32[1,768]), ShapedArray(float32[1,768,3072]), ShapedArray(float32[1,3072,768]), ShapedArray(float32[1,768]), ShapedArray(float32[1,768,768]), ShapedArray(float32[1,768,768]), ShapedArray(float32[1,768,768]), ShapedArray(float32[1,768,768]), ShapedArray(float32[1,768]), ShapedArray(float32[1,768,3072]), ShapedArray(float32[1,3072,768]), ShapedArray(float32[1,768]), ShapedArray(float32[1,768,768]), ShapedArray(float32[1,768,768]), ShapedArray(float32[1,768,768]), ShapedArray(float32[1,768,768]), ShapedArray(float32[1,768]), ShapedArray(float32[1,768,3072]), ShapedArray(float32[1,3072,768]), ShapedArray(float32[1,768]), ShapedArray(float32[1,768,768]), ShapedArray(float32[1,768,768]), ShapedArray(float32[1,768,768]), ShapedArray(float32[1,768,768]), ShapedArray(float32[1,768]), ShapedArray(float32[1,768,3072]), ShapedArray(float32[1,3072,768]), ShapedArray(float32[1,768]), ShapedArray(float32[1,768,768]), ShapedArray(float32[1,768,768]), ShapedArray(float32[1,768,768]), ShapedArray(float32[1,768,768]), ShapedArray(float32[1,768]), ShapedArray(float32[1,768,3072]), ShapedArray(float32[1,3072,768]), ShapedArray(float32[1,768]), ShapedArray(float32[1,768]), ShapedArray(float32[1,32128,768]), ShapedArray(int32[1]), ShapedArray(uint8[1,19,512]), ShapedArray(uint8[1,19,512]), ShapedArray(uint16[1,19,512]), ShapedArray(uint16[1,19,512]), ShapedArray(uint16[1,19,512]), ShapedArray(uint32[1,2])). (num_replicas=1 num_partitions=1)\n",
            "WARNING:absl:Compiling _multi_slice (140031154900096) for args (ShapedArray(uint8[1,19,512]),).\n",
            "WARNING:absl:Compiling _multi_slice (140015638866672) for args (ShapedArray(uint16[1,19,512]),).\n",
            "WARNING:absl:Compiling _multi_slice (140015541704176) for args (ShapedArray(uint32[1,2]),).\n",
            "WARNING:absl:Compiling _mean (140015639435696) for args (ShapedArray(float32[]),).\n"
          ]
        },
        {
          "metadata": {
            "tags": null
          },
          "name": "stdout",
          "output_type": "stream",
          "text": [
            "Done.  First loss was 1.6200339\n"
          ]
        }
      ],
      "source": [
        "# these are not t5 parameters?\n",
        "linear_decay_lr_schedule_fn = optax.linear_schedule(init_value=learning_rate, end_value=0, transition_steps=num_train_steps)\n",
        "adamw = optax.adamw(learning_rate=linear_decay_lr_schedule_fn, b1=0.9, b2=0.98, eps=1e-8, weight_decay=0.01)\n",
        "state = flax.training.train_state.TrainState.create(apply_fn=model.__call__, params=model.params, tx=adamw)\n",
        "\n",
        "jax.config.update('jax_log_compiles', True)\n",
        "\n",
        "\n",
        "# from run_t5_mlm_flax.py\n",
        "dropout_rngs = jax.random.split(rng, jax.local_device_count())\n",
        "\n",
        "# Define gradient update step fn\n",
        "def train_step(state, batch, dropout_rng):#input_ids, attention_mask, labels, decoder_input_ids, decoder_attention_mask, dropout_rng):\n",
        "    dropout_rng, new_dropout_rng = jax.random.split(dropout_rng)\n",
        "    def loss_fn(params):\n",
        "        labels = batch.pop('labels')\n",
        "\n",
        "        #logits = state.apply_fn(\n",
        "        #    input_ids = input_ids,\n",
        "        #    attention_mask = attention_mask,\n",
        "        #    decoder_input_ids = decoder_input_ids,\n",
        "        #    decoder_attention_mask = decoder_attention_mask,\n",
        "        #    params = params,\n",
        "        #    dropout_rng = dropout_rng,\n",
        "        #    train = True\n",
        "        #).logits\n",
        "        logits = state.apply_fn(**batch, params = params, dropout_rng = dropout_rng, train = True).logits\n",
        "        #print(logits.shape)\n",
        "        #assert len(logits[-1]) == tokenizer.vocab_size\n",
        "        #logits = logits[0]\n",
        "\n",
        "        # logits, labels, padding_mask=batch['decoder_attention_mask', label_smoothing_factor=0]\n",
        "        # compute loss\n",
        "        loss = optax.softmax_cross_entropy(logits, flax.training.common_utils.onehot(labels, logits.shape[-1]))\n",
        "        padding_mask = batch['decoder_attention_mask']\n",
        "        loss = (loss * padding_mask).sum() / padding_mask.sum()\n",
        "\n",
        "        #loss = state.apply_fn(**batch, params=params, dropout_rng=dropout_rng, train=True).loss\n",
        "\n",
        "        return loss\n",
        "\n",
        "    grad_fn = jax.value_and_grad(loss_fn)\n",
        "    loss, grad = grad_fn(state.params)\n",
        "    grad = jax.lax.pmean(grad, \"batch\")\n",
        "    new_state = state.apply_gradients(grads=grad)\n",
        "\n",
        "    metrics = jax.lax.pmean(\n",
        "        {\"loss\": loss, \"learning_rate\": linear_decay_lr_schedule_fn(state.step)}, axis_name=\"batch\"\n",
        "    )\n",
        "\n",
        "    return new_state, metrics, new_dropout_rng\n",
        "\n",
        "# Create parallel version of the train step\n",
        "p_train_step = jax.pmap(train_step, 'batch', donate_argnums=(0,), backend=backend)\n",
        "\n",
        "# Replicate the train state on each device\n",
        "state = flax.jax_utils.replicate(state)\n",
        "\n",
        "print('Performing initial batch to compile train step ...')\n",
        "rng, input_rng = jax.random.split(rng)\n",
        "num_train_samples = len(train_data['input_ids'])\n",
        "train_samples_idx = jax.random.permutation(input_rng, jnp.arange(num_train_samples))\n",
        "model_inputs = batch_from_indices(train_data, train_samples_idx[:train_batch_size])\n",
        "model_inputs = flax.training.common_utils.shard(model_inputs)\n",
        "state, train_metric, dropout_rngs = p_train_step(state, model_inputs, dropout_rng=dropout_rngs)\n",
        "train_metric = flax.jax_utils.unreplicate(train_metric)\n",
        "print('Done.  First loss was', train_metric['loss'].mean())"
      ]
    },
    {
      "cell_type": "code",
      "execution_count": null,
      "metadata": {
        "id": "doKKw-W345Zn",
        "outputId": "a3771d5d-62d5-43e1-e4a5-46cc31b345f7",
        "colab": {
          "base_uri": "https://localhost:8080/"
        }
      },
      "outputs": [
        {
          "metadata": {
            "tags": null
          },
          "name": "stderr",
          "output_type": "stream",
          "text": [
            "Epoch ... :   0%|          | 0/2 [00:00<?, ?it/s]\n",
            "Training...:   0%|          | 0/1715 [00:00<?, ?it/s]\u001b[A\n",
            "Training...:   0%|          | 1/1715 [01:14<35:20:52, 74.24s/it]\u001b[A\n",
            "Training...:   0%|          | 2/1715 [02:46<40:14:32, 84.57s/it]\u001b[A\n",
            "Training...:   0%|          | 3/1715 [04:01<38:08:36, 80.21s/it]\u001b[A\n",
            "Training...:   0%|          | 4/1715 [05:21<38:10:45, 80.33s/it]\u001b[A\n",
            "Training...:   0%|          | 5/1715 [06:36<37:11:22, 78.29s/it]\u001b[A\n",
            "Training...:   0%|          | 6/1715 [08:46<45:32:30, 95.93s/it]\u001b[A\n",
            "Training...:   0%|          | 7/1715 [10:12<44:02:25, 92.83s/it]\u001b[A\n",
            "Training...:   0%|          | 8/1715 [11:40<43:15:04, 91.22s/it]\u001b[A\n",
            "Training...:   1%|          | 9/1715 [13:09<42:50:01, 90.39s/it]\u001b[A\n",
            "Training...:   1%|          | 10/1715 [14:24<40:39:19, 85.84s/it]\u001b[A\n",
            "Training...:   1%|          | 11/1715 [17:06<51:34:28, 108.96s/it]\u001b[A\n",
            "Training...:   1%|          | 12/1715 [18:35<48:41:41, 102.94s/it]\u001b[A\n",
            "Training...:   1%|          | 13/1715 [19:58<45:37:48, 96.51s/it] \u001b[A\n",
            "Training...:   1%|          | 14/1715 [23:02<58:13:06, 123.21s/it]\u001b[A\n",
            "Training...:   1%|          | 15/1715 [24:32<53:32:19, 113.38s/it]\u001b[A\n",
            "Training...:   1%|          | 16/1715 [25:53<48:52:36, 103.56s/it]\u001b[A\n",
            "Training...:   1%|          | 17/1715 [27:14<45:41:30, 96.87s/it] \u001b[A\n",
            "Training...:   1%|          | 18/1715 [28:32<42:58:27, 91.17s/it]\u001b[A\n",
            "Training...:   1%|          | 19/1715 [29:49<40:55:29, 86.87s/it]\u001b[A\n",
            "Training...:   1%|          | 20/1715 [31:06<39:31:42, 83.95s/it]\u001b[A\n",
            "Training...:   1%|          | 21/1715 [32:23<38:31:18, 81.86s/it]\u001b[A\n",
            "Training...:   1%|▏         | 22/1715 [33:39<37:38:39, 80.05s/it]\u001b[A\n",
            "Training...:   1%|▏         | 23/1715 [34:56<37:10:16, 79.09s/it]\u001b[A\n",
            "Training...:   1%|▏         | 24/1715 [36:13<36:49:19, 78.39s/it]\u001b[A\n",
            "Training...:   1%|▏         | 25/1715 [37:29<36:28:11, 77.69s/it]\u001b[A\n",
            "Training...:   2%|▏         | 26/1715 [38:45<36:19:54, 77.44s/it]\u001b[A\n",
            "Training...:   2%|▏         | 27/1715 [40:02<36:13:56, 77.27s/it]\u001b[A\n",
            "Training...:   2%|▏         | 28/1715 [41:18<36:02:07, 76.90s/it]\u001b[A\n",
            "Training...:   2%|▏         | 29/1715 [42:35<35:58:23, 76.81s/it]\u001b[A\n",
            "Training...:   2%|▏         | 30/1715 [43:52<35:56:01, 76.77s/it]\u001b[A\n",
            "Training...:   2%|▏         | 31/1715 [45:08<35:53:21, 76.72s/it]\u001b[A\n",
            "\n",
            "Epoch ... :   0%|          | 0/2 [47:42<?, ?it/s]\n",
            "Training...:   2%|▏         | 32/1715 [47:42<35:51:01, 76.69s/it]\u001b[A"
          ]
        },
        {
          "metadata": {
            "tags": null
          },
          "name": "stdout",
          "output_type": "stream",
          "text": [
            "Loss: 1.8676849603652954, Learning Rate: 0.0002971137291751802\n"
          ]
        },
        {
          "metadata": {
            "tags": null
          },
          "name": "stderr",
          "output_type": "stream",
          "text": [
            "\n",
            "Training...:   2%|▏         | 33/1715 [48:26<42:02:16, 89.97s/it]\u001b[A\n",
            "Training...:   2%|▏         | 34/1715 [49:48<40:55:34, 87.65s/it]\u001b[A\n",
            "Training...:   2%|▏         | 35/1715 [51:06<39:30:46, 84.67s/it]\u001b[A\n",
            "Training...:   2%|▏         | 36/1715 [52:26<38:52:38, 83.36s/it]\u001b[A\n",
            "Training...:   2%|▏         | 37/1715 [53:43<37:57:39, 81.44s/it]\u001b[A\n",
            "Training...:   2%|▏         | 38/1715 [55:00<37:14:44, 79.96s/it]\u001b[A\n",
            "Training...:   2%|▏         | 39/1715 [56:17<36:50:47, 79.15s/it]\u001b[A\n",
            "Training...:   2%|▏         | 40/1715 [57:34<36:36:41, 78.69s/it]\u001b[A\n",
            "Training...:   2%|▏         | 41/1715 [58:52<36:27:48, 78.42s/it]\u001b[A\n",
            "Training...:   2%|▏         | 42/1715 [1:00:09<36:13:26, 77.95s/it]\u001b[A\n",
            "Training...:   3%|▎         | 43/1715 [1:01:26<36:07:42, 77.79s/it]\u001b[A\n",
            "Training...:   3%|▎         | 44/1715 [1:02:45<36:08:51, 77.88s/it]\u001b[A\n",
            "Training...:   3%|▎         | 45/1715 [1:04:02<36:00:59, 77.64s/it]\u001b[A\n",
            "Training...:   3%|▎         | 46/1715 [1:05:20<36:04:13, 77.80s/it]\u001b[A\n",
            "Training...:   3%|▎         | 47/1715 [1:06:37<35:53:45, 77.47s/it]\u001b[A\n",
            "Training...:   3%|▎         | 48/1715 [1:07:54<35:52:26, 77.47s/it]\u001b[A\n",
            "Training...:   3%|▎         | 49/1715 [1:09:12<35:56:47, 77.68s/it]\u001b[A\n",
            "Training...:   3%|▎         | 50/1715 [1:10:29<35:50:32, 77.50s/it]\u001b[A\n",
            "Training...:   3%|▎         | 51/1715 [1:11:47<35:47:58, 77.45s/it]\u001b[A\n",
            "Training...:   3%|▎         | 52/1715 [1:13:05<35:52:45, 77.67s/it]\u001b[A\n",
            "Training...:   3%|▎         | 53/1715 [1:14:23<35:46:51, 77.50s/it]\u001b[A\n",
            "Training...:   3%|▎         | 54/1715 [1:15:40<35:48:30, 77.61s/it]\u001b[A\n",
            "Training...:   3%|▎         | 55/1715 [1:16:58<35:51:46, 77.78s/it]\u001b[A\n",
            "Training...:   3%|▎         | 56/1715 [1:18:15<35:45:38, 77.60s/it]\u001b[A\n",
            "Training...:   3%|▎         | 57/1715 [1:19:33<35:47:02, 77.70s/it]\u001b[A\n",
            "Training...:   3%|▎         | 58/1715 [1:20:50<35:37:36, 77.40s/it]\u001b[A\n",
            "Training...:   3%|▎         | 59/1715 [1:22:07<35:37:06, 77.43s/it]\u001b[A\n",
            "Training...:   3%|▎         | 60/1715 [1:23:25<35:39:54, 77.58s/it]\u001b[A\n",
            "Training...:   4%|▎         | 61/1715 [1:24:42<35:33:24, 77.39s/it]\u001b[A\n",
            "Training...:   4%|▎         | 62/1715 [1:26:01<35:40:44, 77.70s/it]\u001b[A\n",
            "Training...:   4%|▎         | 63/1715 [1:27:19<35:44:09, 77.87s/it]\u001b[A\n",
            "\n",
            "Epoch ... :   0%|          | 0/2 [1:29:53<?, ?it/s]\n",
            "Training...:   4%|▎         | 64/1715 [1:29:53<35:35:53, 77.62s/it]\u001b[A"
          ]
        },
        {
          "metadata": {
            "tags": null
          },
          "name": "stdout",
          "output_type": "stream",
          "text": [
            "Loss: 1.1610958576202393, Learning Rate: 0.00029431487200781703\n"
          ]
        },
        {
          "metadata": {
            "tags": null
          },
          "name": "stderr",
          "output_type": "stream",
          "text": [
            "Several commits (2) will be pushed upstream.\n",
            "WARNING:huggingface_hub.repository:Several commits (2) will be pushed upstream.\n",
            "\n",
            "Training...:   4%|▍         | 65/1715 [1:30:42<42:12:48, 92.10s/it]\u001b[A\n",
            "Training...:   4%|▍         | 66/1715 [1:32:01<40:28:08, 88.35s/it]\u001b[A\n",
            "Training...:   4%|▍         | 67/1715 [1:33:19<38:57:26, 85.10s/it]\u001b[A\n",
            "Training...:   4%|▍         | 68/1715 [1:34:37<37:59:01, 83.02s/it]\u001b[A\n",
            "Training...:   4%|▍         | 69/1715 [1:35:55<37:19:56, 81.65s/it]\u001b[A\n",
            "Training...:   4%|▍         | 70/1715 [1:37:18<37:24:20, 81.86s/it]\u001b[A\n",
            "Training...:   4%|▍         | 71/1715 [1:38:39<37:14:11, 81.54s/it]\u001b[A\n",
            "Training...:   4%|▍         | 72/1715 [1:40:02<37:25:24, 82.00s/it]\u001b[A\n",
            "Training...:   4%|▍         | 73/1715 [1:41:22<37:06:26, 81.36s/it]\u001b[A\n",
            "Training...:   4%|▍         | 74/1715 [1:42:43<37:03:02, 81.28s/it]\u001b[A\n",
            "Training...:   4%|▍         | 75/1715 [1:44:02<36:48:59, 80.82s/it]\u001b[A\n",
            "Training...:   4%|▍         | 76/1715 [1:45:23<36:49:48, 80.90s/it]\u001b[A\n",
            "Training...:   4%|▍         | 77/1715 [1:46:43<36:37:57, 80.51s/it]\u001b[A\n",
            "Training...:   5%|▍         | 78/1715 [1:48:04<36:36:12, 80.50s/it]\u001b[A\n",
            "Training...:   5%|▍         | 79/1715 [1:49:23<36:25:42, 80.16s/it]\u001b[A\n",
            "Training...:   5%|▍         | 80/1715 [1:50:43<36:26:39, 80.24s/it]\u001b[A\n",
            "Training...:   5%|▍         | 81/1715 [1:52:03<36:18:17, 79.99s/it]\u001b[A\n",
            "Training...:   5%|▍         | 82/1715 [1:53:23<36:19:50, 80.09s/it]\u001b[A\n",
            "Training...:   5%|▍         | 83/1715 [1:54:44<36:23:57, 80.29s/it]\u001b[A\n",
            "Training...:   5%|▍         | 84/1715 [1:56:03<36:14:33, 80.00s/it]\u001b[A\n",
            "Training...:   5%|▍         | 85/1715 [1:57:23<36:12:49, 79.98s/it]\u001b[A\n",
            "Training...:   5%|▌         | 86/1715 [1:58:43<36:11:17, 79.97s/it]\u001b[A\n",
            "Training...:   5%|▌         | 87/1715 [2:00:02<36:01:48, 79.67s/it]\u001b[A\n",
            "Training...:   5%|▌         | 88/1715 [2:01:22<36:06:46, 79.91s/it]\u001b[A\n",
            "Training...:   5%|▌         | 89/1715 [2:02:42<36:04:59, 79.89s/it]\u001b[A\n",
            "Training...:   5%|▌         | 90/1715 [2:04:01<35:52:34, 79.48s/it]\u001b[A\n",
            "Training...:   5%|▌         | 91/1715 [2:05:20<35:48:59, 79.40s/it]\u001b[A\n",
            "Training...:   5%|▌         | 92/1715 [2:06:39<35:45:40, 79.32s/it]\u001b[A\n",
            "Training...:   5%|▌         | 93/1715 [2:07:58<35:44:11, 79.32s/it]\u001b[A\n",
            "Training...:   5%|▌         | 94/1715 [2:09:17<35:40:18, 79.22s/it]\u001b[A\n",
            "Training...:   6%|▌         | 95/1715 [2:10:37<35:42:20, 79.35s/it]\u001b[A\n",
            "\n",
            "Epoch ... :   0%|          | 0/2 [2:13:15<?, ?it/s]\n",
            "Training...:   6%|▌         | 96/1715 [2:13:15<35:33:30, 79.07s/it]\u001b[A"
          ]
        },
        {
          "metadata": {
            "tags": null
          },
          "name": "stdout",
          "output_type": "stream",
          "text": [
            "Loss: 1.648221492767334, Learning Rate: 0.0002915160439442843\n"
          ]
        },
        {
          "metadata": {
            "tags": null
          },
          "name": "stderr",
          "output_type": "stream",
          "text": [
            "Several commits (3) will be pushed upstream.\n",
            "WARNING:huggingface_hub.repository:Several commits (3) will be pushed upstream.\n",
            "\n",
            "Training...:   6%|▌         | 97/1715 [2:14:05<42:17:20, 94.09s/it]\u001b[A\n",
            "Training...:   6%|▌         | 98/1715 [2:15:41<42:36:00, 94.84s/it]\u001b[A\n",
            "Training...:   6%|▌         | 99/1715 [2:17:13<42:11:12, 93.98s/it]\u001b[A\n",
            "Training...:   6%|▌         | 100/1715 [2:18:50<42:35:29, 94.94s/it]\u001b[A\n",
            "Training...:   6%|▌         | 101/1715 [2:20:26<42:36:56, 95.05s/it]\u001b[A\n",
            "Training...:   6%|▌         | 102/1715 [2:21:59<42:19:28, 94.46s/it]\u001b[A\n",
            "Training...:   6%|▌         | 103/1715 [2:23:32<42:07:35, 94.08s/it]\u001b[A\n",
            "Training...:   6%|▌         | 104/1715 [2:25:07<42:10:10, 94.23s/it]\u001b[A\n",
            "Training...:   6%|▌         | 105/1715 [2:26:39<41:51:52, 93.61s/it]\u001b[A\n",
            "Training...:   6%|▌         | 106/1715 [2:28:14<42:01:56, 94.04s/it]\u001b[A\n",
            "Training...:   6%|▌         | 107/1715 [2:29:46<41:41:34, 93.34s/it]\u001b[A\n",
            "Training...:   6%|▋         | 108/1715 [2:31:18<41:32:47, 93.07s/it]\u001b[A\n",
            "Training...:   6%|▋         | 109/1715 [2:32:51<41:29:04, 92.99s/it]\u001b[A\n",
            "Training...:   6%|▋         | 110/1715 [2:34:24<41:31:55, 93.16s/it]\u001b[A\n",
            "Training...:   6%|▋         | 111/1715 [2:35:58<41:34:38, 93.32s/it]\u001b[A\n",
            "Training...:   7%|▋         | 112/1715 [2:37:27<40:55:26, 91.91s/it]\u001b[A\n",
            "Training...:   7%|▋         | 113/1715 [2:38:48<39:30:29, 88.78s/it]\u001b[A\n",
            "Training...:   7%|▋         | 114/1715 [2:40:09<38:23:45, 86.34s/it]\u001b[A\n",
            "Training...:   7%|▋         | 115/1715 [2:41:29<37:37:44, 84.67s/it]\u001b[A\n",
            "Training...:   7%|▋         | 116/1715 [2:42:49<36:58:09, 83.23s/it]\u001b[A\n",
            "Training...:   7%|▋         | 117/1715 [2:44:10<36:37:13, 82.50s/it]\u001b[A\n",
            "Training...:   7%|▋         | 118/1715 [2:45:32<36:28:08, 82.21s/it]\u001b[A\n",
            "Training...:   7%|▋         | 119/1715 [2:46:52<36:15:15, 81.78s/it]\u001b[A\n",
            "Training...:   7%|▋         | 120/1715 [2:48:14<36:09:06, 81.60s/it]\u001b[A\n",
            "Training...:   7%|▋         | 121/1715 [2:49:35<36:04:59, 81.49s/it]\u001b[A\n",
            "Training...:   7%|▋         | 122/1715 [2:50:55<35:49:21, 80.96s/it]\u001b[A\n",
            "Training...:   7%|▋         | 123/1715 [2:52:16<35:48:40, 80.98s/it]\u001b[A\n",
            "Training...:   7%|▋         | 124/1715 [2:53:35<35:34:18, 80.49s/it]\u001b[A\n",
            "Training...:   7%|▋         | 125/1715 [2:54:56<35:39:36, 80.74s/it]\u001b[A\n",
            "Training...:   7%|▋         | 126/1715 [2:56:18<35:44:24, 80.97s/it]\u001b[A\n",
            "Training...:   7%|▋         | 127/1715 [2:57:37<35:31:16, 80.53s/it]\u001b[A\n",
            "\n",
            "Epoch ... :   0%|          | 0/2 [3:00:20<?, ?it/s]\n",
            "Training...:   7%|▋         | 128/1715 [3:00:20<35:29:49, 80.52s/it]\u001b[A"
          ]
        },
        {
          "metadata": {
            "tags": null
          },
          "name": "stdout",
          "output_type": "stream",
          "text": [
            "Loss: 1.2823680639266968, Learning Rate: 0.0002887172158807516\n"
          ]
        },
        {
          "metadata": {
            "tags": null
          },
          "name": "stderr",
          "output_type": "stream",
          "text": [
            "Several commits (4) will be pushed upstream.\n",
            "WARNING:huggingface_hub.repository:Several commits (4) will be pushed upstream.\n",
            "\n",
            "Training...:   8%|▊         | 129/1715 [3:01:08<42:02:30, 95.43s/it]\u001b[A\n",
            "Training...:   8%|▊         | 130/1715 [3:02:43<41:58:27, 95.34s/it]\u001b[A\n",
            "Training...:   8%|▊         | 131/1715 [3:04:15<41:28:03, 94.24s/it]\u001b[A\n",
            "Training...:   8%|▊         | 132/1715 [3:05:45<40:53:57, 93.01s/it]\u001b[A\n",
            "Training...:   8%|▊         | 133/1715 [3:07:17<40:41:14, 92.59s/it]\u001b[A\n",
            "Training...:   8%|▊         | 134/1715 [3:08:45<40:07:52, 91.38s/it]\u001b[A\n",
            "Training...:   8%|▊         | 135/1715 [3:10:15<39:55:50, 90.98s/it]\u001b[A\n",
            "Training...:   8%|▊         | 136/1715 [3:11:44<39:33:58, 90.21s/it]\u001b[A\n",
            "Training...:   8%|▊         | 137/1715 [3:13:10<39:01:58, 89.05s/it]\u001b[A\n",
            "Training...:   8%|▊         | 138/1715 [3:14:30<37:48:01, 86.29s/it]\u001b[A\n",
            "Training...:   8%|▊         | 139/1715 [3:15:52<37:16:46, 85.16s/it]\u001b[A\n",
            "Training...:   8%|▊         | 140/1715 [3:17:12<36:32:46, 83.53s/it]\u001b[A\n",
            "Training...:   8%|▊         | 141/1715 [3:18:34<36:17:09, 82.99s/it]\u001b[A\n",
            "Training...:   8%|▊         | 142/1715 [3:19:58<36:25:47, 83.37s/it]\u001b[A\n",
            "Training...:   8%|▊         | 143/1715 [3:21:21<36:23:26, 83.34s/it]\u001b[A\n",
            "Training...:   8%|▊         | 144/1715 [3:22:41<35:56:40, 82.37s/it]\u001b[A\n",
            "Training...:   8%|▊         | 145/1715 [3:24:04<35:54:14, 82.33s/it]\u001b[A\n",
            "Training...:   9%|▊         | 146/1715 [3:25:27<36:04:53, 82.79s/it]\u001b[A\n",
            "Training...:   9%|▊         | 147/1715 [3:26:49<35:54:34, 82.45s/it]\u001b[A\n",
            "Training...:   9%|▊         | 148/1715 [3:28:10<35:37:39, 81.85s/it]\u001b[A\n",
            "Training...:   9%|▊         | 149/1715 [3:29:31<35:34:37, 81.79s/it]\u001b[A\n",
            "Training...:   9%|▊         | 150/1715 [3:30:56<35:52:50, 82.54s/it]\u001b[A\n",
            "Training...:   9%|▉         | 151/1715 [3:32:16<35:36:25, 81.96s/it]\u001b[A\n",
            "Training...:   9%|▉         | 152/1715 [3:33:38<35:32:01, 81.84s/it]\u001b[A\n",
            "Training...:   9%|▉         | 153/1715 [3:34:59<35:29:03, 81.78s/it]\u001b[A\n",
            "Training...:   9%|▉         | 154/1715 [3:36:21<35:24:50, 81.67s/it]\u001b[A\n",
            "Training...:   9%|▉         | 155/1715 [3:37:42<35:19:15, 81.51s/it]\u001b[A\n",
            "Training...:   9%|▉         | 156/1715 [3:39:03<35:17:07, 81.48s/it]\u001b[A\n",
            "Training...:   9%|▉         | 157/1715 [3:40:23<35:03:07, 80.99s/it]\u001b[A\n",
            "Training...:   9%|▉         | 158/1715 [3:41:44<35:02:47, 81.03s/it]\u001b[A\n",
            "Training...:   9%|▉         | 159/1715 [3:43:05<35:00:55, 81.01s/it]\u001b[A\n",
            "\n",
            "Epoch ... :   0%|          | 0/2 [3:45:46<?, ?it/s]\n",
            "Training...:   9%|▉         | 160/1715 [3:45:46<34:46:09, 80.50s/it]\u001b[A"
          ]
        },
        {
          "metadata": {
            "tags": null
          },
          "name": "stdout",
          "output_type": "stream",
          "text": [
            "Loss: 1.0252330303192139, Learning Rate: 0.0002859183878172189\n"
          ]
        },
        {
          "metadata": {
            "tags": null
          },
          "name": "stderr",
          "output_type": "stream",
          "text": [
            "\n",
            "Training...:   9%|▉         | 161/1715 [3:46:36<41:18:01, 95.68s/it]\u001b[A\n",
            "Training...:   9%|▉         | 162/1715 [3:48:11<41:15:24, 95.64s/it]\u001b[A\n",
            "Training...:  10%|▉         | 163/1715 [3:49:45<40:58:51, 95.06s/it]\u001b[A\n",
            "Training...:  10%|▉         | 164/1715 [3:51:17<40:30:45, 94.03s/it]\u001b[A\n",
            "Training...:  10%|▉         | 165/1715 [3:52:50<40:23:25, 93.81s/it]\u001b[A\n",
            "Training...:  10%|▉         | 166/1715 [3:54:22<40:12:00, 93.43s/it]\u001b[A\n",
            "Training...:  10%|▉         | 167/1715 [3:55:57<40:21:35, 93.86s/it]\u001b[A\n",
            "Training...:  10%|▉         | 168/1715 [3:57:28<39:56:06, 92.93s/it]\u001b[A\n",
            "Training...:  10%|▉         | 169/1715 [3:58:57<39:23:54, 91.74s/it]\u001b[A\n",
            "Training...:  10%|▉         | 170/1715 [4:00:19<38:07:22, 88.83s/it]\u001b[A\n",
            "Training...:  10%|▉         | 171/1715 [4:01:42<37:23:05, 87.17s/it]\u001b[A\n",
            "Training...:  10%|█         | 172/1715 [4:03:04<36:42:09, 85.63s/it]\u001b[A\n",
            "Training...:  10%|█         | 173/1715 [4:04:27<36:14:39, 84.62s/it]\u001b[A\n",
            "Training...:  10%|█         | 174/1715 [4:05:49<35:59:44, 84.09s/it]\u001b[A\n",
            "Training...:  10%|█         | 175/1715 [4:07:10<35:31:27, 83.04s/it]\u001b[A\n",
            "Training...:  10%|█         | 176/1715 [4:08:33<35:27:44, 82.95s/it]\u001b[A\n",
            "Training...:  10%|█         | 177/1715 [4:09:53<35:05:58, 82.16s/it]\u001b[A\n",
            "Training...:  10%|█         | 178/1715 [4:11:15<35:02:56, 82.09s/it]\u001b[A\n",
            "Training...:  10%|█         | 179/1715 [4:12:36<34:51:13, 81.69s/it]\u001b[A\n",
            "Training...:  10%|█         | 180/1715 [4:13:57<34:50:00, 81.69s/it]\u001b[A\n",
            "Training...:  11%|█         | 181/1715 [4:15:19<34:47:00, 81.63s/it]\u001b[A\n",
            "Training...:  11%|█         | 182/1715 [4:16:39<34:31:59, 81.10s/it]\u001b[A\n",
            "Training...:  11%|█         | 183/1715 [4:17:59<34:21:54, 80.75s/it]\u001b[A\n",
            "Training...:  11%|█         | 184/1715 [4:19:19<34:18:47, 80.68s/it]\u001b[A\n",
            "Training...:  11%|█         | 185/1715 [4:20:38<34:06:05, 80.24s/it]\u001b[A\n",
            "Training...:  11%|█         | 186/1715 [4:22:00<34:11:31, 80.50s/it]\u001b[A\n",
            "Training...:  11%|█         | 187/1715 [4:23:21<34:14:24, 80.67s/it]\u001b[A\n",
            "Training...:  11%|█         | 188/1715 [4:24:40<34:01:27, 80.21s/it]\u001b[A\n",
            "Training...:  11%|█         | 189/1715 [4:26:00<34:00:10, 80.22s/it]\u001b[A\n",
            "Training...:  11%|█         | 190/1715 [4:27:21<34:03:48, 80.41s/it]\u001b[A\n",
            "Training...:  11%|█         | 191/1715 [4:28:40<33:55:47, 80.15s/it]\u001b[A\n",
            "\n",
            "Epoch ... :   0%|          | 0/2 [4:31:21<?, ?it/s]\n",
            "Training...:  11%|█         | 192/1715 [4:31:21<33:54:36, 80.16s/it]\u001b[A"
          ]
        },
        {
          "metadata": {
            "tags": null
          },
          "name": "stdout",
          "output_type": "stream",
          "text": [
            "Loss: 0.8216526508331299, Learning Rate: 0.0002831195597536862\n"
          ]
        },
        {
          "metadata": {
            "tags": null
          },
          "name": "stderr",
          "output_type": "stream",
          "text": [
            "Several commits (2) will be pushed upstream.\n",
            "WARNING:huggingface_hub.repository:Several commits (2) will be pushed upstream.\n",
            "\n",
            "Training...:  11%|█▏        | 193/1715 [4:32:12<40:20:46, 95.43s/it]\u001b[A\n",
            "Training...:  11%|█▏        | 194/1715 [4:35:30<53:17:31, 126.14s/it]\u001b[A\n",
            "Training...:  11%|█▏        | 195/1715 [4:37:12<50:09:48, 118.81s/it]\u001b[A\n",
            "Training...:  11%|█▏        | 196/1715 [4:38:44<46:47:32, 110.90s/it]\u001b[A\n",
            "Training...:  11%|█▏        | 197/1715 [4:40:17<44:30:17, 105.55s/it]\u001b[A\n",
            "Training...:  12%|█▏        | 198/1715 [4:41:50<42:59:01, 102.01s/it]\u001b[A\n",
            "Training...:  12%|█▏        | 199/1715 [4:43:27<42:15:33, 100.35s/it]\u001b[A\n",
            "Training...:  12%|█▏        | 200/1715 [4:44:52<40:18:48, 95.79s/it] \u001b[A\n",
            "Training...:  12%|█▏        | 201/1715 [4:46:14<38:34:47, 91.74s/it]\u001b[A\n",
            "Training...:  12%|█▏        | 202/1715 [4:47:38<37:29:08, 89.19s/it]\u001b[A\n",
            "Training...:  12%|█▏        | 203/1715 [4:48:58<36:23:22, 86.64s/it]\u001b[A\n",
            "Training...:  12%|█▏        | 204/1715 [4:50:21<35:49:32, 85.36s/it]\u001b[A\n",
            "Training...:  12%|█▏        | 205/1715 [4:51:42<35:15:17, 84.05s/it]\u001b[A\n",
            "Training...:  12%|█▏        | 206/1715 [4:53:03<34:54:36, 83.28s/it]\u001b[A\n",
            "Training...:  12%|█▏        | 207/1715 [4:54:26<34:47:05, 83.04s/it]\u001b[A\n",
            "Training...:  12%|█▏        | 208/1715 [4:55:47<34:30:28, 82.43s/it]\u001b[A\n",
            "Training...:  12%|█▏        | 209/1715 [4:57:08<34:18:49, 82.02s/it]\u001b[A\n",
            "Training...:  12%|█▏        | 210/1715 [4:58:29<34:14:13, 81.90s/it]\u001b[A\n",
            "Training...:  12%|█▏        | 211/1715 [4:59:50<34:02:19, 81.48s/it]\u001b[A\n",
            "Training...:  12%|█▏        | 212/1715 [5:01:11<34:01:04, 81.48s/it]\u001b[A\n",
            "Training...:  12%|█▏        | 213/1715 [5:02:34<34:06:31, 81.75s/it]\u001b[A\n",
            "Training...:  12%|█▏        | 214/1715 [5:03:55<33:59:58, 81.54s/it]\u001b[A\n",
            "Training...:  13%|█▎        | 215/1715 [5:05:17<34:02:38, 81.71s/it]\u001b[A\n",
            "Training...:  13%|█▎        | 216/1715 [5:06:39<33:50:08, 81.26s/it]\u001b[A\n",
            "Training...:  13%|█▎        | 217/1715 [5:07:59<33:52:36, 81.41s/it]\u001b[A\n",
            "Training...:  13%|█▎        | 218/1715 [5:09:20<33:52:57, 81.48s/it]\u001b[A\n",
            "Training...:  13%|█▎        | 219/1715 [5:10:41<33:42:31, 81.12s/it]\u001b[A\n",
            "Training...:  13%|█▎        | 220/1715 [5:12:02<33:40:38, 81.10s/it]\u001b[A\n",
            "Training...:  13%|█▎        | 221/1715 [5:13:22<33:36:26, 80.98s/it]\u001b[A\n",
            "Training...:  13%|█▎        | 222/1715 [5:14:43<33:29:23, 80.75s/it]\u001b[A\n",
            "Training...:  13%|█▎        | 223/1715 [5:16:03<33:25:16, 80.64s/it]\u001b[A\n",
            "\n",
            "Epoch ... :   0%|          | 0/2 [5:18:44<?, ?it/s]\n",
            "Training...:  13%|█▎        | 224/1715 [5:18:44<33:30:24, 80.90s/it]\u001b[A"
          ]
        },
        {
          "metadata": {
            "tags": null
          },
          "name": "stdout",
          "output_type": "stream",
          "text": [
            "Loss: 0.9770826101303101, Learning Rate: 0.000280320702586323\n"
          ]
        },
        {
          "metadata": {
            "tags": null
          },
          "name": "stderr",
          "output_type": "stream",
          "text": [
            "Several commits (3) will be pushed upstream.\n",
            "WARNING:huggingface_hub.repository:Several commits (3) will be pushed upstream.\n",
            "\n",
            "Training...:  13%|█▎        | 225/1715 [5:19:34<39:27:34, 95.34s/it]\u001b[A\n",
            "Training...:  13%|█▎        | 226/1715 [5:21:10<39:36:46, 95.77s/it]\u001b[A\n",
            "Training...:  13%|█▎        | 227/1715 [5:22:43<39:09:40, 94.74s/it]\u001b[A\n",
            "Training...:  13%|█▎        | 228/1715 [5:24:15<38:52:34, 94.12s/it]\u001b[A\n",
            "Training...:  13%|█▎        | 229/1715 [5:25:46<38:26:40, 93.14s/it]\u001b[A\n",
            "Training...:  13%|█▎        | 230/1715 [5:27:19<38:19:42, 92.92s/it]\u001b[A\n",
            "Training...:  13%|█▎        | 231/1715 [5:28:49<38:02:03, 92.27s/it]\u001b[A\n",
            "Training...:  14%|█▎        | 232/1715 [5:30:24<38:13:39, 92.80s/it]\u001b[A\n",
            "Training...:  14%|█▎        | 233/1715 [5:31:52<37:41:33, 91.56s/it]\u001b[A\n",
            "Training...:  14%|█▎        | 234/1715 [5:33:23<37:35:45, 91.39s/it]\u001b[A\n",
            "Training...:  14%|█▎        | 235/1715 [5:35:05<38:50:43, 94.49s/it]\u001b[A\n",
            "Training...:  14%|█▍        | 236/1715 [5:36:37<38:33:57, 93.87s/it]\u001b[A\n",
            "Training...:  14%|█▍        | 237/1715 [5:38:06<37:57:08, 92.44s/it]\u001b[A\n",
            "Training...:  14%|█▍        | 238/1715 [5:39:37<37:43:57, 91.97s/it]\u001b[A\n",
            "Training...:  14%|█▍        | 239/1715 [5:41:06<37:15:20, 90.87s/it]\u001b[A\n",
            "Training...:  14%|█▍        | 240/1715 [5:42:37<37:18:22, 91.05s/it]\u001b[A\n",
            "Training...:  14%|█▍        | 241/1715 [5:44:05<36:53:48, 90.11s/it]\u001b[A\n",
            "Training...:  14%|█▍        | 242/1715 [5:45:35<36:51:57, 90.10s/it]\u001b[A\n",
            "Training...:  14%|█▍        | 243/1715 [5:47:03<36:34:08, 89.44s/it]\u001b[A\n",
            "Training...:  14%|█▍        | 244/1715 [5:48:32<36:29:27, 89.30s/it]\u001b[A\n",
            "Training...:  14%|█▍        | 245/1715 [5:50:09<37:24:25, 91.61s/it]\u001b[A\n",
            "Training...:  14%|█▍        | 246/1715 [5:51:42<37:35:46, 92.14s/it]\u001b[A\n",
            "Training...:  14%|█▍        | 247/1715 [5:53:15<37:39:52, 92.37s/it]\u001b[A\n",
            "Training...:  14%|█▍        | 248/1715 [5:54:42<36:55:13, 90.60s/it]\u001b[A\n",
            "Training...:  15%|█▍        | 249/1715 [5:56:10<36:38:07, 89.96s/it]\u001b[A\n",
            "Training...:  15%|█▍        | 250/1715 [5:57:36<36:06:51, 88.74s/it]\u001b[A\n",
            "Training...:  15%|█▍        | 251/1715 [5:59:03<35:52:16, 88.21s/it]\u001b[A\n",
            "Training...:  15%|█▍        | 252/1715 [6:00:31<35:48:28, 88.11s/it]\u001b[A\n",
            "Training...:  15%|█▍        | 253/1715 [6:01:56<35:26:23, 87.27s/it]\u001b[A\n",
            "Training...:  15%|█▍        | 254/1715 [6:03:23<35:23:30, 87.21s/it]\u001b[A\n",
            "Training...:  15%|█▍        | 255/1715 [6:04:49<35:14:22, 86.89s/it]\u001b[A\n",
            "\n",
            "Epoch ... :   0%|          | 0/2 [6:07:41<?, ?it/s]\n",
            "Training...:  15%|█▍        | 256/1715 [6:07:41<35:02:26, 86.46s/it]\u001b[A"
          ]
        },
        {
          "metadata": {
            "tags": null
          },
          "name": "stdout",
          "output_type": "stream",
          "text": [
            "Loss: 1.284741997718811, Learning Rate: 0.0002775218745227903\n"
          ]
        },
        {
          "metadata": {
            "tags": null
          },
          "name": "stderr",
          "output_type": "stream",
          "text": [
            "\n",
            "Training...:  15%|█▍        | 257/1715 [6:08:30<40:53:04, 100.95s/it]\u001b[A\n",
            "Training...:  15%|█▌        | 258/1715 [6:10:16<41:31:09, 102.59s/it]\u001b[A\n",
            "Training...:  15%|█▌        | 259/1715 [6:11:54<40:59:17, 101.34s/it]\u001b[A\n",
            "Training...:  15%|█▌        | 260/1715 [6:13:32<40:30:21, 100.22s/it]\u001b[A\n",
            "Training...:  15%|█▌        | 261/1715 [6:15:12<40:28:50, 100.23s/it]\u001b[A\n",
            "Training...:  15%|█▌        | 262/1715 [6:16:50<40:09:21, 99.49s/it] \u001b[A\n",
            "Training...:  15%|█▌        | 263/1715 [6:18:28<39:57:34, 99.07s/it]\u001b[A\n",
            "Training...:  15%|█▌        | 264/1715 [6:20:03<39:25:58, 97.83s/it]\u001b[A\n",
            "Training...:  15%|█▌        | 265/1715 [6:21:34<38:32:06, 95.67s/it]\u001b[A\n",
            "Training...:  16%|█▌        | 266/1715 [6:23:01<37:32:10, 93.26s/it]\u001b[A\n",
            "Training...:  16%|█▌        | 267/1715 [6:24:31<37:03:57, 92.15s/it]\u001b[A\n",
            "Training...:  16%|█▌        | 268/1715 [6:25:58<36:29:12, 90.78s/it]\u001b[A\n",
            "Training...:  16%|█▌        | 269/1715 [6:27:24<35:47:28, 89.11s/it]\u001b[A\n",
            "Training...:  16%|█▌        | 270/1715 [6:28:51<35:35:23, 88.67s/it]\u001b[A\n",
            "Training...:  16%|█▌        | 271/1715 [6:30:17<35:12:55, 87.79s/it]\u001b[A\n",
            "Training...:  16%|█▌        | 272/1715 [6:31:45<35:14:15, 87.91s/it]\u001b[A\n",
            "Training...:  16%|█▌        | 273/1715 [6:33:13<35:12:32, 87.90s/it]\u001b[A\n",
            "Training...:  16%|█▌        | 274/1715 [6:34:38<34:50:20, 87.04s/it]\u001b[A\n",
            "Training...:  16%|█▌        | 275/1715 [6:36:05<34:50:01, 87.08s/it]\u001b[A\n",
            "Training...:  16%|█▌        | 276/1715 [6:37:33<34:52:58, 87.27s/it]\u001b[A\n",
            "Training...:  16%|█▌        | 277/1715 [6:38:58<34:34:49, 86.57s/it]\u001b[A\n",
            "Training...:  16%|█▌        | 278/1715 [6:40:24<34:29:52, 86.42s/it]\u001b[A\n",
            "Training...:  16%|█▋        | 279/1715 [6:41:49<34:14:22, 85.84s/it]\u001b[A\n",
            "Training...:  16%|█▋        | 280/1715 [6:43:11<33:51:31, 84.94s/it]\u001b[A\n",
            "Training...:  16%|█▋        | 281/1715 [6:44:38<34:00:27, 85.37s/it]\u001b[A\n",
            "Training...:  16%|█▋        | 282/1715 [6:46:03<34:00:22, 85.43s/it]\u001b[A\n",
            "Training...:  17%|█▋        | 283/1715 [6:47:28<33:50:51, 85.09s/it]\u001b[A\n",
            "Training...:  17%|█▋        | 284/1715 [6:48:55<34:06:21, 85.80s/it]\u001b[A\n",
            "Training...:  17%|█▋        | 285/1715 [6:50:21<34:07:34, 85.91s/it]\u001b[A\n",
            "Training...:  17%|█▋        | 286/1715 [6:51:44<33:41:51, 84.89s/it]\u001b[A\n",
            "Training...:  17%|█▋        | 287/1715 [6:53:10<33:52:42, 85.41s/it]\u001b[A\n",
            "\n",
            "Epoch ... :   0%|          | 0/2 [6:55:59<?, ?it/s]\n",
            "Training...:  17%|█▋        | 288/1715 [6:55:59<33:46:01, 85.19s/it]\u001b[A"
          ]
        },
        {
          "metadata": {
            "tags": null
          },
          "name": "stdout",
          "output_type": "stream",
          "text": [
            "Loss: 0.890655517578125, Learning Rate: 0.0002747230464592576\n"
          ]
        },
        {
          "metadata": {
            "tags": null
          },
          "name": "stderr",
          "output_type": "stream",
          "text": [
            "Several commits (2) will be pushed upstream.\n",
            "WARNING:huggingface_hub.repository:Several commits (2) will be pushed upstream.\n",
            "\n",
            "Training...:  17%|█▋        | 289/1715 [6:56:47<39:19:01, 99.26s/it]\u001b[A\n",
            "Training...:  17%|█▋        | 290/1715 [6:58:33<40:05:22, 101.28s/it]\u001b[A\n",
            "Training...:  17%|█▋        | 291/1715 [7:00:18<40:28:05, 102.31s/it]\u001b[A\n",
            "Training...:  17%|█▋        | 292/1715 [7:01:57<40:03:10, 101.33s/it]\u001b[A\n",
            "Training...:  17%|█▋        | 293/1715 [7:03:48<41:08:48, 104.17s/it]\u001b[A\n",
            "Training...:  17%|█▋        | 294/1715 [7:05:30<40:51:20, 103.51s/it]\u001b[A\n",
            "Training...:  17%|█▋        | 295/1715 [7:07:05<39:51:01, 101.03s/it]\u001b[A\n",
            "Training...:  17%|█▋        | 296/1715 [7:08:41<39:15:31, 99.60s/it] \u001b[A\n",
            "Training...:  17%|█▋        | 297/1715 [7:10:06<37:31:04, 95.25s/it]\u001b[A\n",
            "Training...:  17%|█▋        | 298/1715 [7:11:32<36:21:48, 92.38s/it]\u001b[A\n",
            "Training...:  17%|█▋        | 299/1715 [7:12:57<35:26:24, 90.10s/it]\u001b[A\n",
            "Training...:  17%|█▋        | 300/1715 [7:14:50<38:10:13, 97.11s/it]\u001b[A\n",
            "Training...:  18%|█▊        | 301/1715 [7:16:17<36:54:33, 93.97s/it]\u001b[A\n",
            "Training...:  18%|█▊        | 302/1715 [7:17:43<35:42:54, 90.99s/it]\u001b[A\n",
            "Training...:  18%|█▊        | 303/1715 [7:19:35<38:26:50, 98.02s/it]\u001b[A\n",
            "Training...:  18%|█▊        | 304/1715 [7:21:01<36:56:38, 94.26s/it]\u001b[A\n",
            "Training...:  18%|█▊        | 305/1715 [7:22:23<35:32:07, 90.73s/it]\u001b[A\n",
            "Training...:  18%|█▊        | 306/1715 [7:24:17<38:11:25, 97.58s/it]\u001b[A\n",
            "Training...:  18%|█▊        | 307/1715 [7:25:41<36:35:04, 93.54s/it]\u001b[A\n",
            "Training...:  18%|█▊        | 308/1715 [7:27:04<35:18:28, 90.34s/it]\u001b[A\n",
            "Training...:  18%|█▊        | 309/1715 [7:28:59<38:10:21, 97.74s/it]\u001b[A\n",
            "Training...:  18%|█▊        | 310/1715 [7:30:21<36:18:26, 93.03s/it]\u001b[A\n",
            "Training...:  18%|█▊        | 311/1715 [7:31:45<35:14:45, 90.37s/it]\u001b[A\n",
            "Training...:  18%|█▊        | 312/1715 [7:33:09<34:24:52, 88.31s/it]\u001b[A\n",
            "Training...:  18%|█▊        | 313/1715 [7:34:30<33:36:21, 86.29s/it]\u001b[A\n",
            "Training...:  18%|█▊        | 314/1715 [7:36:23<36:43:22, 94.36s/it]\u001b[A\n",
            "Training...:  18%|█▊        | 315/1715 [7:37:47<35:25:47, 91.11s/it]\u001b[A\n",
            "Training...:  18%|█▊        | 316/1715 [7:39:08<34:18:01, 88.26s/it]\u001b[A\n",
            "Training...:  18%|█▊        | 317/1715 [7:41:03<37:23:14, 96.28s/it]\u001b[A\n",
            "Training...:  19%|█▊        | 318/1715 [7:42:28<35:56:36, 92.62s/it]\u001b[A\n",
            "Training...:  19%|█▊        | 319/1715 [7:43:49<34:39:36, 89.38s/it]\u001b[A\n",
            "\n",
            "Epoch ... :   0%|          | 0/2 [7:47:09<?, ?it/s]\n",
            "Training...:  19%|█▊        | 320/1715 [7:47:09<37:39:04, 97.16s/it]\u001b[A"
          ]
        },
        {
          "metadata": {
            "tags": null
          },
          "name": "stdout",
          "output_type": "stream",
          "text": [
            "Loss: 0.9520885348320007, Learning Rate: 0.0002719242183957249\n"
          ]
        },
        {
          "metadata": {
            "tags": null
          },
          "name": "stderr",
          "output_type": "stream",
          "text": [
            "\n",
            "Training...:  19%|█▊        | 321/1715 [7:47:59<41:53:57, 108.20s/it]\u001b[A\n",
            "Training...:  19%|█▉        | 322/1715 [7:49:39<40:54:28, 105.72s/it]\u001b[A\n",
            "Training...:  19%|█▉        | 323/1715 [7:51:13<39:36:55, 102.45s/it]\u001b[A\n",
            "Training...:  19%|█▉        | 324/1715 [7:52:48<38:40:09, 100.08s/it]\u001b[A\n",
            "Training...:  19%|█▉        | 325/1715 [7:54:22<37:53:24, 98.13s/it] \u001b[A\n",
            "Training...:  19%|█▉        | 326/1715 [7:55:57<37:33:28, 97.34s/it]\u001b[A\n",
            "Training...:  19%|█▉        | 327/1715 [7:57:34<37:26:17, 97.10s/it]\u001b[A\n",
            "Training...:  19%|█▉        | 328/1715 [7:59:34<40:04:06, 104.00s/it]\u001b[A\n",
            "Training...:  19%|█▉        | 329/1715 [8:01:02<38:12:54, 99.26s/it] \u001b[A\n",
            "Training...:  19%|█▉        | 330/1715 [8:02:25<36:22:34, 94.55s/it]\u001b[A\n",
            "Training...:  19%|█▉        | 331/1715 [8:03:51<35:16:14, 91.74s/it]\u001b[A\n",
            "Training...:  19%|█▉        | 332/1715 [8:05:13<34:12:04, 89.03s/it]\u001b[A\n",
            "Training...:  19%|█▉        | 333/1715 [8:07:09<37:16:12, 97.09s/it]\u001b[A\n",
            "Training...:  19%|█▉        | 334/1715 [8:08:31<35:28:06, 92.46s/it]\u001b[A\n",
            "Training...:  20%|█▉        | 335/1715 [8:09:55<34:31:09, 90.05s/it]\u001b[A\n",
            "Training...:  20%|█▉        | 336/1715 [8:11:51<37:27:19, 97.78s/it]\u001b[A\n",
            "Training...:  20%|█▉        | 337/1715 [8:13:14<35:41:27, 93.24s/it]\u001b[A\n",
            "Training...:  20%|█▉        | 338/1715 [8:14:39<34:46:09, 90.90s/it]\u001b[A\n",
            "Training...:  20%|█▉        | 339/1715 [8:16:37<37:48:38, 98.92s/it]\u001b[A\n",
            "Training...:  20%|█▉        | 340/1715 [8:18:00<36:00:46, 94.29s/it]\u001b[A\n",
            "Training...:  20%|█▉        | 341/1715 [8:19:27<35:09:42, 92.13s/it]\u001b[A\n",
            "Training...:  20%|█▉        | 342/1715 [8:21:26<38:09:43, 100.06s/it]\u001b[A\n",
            "Training...:  20%|██        | 343/1715 [8:22:48<36:06:53, 94.76s/it] \u001b[A\n",
            "Training...:  20%|██        | 344/1715 [8:24:45<38:38:24, 101.46s/it]\u001b[A\n",
            "Training...:  20%|██        | 345/1715 [8:26:32<39:10:14, 102.93s/it]\u001b[A\n",
            "Training...:  20%|██        | 346/1715 [8:27:56<36:56:37, 97.15s/it] \u001b[A\n",
            "Training...:  20%|██        | 347/1715 [8:29:46<38:28:14, 101.24s/it]\u001b[A\n",
            "Training...:  20%|██        | 348/1715 [8:31:45<40:24:27, 106.41s/it]\u001b[A\n",
            "Training...:  20%|██        | 349/1715 [8:33:08<37:47:05, 99.58s/it] \u001b[A\n",
            "Training...:  20%|██        | 350/1715 [8:35:07<39:54:19, 105.25s/it]\u001b[A\n",
            "Training...:  20%|██        | 351/1715 [8:36:54<40:06:01, 105.84s/it]\u001b[A\n",
            "\n",
            "Epoch ... :   0%|          | 0/2 [8:39:42<?, ?it/s]\n",
            "Training...:  21%|██        | 352/1715 [8:39:42<37:38:37, 99.43s/it]\u001b[A"
          ]
        },
        {
          "metadata": {
            "tags": null
          },
          "name": "stdout",
          "output_type": "stream",
          "text": [
            "Loss: 0.8993326425552368, Learning Rate: 0.0002691253903321922\n"
          ]
        },
        {
          "metadata": {
            "tags": null
          },
          "name": "stderr",
          "output_type": "stream",
          "text": [
            "Several commits (2) will be pushed upstream.\n",
            "WARNING:huggingface_hub.repository:Several commits (2) will be pushed upstream.\n",
            "\n",
            "Training...:  21%|██        | 353/1715 [8:40:31<41:19:20, 109.22s/it]\u001b[A\n",
            "Training...:  21%|██        | 354/1715 [8:42:10<40:08:25, 106.18s/it]\u001b[A\n",
            "Training...:  21%|██        | 355/1715 [8:43:46<38:59:31, 103.21s/it]\u001b[A\n",
            "Training...:  21%|██        | 356/1715 [8:45:42<40:26:56, 107.15s/it]\u001b[A\n",
            "Training...:  21%|██        | 357/1715 [8:47:18<39:10:25, 103.85s/it]\u001b[A\n",
            "Training...:  21%|██        | 358/1715 [8:48:51<37:54:47, 100.58s/it]\u001b[A\n",
            "Training...:  21%|██        | 359/1715 [8:50:24<36:58:07, 98.15s/it] \u001b[A\n",
            "Training...:  21%|██        | 360/1715 [8:51:59<36:36:30, 97.26s/it]\u001b[A\n",
            "Training...:  21%|██        | 361/1715 [8:54:02<39:31:31, 105.09s/it]\u001b[A\n",
            "Training...:  21%|██        | 362/1715 [8:55:28<37:14:51, 99.11s/it] \u001b[A\n",
            "Training...:  21%|██        | 363/1715 [8:56:56<35:57:40, 95.76s/it]\u001b[A\n",
            "Training...:  21%|██        | 364/1715 [8:58:53<38:24:12, 102.33s/it]\u001b[A\n",
            "Training...:  21%|██▏       | 365/1715 [9:00:34<38:14:39, 101.98s/it]\u001b[A\n",
            "Training...:  21%|██▏       | 366/1715 [9:02:01<36:26:47, 97.26s/it] \u001b[A\n",
            "Training...:  21%|██▏       | 367/1715 [9:03:23<34:47:16, 92.91s/it]\u001b[A\n",
            "Training...:  21%|██▏       | 368/1715 [9:05:21<37:31:18, 100.28s/it]\u001b[A\n",
            "Training...:  22%|██▏       | 369/1715 [9:06:47<35:52:33, 95.95s/it] \u001b[A\n",
            "Training...:  22%|██▏       | 370/1715 [9:08:09<34:18:09, 91.81s/it]\u001b[A\n",
            "Training...:  22%|██▏       | 371/1715 [9:10:05<37:00:44, 99.14s/it]\u001b[A\n",
            "Training...:  22%|██▏       | 372/1715 [9:11:29<35:17:42, 94.61s/it]\u001b[A\n",
            "Training...:  22%|██▏       | 373/1715 [9:12:50<33:46:53, 90.62s/it]\u001b[A\n",
            "Training...:  22%|██▏       | 374/1715 [9:14:46<36:32:17, 98.09s/it]\u001b[A\n",
            "Training...:  22%|██▏       | 375/1715 [9:16:11<35:00:11, 94.04s/it]\u001b[A\n",
            "Training...:  22%|██▏       | 376/1715 [9:17:35<33:51:53, 91.05s/it]\u001b[A\n",
            "Training...:  22%|██▏       | 377/1715 [9:19:32<36:47:05, 98.97s/it]\u001b[A\n",
            "Training...:  22%|██▏       | 378/1715 [9:21:17<37:24:19, 100.72s/it]\u001b[A\n",
            "Training...:  22%|██▏       | 379/1715 [9:22:42<35:38:11, 96.03s/it] \u001b[A\n",
            "Training...:  22%|██▏       | 380/1715 [9:24:04<34:05:54, 91.95s/it]\u001b[A\n",
            "Training...:  22%|██▏       | 381/1715 [9:26:01<36:49:42, 99.39s/it]\u001b[A\n",
            "Training...:  22%|██▏       | 382/1715 [9:27:27<35:16:07, 95.25s/it]\u001b[A\n",
            "Training...:  22%|██▏       | 383/1715 [9:28:50<33:51:30, 91.51s/it]\u001b[A\n",
            "\n",
            "Epoch ... :   0%|          | 0/2 [9:32:10<?, ?it/s]\n",
            "Training...:  22%|██▏       | 384/1715 [9:32:10<36:32:27, 98.83s/it]\u001b[A"
          ]
        },
        {
          "metadata": {
            "tags": null
          },
          "name": "stdout",
          "output_type": "stream",
          "text": [
            "Loss: 1.248628854751587, Learning Rate: 0.000266326533164829\n"
          ]
        },
        {
          "metadata": {
            "tags": null
          },
          "name": "stderr",
          "output_type": "stream",
          "text": [
            "Several commits (3) will be pushed upstream.\n",
            "WARNING:huggingface_hub.repository:Several commits (3) will be pushed upstream.\n",
            "\n",
            "Training...:  22%|██▏       | 385/1715 [9:32:59<40:22:01, 109.26s/it]\u001b[A\n",
            "Training...:  23%|██▎       | 386/1715 [9:34:43<39:44:57, 107.67s/it]\u001b[A\n",
            "Training...:  23%|██▎       | 387/1715 [9:36:20<38:30:18, 104.38s/it]\u001b[A\n",
            "Training...:  23%|██▎       | 388/1715 [9:37:55<37:28:52, 101.68s/it]\u001b[A\n",
            "Training...:  23%|██▎       | 389/1715 [9:39:29<36:36:55, 99.41s/it] \u001b[A\n",
            "Training...:  23%|██▎       | 390/1715 [9:41:09<36:35:00, 99.40s/it]\u001b[A\n",
            "Training...:  23%|██▎       | 391/1715 [9:42:59<37:48:57, 102.82s/it]\u001b[A\n",
            "Training...:  23%|██▎       | 392/1715 [9:44:36<37:08:44, 101.08s/it]\u001b[A\n",
            "Training...:  23%|██▎       | 393/1715 [9:46:03<35:28:32, 96.61s/it] \u001b[A\n",
            "Training...:  23%|██▎       | 394/1715 [9:47:29<34:17:52, 93.47s/it]\u001b[A\n",
            "Training...:  23%|██▎       | 395/1715 [9:48:54<33:25:01, 91.14s/it]\u001b[A\n",
            "Training...:  23%|██▎       | 396/1715 [9:50:54<36:28:23, 99.55s/it]\u001b[A\n",
            "Training...:  23%|██▎       | 397/1715 [9:52:18<34:45:58, 94.96s/it]\u001b[A\n",
            "Training...:  23%|██▎       | 398/1715 [9:53:45<33:54:17, 92.68s/it]\u001b[A\n",
            "Training...:  23%|██▎       | 399/1715 [9:55:44<36:44:58, 100.53s/it]\u001b[A\n",
            "Training...:  23%|██▎       | 400/1715 [9:57:07<34:49:05, 95.32s/it] \u001b[A\n",
            "Training...:  23%|██▎       | 401/1715 [9:58:33<33:48:02, 92.60s/it]\u001b[A\n",
            "Training...:  23%|██▎       | 402/1715 [10:00:34<36:48:17, 100.91s/it]\u001b[A\n",
            "Training...:  23%|██▎       | 403/1715 [10:01:58<34:56:56, 95.90s/it] \u001b[A\n",
            "Training...:  24%|██▎       | 404/1715 [10:03:24<33:53:46, 93.08s/it]\u001b[A\n",
            "Training...:  24%|██▎       | 405/1715 [10:05:24<36:42:24, 100.87s/it]\u001b[A\n",
            "Training...:  24%|██▎       | 406/1715 [10:07:08<37:03:45, 101.93s/it]\u001b[A\n",
            "Training...:  24%|██▎       | 407/1715 [10:09:07<38:52:11, 106.98s/it]\u001b[A\n",
            "Training...:  24%|██▍       | 408/1715 [10:10:30<36:13:38, 99.78s/it] \u001b[A\n",
            "Training...:  24%|██▍       | 409/1715 [10:12:27<38:06:13, 105.03s/it]\u001b[A\n",
            "Training...:  24%|██▍       | 410/1715 [10:13:53<35:58:02, 99.22s/it] \u001b[A\n",
            "Training...:  24%|██▍       | 411/1715 [10:15:16<34:09:52, 94.32s/it]\u001b[A\n",
            "Training...:  24%|██▍       | 412/1715 [10:17:12<36:34:23, 101.05s/it]\u001b[A\n",
            "Training...:  24%|██▍       | 413/1715 [10:18:38<34:52:31, 96.43s/it] \u001b[A\n",
            "Training...:  24%|██▍       | 414/1715 [10:20:01<33:21:34, 92.31s/it]\u001b[A\n",
            "Training...:  24%|██▍       | 415/1715 [10:21:58<36:04:05, 99.88s/it]\u001b[A\n",
            "\n",
            "Epoch ... :   0%|          | 0/2 [10:24:46<?, ?it/s]\n",
            "Training...:  24%|██▍       | 416/1715 [10:24:46<34:27:09, 95.48s/it]\u001b[A"
          ]
        },
        {
          "metadata": {
            "tags": null
          },
          "name": "stdout",
          "output_type": "stream",
          "text": [
            "Loss: 0.7940661907196045, Learning Rate: 0.0002635277051012963\n"
          ]
        },
        {
          "metadata": {
            "tags": null
          },
          "name": "stderr",
          "output_type": "stream",
          "text": [
            "\n",
            "Training...:  24%|██▍       | 417/1715 [10:25:35<38:20:52, 106.36s/it]\u001b[A\n",
            "Training...:  24%|██▍       | 418/1715 [10:27:31<39:20:49, 109.21s/it]\u001b[A\n",
            "Training...:  24%|██▍       | 419/1715 [10:29:11<38:16:06, 106.30s/it]\u001b[A\n",
            "Training...:  24%|██▍       | 420/1715 [10:30:50<37:27:14, 104.12s/it]\u001b[A\n",
            "Training...:  25%|██▍       | 421/1715 [10:32:59<40:10:31, 111.77s/it]\u001b[A\n",
            "Training...:  25%|██▍       | 422/1715 [10:34:47<39:41:46, 110.52s/it]\u001b[A\n",
            "Training...:  25%|██▍       | 423/1715 [10:36:38<39:47:02, 110.85s/it]\u001b[A\n",
            "Training...:  25%|██▍       | 424/1715 [10:38:19<38:40:16, 107.84s/it]\u001b[A\n",
            "Training...:  25%|██▍       | 425/1715 [10:39:52<37:01:15, 103.31s/it]\u001b[A\n",
            "Training...:  25%|██▍       | 426/1715 [10:41:17<35:00:33, 97.78s/it] \u001b[A\n",
            "Training...:  25%|██▍       | 427/1715 [10:43:13<36:55:42, 103.22s/it]\u001b[A\n",
            "Training...:  25%|██▍       | 428/1715 [10:45:12<38:34:42, 107.91s/it]\u001b[A\n",
            "Training...:  25%|██▌       | 429/1715 [10:46:35<35:54:58, 100.54s/it]\u001b[A\n",
            "Training...:  25%|██▌       | 430/1715 [10:48:34<37:52:39, 106.12s/it]\u001b[A\n",
            "Training...:  25%|██▌       | 431/1715 [10:50:31<38:58:31, 109.28s/it]\u001b[A\n",
            "Training...:  25%|██▌       | 432/1715 [10:51:52<36:00:10, 101.02s/it]\u001b[A\n",
            "Training...:  25%|██▌       | 433/1715 [10:53:49<37:37:41, 105.66s/it]\u001b[A\n",
            "Training...:  25%|██▌       | 434/1715 [10:55:45<38:44:19, 108.87s/it]\u001b[A\n",
            "Training...:  25%|██▌       | 435/1715 [10:57:27<37:55:38, 106.67s/it]\u001b[A\n",
            "Training...:  25%|██▌       | 436/1715 [10:59:23<38:56:54, 109.63s/it]\u001b[A\n",
            "Training...:  25%|██▌       | 437/1715 [11:00:46<36:05:02, 101.65s/it]\u001b[A\n",
            "Training...:  26%|██▌       | 438/1715 [11:02:43<37:38:09, 106.10s/it]\u001b[A\n",
            "Training...:  26%|██▌       | 439/1715 [11:04:40<38:48:19, 109.48s/it]\u001b[A\n",
            "Training...:  26%|██▌       | 440/1715 [11:06:25<38:15:41, 108.03s/it]\u001b[A\n",
            "Training...:  26%|██▌       | 441/1715 [11:08:21<39:08:18, 110.60s/it]\u001b[A\n",
            "Training...:  26%|██▌       | 442/1715 [11:09:43<36:03:03, 101.95s/it]\u001b[A\n",
            "Training...:  26%|██▌       | 443/1715 [11:11:41<37:42:55, 106.74s/it]\u001b[A\n",
            "Training...:  26%|██▌       | 444/1715 [11:13:39<38:50:44, 110.03s/it]\u001b[A\n",
            "Training...:  26%|██▌       | 445/1715 [11:15:24<38:16:56, 108.52s/it]\u001b[A\n",
            "Training...:  26%|██▌       | 446/1715 [11:17:22<39:18:03, 111.49s/it]\u001b[A\n",
            "Training...:  26%|██▌       | 447/1715 [11:19:08<38:40:29, 109.80s/it]\u001b[A\n",
            "\n",
            "Epoch ... :   0%|          | 0/2 [11:22:34<?, ?it/s]\n",
            "Training...:  26%|██▌       | 448/1715 [11:22:34<39:28:47, 112.18s/it]\u001b[A"
          ]
        },
        {
          "metadata": {
            "tags": null
          },
          "name": "stdout",
          "output_type": "stream",
          "text": [
            "Loss: 1.4764015674591064, Learning Rate: 0.0002607288770377636\n"
          ]
        },
        {
          "metadata": {
            "tags": null
          },
          "name": "stderr",
          "output_type": "stream",
          "text": [
            "Several commits (2) will be pushed upstream.\n",
            "WARNING:huggingface_hub.repository:Several commits (2) will be pushed upstream.\n",
            "\n",
            "Training...:  26%|██▌       | 449/1715 [11:23:25<42:18:42, 120.32s/it]\u001b[A\n",
            "Training...:  26%|██▌       | 450/1715 [11:25:08<40:27:54, 115.16s/it]\u001b[A\n",
            "Training...:  26%|██▋       | 451/1715 [11:26:48<38:47:27, 110.48s/it]\u001b[A\n",
            "Training...:  26%|██▋       | 452/1715 [11:28:27<37:32:03, 106.99s/it]\u001b[A\n",
            "Training...:  26%|██▋       | 453/1715 [11:30:04<36:28:00, 104.03s/it]\u001b[A\n",
            "Training...:  26%|██▋       | 454/1715 [11:31:40<35:34:30, 101.56s/it]\u001b[A\n",
            "Training...:  27%|██▋       | 455/1715 [11:33:15<34:54:43, 99.75s/it] \u001b[A\n",
            "Training...:  27%|██▋       | 456/1715 [11:34:50<34:20:55, 98.22s/it]\u001b[A\n",
            "Training...:  27%|██▋       | 457/1715 [11:36:17<33:07:20, 94.79s/it]\u001b[A\n",
            "Training...:  27%|██▋       | 458/1715 [11:37:39<31:51:05, 91.22s/it]\u001b[A\n",
            "Training...:  27%|██▋       | 459/1715 [11:39:15<32:18:24, 92.60s/it]\u001b[A\n",
            "Training...:  27%|██▋       | 460/1715 [11:40:41<31:32:24, 90.47s/it]\u001b[A\n",
            "Training...:  27%|██▋       | 461/1715 [11:42:04<30:47:52, 88.42s/it]\u001b[A\n",
            "Training...:  27%|██▋       | 462/1715 [11:43:42<31:41:18, 91.04s/it]\u001b[A\n",
            "Training...:  27%|██▋       | 463/1715 [11:45:07<31:06:32, 89.45s/it]\u001b[A\n",
            "Training...:  27%|██▋       | 464/1715 [11:46:31<30:29:45, 87.76s/it]\u001b[A\n",
            "Training...:  27%|██▋       | 465/1715 [11:48:08<31:24:57, 90.48s/it]\u001b[A\n",
            "Training...:  27%|██▋       | 466/1715 [11:49:31<30:35:08, 88.16s/it]\u001b[A\n",
            "Training...:  27%|██▋       | 467/1715 [11:50:56<30:15:44, 87.30s/it]\u001b[A\n",
            "Training...:  27%|██▋       | 468/1715 [11:52:33<31:16:00, 90.27s/it]\u001b[A\n",
            "Training...:  27%|██▋       | 469/1715 [11:53:59<30:48:59, 89.04s/it]\u001b[A\n",
            "Training...:  27%|██▋       | 470/1715 [11:55:26<30:35:29, 88.46s/it]\u001b[A\n",
            "Training...:  27%|██▋       | 471/1715 [11:57:03<31:24:07, 90.87s/it]\u001b[A\n",
            "Training...:  28%|██▊       | 472/1715 [11:58:25<30:27:22, 88.21s/it]\u001b[A\n",
            "Training...:  28%|██▊       | 473/1715 [11:59:50<30:06:28, 87.27s/it]\u001b[A\n",
            "Training...:  28%|██▊       | 474/1715 [12:01:26<30:59:52, 89.92s/it]\u001b[A\n",
            "Training...:  28%|██▊       | 475/1715 [12:02:48<30:10:17, 87.60s/it]\u001b[A\n",
            "Training...:  28%|██▊       | 476/1715 [12:04:13<29:50:49, 86.72s/it]\u001b[A\n",
            "Training...:  28%|██▊       | 477/1715 [12:05:38<29:38:40, 86.20s/it]\u001b[A\n",
            "Training...:  28%|██▊       | 478/1715 [12:07:03<29:27:14, 85.72s/it]\u001b[A\n",
            "Training...:  28%|██▊       | 479/1715 [12:08:31<29:42:55, 86.55s/it]\u001b[A\n",
            "\n",
            "Epoch ... :   0%|          | 0/2 [12:11:20<?, ?it/s]\n",
            "Training...:  28%|██▊       | 480/1715 [12:11:20<29:40:14, 86.49s/it]\u001b[A"
          ]
        },
        {
          "metadata": {
            "tags": null
          },
          "name": "stdout",
          "output_type": "stream",
          "text": [
            "Loss: 1.310158610343933, Learning Rate: 0.0002579300489742309\n"
          ]
        },
        {
          "metadata": {
            "tags": null
          },
          "name": "stderr",
          "output_type": "stream",
          "text": [
            "\n",
            "Training...:  28%|██▊       | 481/1715 [12:12:07<34:03:47, 99.37s/it]\u001b[A\n",
            "Training...:  28%|██▊       | 482/1715 [12:13:52<34:34:43, 100.96s/it]\u001b[A\n",
            "Training...:  28%|██▊       | 483/1715 [12:15:29<34:10:36, 99.87s/it] \u001b[A\n",
            "Training...:  28%|██▊       | 484/1715 [12:17:06<33:52:38, 99.07s/it]\u001b[A\n",
            "Training...:  28%|██▊       | 485/1715 [12:19:16<36:59:39, 108.28s/it]\u001b[A\n",
            "Training...:  28%|██▊       | 486/1715 [12:20:57<36:11:39, 106.02s/it]\u001b[A\n",
            "Training...:  28%|██▊       | 487/1715 [12:22:47<36:36:02, 107.30s/it]\u001b[A\n",
            "Training...:  28%|██▊       | 488/1715 [12:24:24<35:33:29, 104.33s/it]\u001b[A\n",
            "Training...:  29%|██▊       | 489/1715 [12:25:51<33:45:24, 99.12s/it] \u001b[A\n",
            "Training...:  29%|██▊       | 490/1715 [12:27:25<33:10:54, 97.51s/it]\u001b[A\n",
            "Training...:  29%|██▊       | 491/1715 [12:29:14<34:22:18, 101.09s/it]\u001b[A\n",
            "Training...:  29%|██▊       | 492/1715 [12:30:44<33:10:44, 97.67s/it] \u001b[A\n",
            "Training...:  29%|██▊       | 493/1715 [12:32:22<33:11:41, 97.79s/it]\u001b[A\n",
            "Training...:  29%|██▉       | 494/1715 [12:34:22<35:22:32, 104.30s/it]\u001b[A\n",
            "Training...:  29%|██▉       | 495/1715 [12:35:45<33:10:58, 97.92s/it] \u001b[A\n",
            "Training...:  29%|██▉       | 496/1715 [12:37:19<32:45:00, 96.72s/it]\u001b[A\n",
            "Training...:  29%|██▉       | 497/1715 [12:39:07<33:53:46, 100.19s/it]\u001b[A\n",
            "Training...:  29%|██▉       | 498/1715 [12:40:29<32:04:06, 94.86s/it] \u001b[A\n",
            "Training...:  29%|██▉       | 499/1715 [12:42:02<31:51:48, 94.33s/it]\u001b[A\n",
            "Training...:  29%|██▉       | 500/1715 [12:43:59<34:02:49, 100.88s/it]\u001b[A\n",
            "Training...:  29%|██▉       | 501/1715 [12:45:21<32:06:35, 95.22s/it] \u001b[A\n",
            "Training...:  29%|██▉       | 502/1715 [12:46:54<31:54:00, 94.67s/it]\u001b[A\n",
            "Training...:  29%|██▉       | 503/1715 [12:48:49<33:57:07, 100.85s/it]\u001b[A\n",
            "Training...:  29%|██▉       | 504/1715 [12:50:12<32:03:28, 95.30s/it] \u001b[A\n",
            "Training...:  29%|██▉       | 505/1715 [12:51:44<31:45:11, 94.47s/it]\u001b[A\n",
            "Training...:  30%|██▉       | 506/1715 [12:53:41<33:56:50, 101.08s/it]\u001b[A\n",
            "Training...:  30%|██▉       | 507/1715 [12:55:03<32:04:42, 95.60s/it] \u001b[A\n",
            "Training...:  30%|██▉       | 508/1715 [12:56:37<31:47:53, 94.84s/it]\u001b[A\n",
            "Training...:  30%|██▉       | 509/1715 [12:58:33<33:56:14, 101.31s/it]\u001b[A\n",
            "Training...:  30%|██▉       | 510/1715 [12:59:55<31:59:15, 95.56s/it] \u001b[A\n",
            "Training...:  30%|██▉       | 511/1715 [13:01:28<31:43:22, 94.85s/it]\u001b[A\n",
            "\n",
            "Epoch ... :   0%|          | 0/2 [13:05:08<?, ?it/s]\n",
            "Training...:  30%|██▉       | 512/1715 [13:05:08<33:46:15, 101.06s/it]\u001b[A"
          ]
        },
        {
          "metadata": {
            "tags": null
          },
          "name": "stdout",
          "output_type": "stream",
          "text": [
            "Loss: 1.1107580661773682, Learning Rate: 0.0002551312209106982\n"
          ]
        },
        {
          "metadata": {
            "tags": null
          },
          "name": "stderr",
          "output_type": "stream",
          "text": [
            "Several commits (2) will be pushed upstream.\n",
            "WARNING:huggingface_hub.repository:Several commits (2) will be pushed upstream.\n",
            "\n",
            "Training...:  30%|██▉       | 513/1715 [13:05:57<39:00:39, 116.84s/it]\u001b[A\n",
            "Training...:  30%|██▉       | 514/1715 [13:07:43<37:48:44, 113.34s/it]\u001b[A\n",
            "Training...:  30%|███       | 515/1715 [13:09:23<36:30:03, 109.50s/it]\u001b[A\n",
            "Training...:  30%|███       | 516/1715 [13:11:00<35:14:55, 105.83s/it]\u001b[A\n",
            "Training...:  30%|███       | 517/1715 [13:12:36<34:12:22, 102.79s/it]\u001b[A\n",
            "Training...:  30%|███       | 518/1715 [13:14:20<34:18:40, 103.19s/it]\u001b[A\n",
            "Training...:  30%|███       | 519/1715 [13:15:59<33:49:46, 101.83s/it]\u001b[A\n",
            "Training...:  30%|███       | 520/1715 [13:18:05<36:11:32, 109.03s/it]\u001b[A\n",
            "Training...:  30%|███       | 521/1715 [13:19:39<34:43:31, 104.70s/it]\u001b[A\n",
            "Training...:  30%|███       | 522/1715 [13:21:18<34:07:47, 102.99s/it]\u001b[A\n",
            "Training...:  30%|███       | 523/1715 [13:22:42<32:11:34, 97.23s/it] \u001b[A\n",
            "Training...:  31%|███       | 524/1715 [13:24:40<34:12:23, 103.40s/it]\u001b[A\n",
            "Training...:  31%|███       | 525/1715 [13:26:18<33:37:21, 101.72s/it]\u001b[A\n",
            "Training...:  31%|███       | 526/1715 [13:27:41<31:45:29, 96.16s/it] \u001b[A\n",
            "Training...:  31%|███       | 527/1715 [13:29:38<33:47:59, 102.42s/it]\u001b[A\n",
            "Training...:  31%|███       | 528/1715 [13:31:16<33:20:00, 101.10s/it]\u001b[A\n",
            "Training...:  31%|███       | 529/1715 [13:32:39<31:33:45, 95.81s/it] \u001b[A\n",
            "Training...:  31%|███       | 530/1715 [13:34:37<33:41:05, 102.33s/it]\u001b[A\n",
            "Training...:  31%|███       | 531/1715 [13:36:16<33:17:04, 101.20s/it]\u001b[A\n",
            "Training...:  31%|███       | 532/1715 [13:37:39<31:27:22, 95.73s/it] \u001b[A\n",
            "Training...:  31%|███       | 533/1715 [13:39:37<33:39:05, 102.49s/it]\u001b[A\n",
            "Training...:  31%|███       | 534/1715 [13:41:15<33:12:20, 101.22s/it]\u001b[A\n",
            "Training...:  31%|███       | 535/1715 [13:42:39<31:27:39, 95.98s/it] \u001b[A\n",
            "Training...:  31%|███▏      | 536/1715 [13:44:37<33:37:04, 102.65s/it]\u001b[A\n",
            "Training...:  31%|███▏      | 537/1715 [13:46:16<33:11:41, 101.44s/it]\u001b[A\n",
            "Training...:  31%|███▏      | 538/1715 [13:47:48<32:13:56, 98.59s/it] \u001b[A\n",
            "Training...:  31%|███▏      | 539/1715 [13:49:46<34:06:49, 104.43s/it]\u001b[A\n",
            "Training...:  31%|███▏      | 540/1715 [13:51:31<34:09:48, 104.67s/it]\u001b[A\n",
            "Training...:  32%|███▏      | 541/1715 [13:53:09<33:29:58, 102.72s/it]\u001b[A\n",
            "Training...:  32%|███▏      | 542/1715 [13:54:39<32:11:40, 98.81s/it] \u001b[A\n",
            "Training...:  32%|███▏      | 543/1715 [13:56:38<34:11:50, 105.04s/it]\u001b[A\n",
            "\n",
            "Epoch ... :   0%|          | 0/2 [13:59:43<?, ?it/s]\n",
            "Training...:  32%|███▏      | 544/1715 [13:59:43<33:45:04, 103.76s/it]\u001b[A"
          ]
        },
        {
          "metadata": {
            "tags": null
          },
          "name": "stdout",
          "output_type": "stream",
          "text": [
            "Loss: 0.7870377898216248, Learning Rate: 0.000252332363743335\n"
          ]
        },
        {
          "metadata": {
            "tags": null
          },
          "name": "stderr",
          "output_type": "stream",
          "text": [
            "\n",
            "Training...:  32%|███▏      | 545/1715 [14:00:35<36:50:26, 113.36s/it]\u001b[A\n",
            "Training...:  32%|███▏      | 546/1715 [14:02:16<35:38:50, 109.78s/it]\u001b[A\n",
            "Training...:  32%|███▏      | 547/1715 [14:03:53<34:22:57, 105.97s/it]\u001b[A\n",
            "Training...:  32%|███▏      | 548/1715 [14:05:31<33:30:25, 103.36s/it]\u001b[A\n",
            "Training...:  32%|███▏      | 549/1715 [14:07:08<32:51:34, 101.45s/it]\u001b[A\n",
            "Training...:  32%|███▏      | 550/1715 [14:08:47<32:38:27, 100.86s/it]\u001b[A\n",
            "Training...:  32%|███▏      | 551/1715 [14:10:25<32:17:04, 99.85s/it] \u001b[A\n",
            "Training...:  32%|███▏      | 552/1715 [14:12:02<32:02:30, 99.18s/it]\u001b[A\n",
            "Training...:  32%|███▏      | 553/1715 [14:13:30<30:53:15, 95.69s/it]\u001b[A\n",
            "Training...:  32%|███▏      | 554/1715 [14:14:58<30:10:26, 93.56s/it]\u001b[A\n",
            "Training...:  32%|███▏      | 555/1715 [14:16:25<29:29:13, 91.51s/it]\u001b[A\n",
            "Training...:  32%|███▏      | 556/1715 [14:17:55<29:16:34, 90.94s/it]\u001b[A\n",
            "Training...:  32%|███▏      | 557/1715 [14:19:21<28:45:31, 89.41s/it]\u001b[A\n",
            "Training...:  33%|███▎      | 558/1715 [14:20:49<28:39:56, 89.19s/it]\u001b[A\n",
            "Training...:  33%|███▎      | 559/1715 [14:22:15<28:21:31, 88.31s/it]\u001b[A\n",
            "Training...:  33%|███▎      | 560/1715 [14:23:40<27:55:36, 87.04s/it]\u001b[A\n",
            "Training...:  33%|███▎      | 561/1715 [14:25:05<27:43:29, 86.49s/it]\u001b[A\n",
            "Training...:  33%|███▎      | 562/1715 [14:26:28<27:24:44, 85.59s/it]\u001b[A\n",
            "Training...:  33%|███▎      | 563/1715 [14:27:56<27:33:19, 86.11s/it]\u001b[A\n",
            "Training...:  33%|███▎      | 564/1715 [14:29:21<27:29:15, 85.97s/it]\u001b[A\n",
            "Training...:  33%|███▎      | 565/1715 [14:30:44<27:09:20, 85.01s/it]\u001b[A\n",
            "Training...:  33%|███▎      | 566/1715 [14:32:11<27:22:11, 85.75s/it]\u001b[A\n",
            "Training...:  33%|███▎      | 567/1715 [14:33:37<27:21:02, 85.77s/it]\u001b[A\n",
            "Training...:  33%|███▎      | 568/1715 [14:35:01<27:07:23, 85.13s/it]\u001b[A\n",
            "Training...:  33%|███▎      | 569/1715 [14:36:28<27:18:42, 85.80s/it]\u001b[A\n",
            "Training...:  33%|███▎      | 570/1715 [14:37:52<27:03:20, 85.07s/it]\u001b[A\n",
            "Training...:  33%|███▎      | 571/1715 [14:39:17<27:01:31, 85.05s/it]\u001b[A\n",
            "Training...:  33%|███▎      | 572/1715 [14:40:44<27:14:15, 85.79s/it]\u001b[A\n",
            "Training...:  33%|███▎      | 573/1715 [14:42:07<26:56:53, 84.95s/it]\u001b[A\n",
            "Training...:  33%|███▎      | 574/1715 [14:43:32<26:53:07, 84.83s/it]\u001b[A\n",
            "Training...:  34%|███▎      | 575/1715 [14:44:59<27:05:23, 85.55s/it]\u001b[A\n",
            "\n",
            "Epoch ... :   0%|          | 0/2 [14:47:46<?, ?it/s]\n",
            "Training...:  34%|███▎      | 576/1715 [14:47:46<26:46:28, 84.63s/it]\u001b[A"
          ]
        },
        {
          "metadata": {
            "tags": null
          },
          "name": "stdout",
          "output_type": "stream",
          "text": [
            "Loss: 0.7700480222702026, Learning Rate: 0.0002495335356798023\n"
          ]
        },
        {
          "metadata": {
            "tags": null
          },
          "name": "stderr",
          "output_type": "stream",
          "text": [
            "Several commits (2) will be pushed upstream.\n",
            "WARNING:huggingface_hub.repository:Several commits (2) will be pushed upstream.\n",
            "\n",
            "Training...:  34%|███▎      | 577/1715 [14:48:36<31:28:27, 99.57s/it]\u001b[A\n",
            "Training...:  34%|███▎      | 578/1715 [14:50:16<31:31:05, 99.79s/it]\u001b[A\n",
            "Training...:  34%|███▍      | 579/1715 [14:51:54<31:19:32, 99.27s/it]\u001b[A\n",
            "Training...:  34%|███▍      | 580/1715 [14:53:34<31:20:25, 99.41s/it]\u001b[A\n",
            "Training...:  34%|███▍      | 581/1715 [14:55:14<31:21:02, 99.53s/it]\u001b[A\n",
            "Training...:  34%|███▍      | 582/1715 [14:56:49<30:54:38, 98.22s/it]\u001b[A\n",
            "Training...:  34%|███▍      | 583/1715 [14:58:26<30:44:07, 97.75s/it]\u001b[A\n",
            "Training...:  34%|███▍      | 584/1715 [15:00:01<30:32:19, 97.21s/it]\u001b[A\n",
            "Training...:  34%|███▍      | 585/1715 [15:01:32<29:51:28, 95.12s/it]\u001b[A\n",
            "Training...:  34%|███▍      | 586/1715 [15:02:57<28:54:07, 92.16s/it]\u001b[A\n",
            "Training...:  34%|███▍      | 587/1715 [15:04:26<28:35:19, 91.24s/it]\u001b[A\n",
            "Training...:  34%|███▍      | 588/1715 [15:05:51<27:58:50, 89.38s/it]\u001b[A\n",
            "Training...:  34%|███▍      | 589/1715 [15:07:18<27:41:25, 88.53s/it]\u001b[A\n",
            "Training...:  34%|███▍      | 590/1715 [15:08:49<27:58:02, 89.50s/it]\u001b[A\n",
            "Training...:  34%|███▍      | 591/1715 [15:10:20<28:02:49, 89.83s/it]\u001b[A\n",
            "Training...:  35%|███▍      | 592/1715 [15:11:50<28:03:20, 89.94s/it]\u001b[A\n",
            "Training...:  35%|███▍      | 593/1715 [15:13:15<27:32:57, 88.39s/it]\u001b[A\n",
            "Training...:  35%|███▍      | 594/1715 [15:14:44<27:32:22, 88.44s/it]\u001b[A\n",
            "Training...:  35%|███▍      | 595/1715 [15:16:07<27:02:38, 86.93s/it]\u001b[A\n",
            "Training...:  35%|███▍      | 596/1715 [15:17:33<26:54:08, 86.55s/it]\u001b[A\n",
            "Training...:  35%|███▍      | 597/1715 [15:18:56<26:34:34, 85.58s/it]\u001b[A\n",
            "Training...:  35%|███▍      | 598/1715 [15:20:24<26:45:04, 86.22s/it]\u001b[A\n",
            "Training...:  35%|███▍      | 599/1715 [15:21:52<26:56:46, 86.92s/it]\u001b[A\n",
            "Training...:  35%|███▍      | 600/1715 [15:23:20<27:02:53, 87.33s/it]\u001b[A\n",
            "Training...:  35%|███▌      | 601/1715 [15:24:46<26:50:04, 86.72s/it]\u001b[A\n",
            "Training...:  35%|███▌      | 602/1715 [15:26:12<26:44:14, 86.48s/it]\u001b[A\n",
            "Training...:  35%|███▌      | 603/1715 [15:27:39<26:47:47, 86.75s/it]\u001b[A\n",
            "Training...:  35%|███▌      | 604/1715 [15:29:05<26:39:19, 86.37s/it]\u001b[A\n",
            "Training...:  35%|███▌      | 605/1715 [15:30:27<26:16:50, 85.24s/it]\u001b[A\n",
            "Training...:  35%|███▌      | 606/1715 [15:31:55<26:27:50, 85.91s/it]\u001b[A\n",
            "Training...:  35%|███▌      | 607/1715 [15:33:17<26:07:24, 84.88s/it]\u001b[A\n",
            "\n",
            "Epoch ... :   0%|          | 0/2 [15:36:02<?, ?it/s]\n",
            "Training...:  35%|███▌      | 608/1715 [15:36:02<25:53:46, 84.22s/it]\u001b[A"
          ]
        },
        {
          "metadata": {
            "tags": null
          },
          "name": "stdout",
          "output_type": "stream",
          "text": [
            "Loss: 0.7316921353340149, Learning Rate: 0.0002467347076162696\n"
          ]
        },
        {
          "metadata": {
            "tags": null
          },
          "name": "stderr",
          "output_type": "stream",
          "text": [
            "Several commits (3) will be pushed upstream.\n",
            "WARNING:huggingface_hub.repository:Several commits (3) will be pushed upstream.\n",
            "\n",
            "Training...:  36%|███▌      | 609/1715 [15:36:52<30:20:27, 98.76s/it]\u001b[A\n",
            "Training...:  36%|███▌      | 610/1715 [15:38:32<30:21:11, 98.89s/it]\u001b[A\n",
            "Training...:  36%|███▌      | 611/1715 [15:40:09<30:12:25, 98.50s/it]\u001b[A\n",
            "Training...:  36%|███▌      | 612/1715 [15:41:49<30:20:15, 99.02s/it]\u001b[A\n",
            "Training...:  36%|███▌      | 613/1715 [15:43:27<30:09:58, 98.55s/it]\u001b[A\n",
            "Training...:  36%|███▌      | 614/1715 [15:45:04<30:02:38, 98.24s/it]\u001b[A\n",
            "Training...:  36%|███▌      | 615/1715 [15:46:41<29:52:18, 97.76s/it]\u001b[A\n",
            "Training...:  36%|███▌      | 616/1715 [15:48:17<29:43:05, 97.35s/it]\u001b[A\n",
            "Training...:  36%|███▌      | 617/1715 [15:49:46<28:51:05, 94.59s/it]\u001b[A\n",
            "Training...:  36%|███▌      | 618/1715 [15:51:12<28:04:58, 92.16s/it]\u001b[A\n",
            "Training...:  36%|███▌      | 619/1715 [15:52:37<27:25:48, 90.10s/it]\u001b[A\n",
            "Training...:  36%|███▌      | 620/1715 [15:54:04<27:05:28, 89.07s/it]\u001b[A\n",
            "Training...:  36%|███▌      | 621/1715 [15:55:30<26:47:34, 88.17s/it]\u001b[A\n",
            "Training...:  36%|███▋      | 622/1715 [15:56:55<26:30:39, 87.32s/it]\u001b[A\n",
            "Training...:  36%|███▋      | 623/1715 [15:58:23<26:29:24, 87.33s/it]\u001b[A\n",
            "Training...:  36%|███▋      | 624/1715 [15:59:49<26:23:08, 87.07s/it]\u001b[A\n",
            "Training...:  36%|███▋      | 625/1715 [16:01:14<26:07:21, 86.28s/it]\u001b[A\n",
            "Training...:  37%|███▋      | 626/1715 [16:02:42<26:14:19, 86.74s/it]\u001b[A\n",
            "Training...:  37%|███▋      | 627/1715 [16:04:06<25:58:57, 85.97s/it]\u001b[A\n",
            "Training...:  37%|███▋      | 628/1715 [16:05:32<25:58:33, 86.03s/it]\u001b[A\n",
            "Training...:  37%|███▋      | 629/1715 [16:07:00<26:06:23, 86.54s/it]\u001b[A\n",
            "Training...:  37%|███▋      | 630/1715 [16:08:23<25:48:30, 85.63s/it]\u001b[A\n",
            "Training...:  37%|███▋      | 631/1715 [16:09:49<25:47:46, 85.67s/it]\u001b[A\n",
            "Training...:  37%|███▋      | 632/1715 [16:11:17<25:59:19, 86.39s/it]\u001b[A\n",
            "Training...:  37%|███▋      | 633/1715 [16:12:40<25:41:43, 85.49s/it]\u001b[A\n",
            "Training...:  37%|███▋      | 634/1715 [16:14:06<25:38:43, 85.41s/it]\u001b[A\n",
            "Training...:  37%|███▋      | 635/1715 [16:15:33<25:49:14, 86.07s/it]\u001b[A\n",
            "Training...:  37%|███▋      | 636/1715 [16:16:59<25:43:49, 85.85s/it]\u001b[A\n",
            "Training...:  37%|███▋      | 637/1715 [16:18:24<25:40:32, 85.74s/it]\u001b[A\n",
            "Training...:  37%|███▋      | 638/1715 [16:19:48<25:27:41, 85.11s/it]\u001b[A\n",
            "Training...:  37%|███▋      | 639/1715 [16:21:16<25:41:49, 85.98s/it]\u001b[A\n",
            "\n",
            "Epoch ... :   0%|          | 0/2 [16:24:05<?, ?it/s]\n",
            "Training...:  37%|███▋      | 640/1715 [16:24:05<25:38:37, 85.88s/it]\u001b[A"
          ]
        },
        {
          "metadata": {
            "tags": null
          },
          "name": "stdout",
          "output_type": "stream",
          "text": [
            "Loss: 0.7056480050086975, Learning Rate: 0.00024393587955273688\n"
          ]
        },
        {
          "metadata": {
            "tags": null
          },
          "name": "stderr",
          "output_type": "stream",
          "text": [
            "\n",
            "Training...:  37%|███▋      | 641/1715 [16:24:55<29:52:14, 100.13s/it]\u001b[A\n",
            "Training...:  37%|███▋      | 642/1715 [16:26:35<29:51:31, 100.18s/it]\u001b[A\n",
            "Training...:  37%|███▋      | 643/1715 [16:28:13<29:38:52, 99.56s/it] \u001b[A\n",
            "Training...:  38%|███▊      | 644/1715 [16:29:51<29:27:45, 99.03s/it]\u001b[A\n",
            "Training...:  38%|███▊      | 645/1715 [16:31:27<29:09:21, 98.09s/it]\u001b[A\n",
            "Training...:  38%|███▊      | 646/1715 [16:33:04<29:02:11, 97.78s/it]\u001b[A\n",
            "Training...:  38%|███▊      | 647/1715 [16:34:42<29:00:19, 97.77s/it]\u001b[A\n",
            "Training...:  38%|███▊      | 648/1715 [16:36:18<28:53:18, 97.47s/it]\u001b[A\n",
            "Training...:  38%|███▊      | 649/1715 [16:37:48<28:10:14, 95.14s/it]\u001b[A\n",
            "Training...:  38%|███▊      | 650/1715 [16:39:16<27:32:33, 93.10s/it]\u001b[A\n",
            "Training...:  38%|███▊      | 651/1715 [16:40:41<26:44:52, 90.50s/it]\u001b[A\n",
            "Training...:  38%|███▊      | 652/1715 [16:42:07<26:20:55, 89.23s/it]\u001b[A\n",
            "Training...:  38%|███▊      | 653/1715 [16:43:32<25:58:01, 88.02s/it]\u001b[A\n",
            "Training...:  38%|███▊      | 654/1715 [16:44:59<25:49:58, 87.65s/it]\u001b[A\n",
            "Training...:  38%|███▊      | 655/1715 [16:46:23<25:29:22, 86.57s/it]\u001b[A\n",
            "Training...:  38%|███▊      | 656/1715 [16:47:49<25:23:48, 86.34s/it]\u001b[A\n",
            "Training...:  38%|███▊      | 657/1715 [16:49:12<25:05:45, 85.39s/it]\u001b[A\n",
            "Training...:  38%|███▊      | 658/1715 [16:50:40<25:15:01, 86.00s/it]\u001b[A\n",
            "Training...:  38%|███▊      | 659/1715 [16:52:03<25:00:59, 85.28s/it]\u001b[A\n",
            "Training...:  38%|███▊      | 660/1715 [16:53:29<25:01:34, 85.40s/it]\u001b[A\n",
            "Training...:  39%|███▊      | 661/1715 [16:54:56<25:09:34, 85.93s/it]\u001b[A\n",
            "Training...:  39%|███▊      | 662/1715 [16:56:21<25:03:45, 85.68s/it]\u001b[A\n",
            "Training...:  39%|███▊      | 663/1715 [16:57:47<25:05:45, 85.88s/it]\u001b[A\n",
            "Training...:  39%|███▊      | 664/1715 [16:59:11<24:51:56, 85.17s/it]\u001b[A\n",
            "Training...:  39%|███▉      | 665/1715 [17:00:42<25:10:03, 86.29s/it]\u001b[A\n",
            "Training...:  39%|███▉      | 666/1715 [17:02:06<25:06:49, 86.19s/it]\u001b[A\n",
            "Training...:  39%|███▉      | 667/1715 [17:03:29<24:48:17, 85.21s/it]\u001b[A\n",
            "Training...:  39%|███▉      | 668/1715 [17:04:55<24:54:27, 85.64s/it]\u001b[A\n",
            "Training...:  39%|███▉      | 669/1715 [17:06:21<24:51:59, 85.58s/it]\u001b[A\n",
            "Training...:  39%|███▉      | 670/1715 [17:07:44<24:37:26, 84.83s/it]\u001b[A\n",
            "Training...:  39%|███▉      | 671/1715 [17:09:11<24:46:02, 85.40s/it]\u001b[A\n",
            "\n",
            "Epoch ... :   0%|          | 0/2 [17:11:58<?, ?it/s]\n",
            "Training...:  39%|███▉      | 672/1715 [17:11:58<24:41:50, 85.24s/it]\u001b[A"
          ]
        },
        {
          "metadata": {
            "tags": null
          },
          "name": "stdout",
          "output_type": "stream",
          "text": [
            "Loss: 0.973042368888855, Learning Rate: 0.00024113703693728894\n"
          ]
        },
        {
          "metadata": {
            "tags": null
          },
          "name": "stderr",
          "output_type": "stream",
          "text": [
            "Several commits (2) will be pushed upstream.\n",
            "WARNING:huggingface_hub.repository:Several commits (2) will be pushed upstream.\n",
            "\n",
            "Training...:  39%|███▉      | 673/1715 [17:12:45<28:33:22, 98.66s/it]\u001b[A\n",
            "Training...:  39%|███▉      | 674/1715 [17:14:25<28:35:31, 98.88s/it]\u001b[A\n",
            "Training...:  39%|███▉      | 675/1715 [17:16:02<28:24:25, 98.33s/it]\u001b[A\n",
            "Training...:  39%|███▉      | 676/1715 [17:17:41<28:25:12, 98.47s/it]\u001b[A\n",
            "Training...:  39%|███▉      | 677/1715 [17:19:20<28:27:48, 98.72s/it]\u001b[A\n",
            "Training...:  40%|███▉      | 678/1715 [17:20:56<28:11:46, 97.89s/it]\u001b[A\n",
            "Training...:  40%|███▉      | 679/1715 [17:22:36<28:23:46, 98.67s/it]\u001b[A\n",
            "Training...:  40%|███▉      | 680/1715 [17:24:11<28:03:07, 97.57s/it]\u001b[A\n",
            "Training...:  40%|███▉      | 681/1715 [17:25:42<27:23:19, 95.36s/it]\u001b[A\n",
            "Training...:  40%|███▉      | 682/1715 [17:27:07<26:32:22, 92.49s/it]\u001b[A\n",
            "Training...:  40%|███▉      | 683/1715 [17:28:36<26:12:44, 91.44s/it]\u001b[A\n",
            "Training...:  40%|███▉      | 684/1715 [17:30:09<26:19:22, 91.91s/it]\u001b[A\n",
            "Training...:  40%|███▉      | 685/1715 [17:31:39<26:06:41, 91.26s/it]\u001b[A\n",
            "Training...:  40%|████      | 686/1715 [17:33:06<25:41:05, 89.86s/it]\u001b[A\n",
            "Training...:  40%|████      | 687/1715 [17:34:33<25:25:41, 89.05s/it]\u001b[A\n",
            "Training...:  40%|████      | 688/1715 [17:36:00<25:14:46, 88.50s/it]\u001b[A\n",
            "Training...:  40%|████      | 689/1715 [17:37:27<25:05:42, 88.05s/it]\u001b[A\n",
            "Training...:  40%|████      | 690/1715 [17:38:52<24:45:35, 86.96s/it]\u001b[A\n",
            "Training...:  40%|████      | 691/1715 [17:40:19<24:45:49, 87.06s/it]\u001b[A\n",
            "Training...:  40%|████      | 692/1715 [17:41:44<24:33:12, 86.40s/it]\u001b[A\n",
            "Training...:  40%|████      | 693/1715 [17:43:07<24:13:28, 85.33s/it]\u001b[A\n",
            "Training...:  40%|████      | 694/1715 [17:44:33<24:19:22, 85.76s/it]\u001b[A\n",
            "Training...:  41%|████      | 695/1715 [17:45:59<24:17:45, 85.75s/it]\u001b[A\n",
            "Training...:  41%|████      | 696/1715 [17:47:22<24:01:30, 84.88s/it]\u001b[A\n",
            "Training...:  41%|████      | 697/1715 [17:48:50<24:15:53, 85.81s/it]\u001b[A\n",
            "Training...:  41%|████      | 698/1715 [17:50:16<24:15:39, 85.88s/it]\u001b[A\n",
            "Training...:  41%|████      | 699/1715 [17:51:40<24:03:17, 85.23s/it]\u001b[A\n",
            "Training...:  41%|████      | 700/1715 [17:53:07<24:12:38, 85.87s/it]\u001b[A\n",
            "Training...:  41%|████      | 701/1715 [17:54:33<24:13:44, 86.02s/it]\u001b[A\n",
            "Training...:  41%|████      | 702/1715 [17:55:58<24:02:46, 85.46s/it]\u001b[A\n",
            "Training...:  41%|████      | 703/1715 [17:57:24<24:08:19, 85.87s/it]\u001b[A\n",
            "\n",
            "Epoch ... :   0%|          | 0/2 [18:00:13<?, ?it/s]\n",
            "Training...:  41%|████      | 704/1715 [18:00:13<23:50:32, 84.90s/it]\u001b[A"
          ]
        },
        {
          "metadata": {
            "tags": null
          },
          "name": "stdout",
          "output_type": "stream",
          "text": [
            "Loss: 0.6777535080909729, Learning Rate: 0.00023833820887375623\n"
          ]
        },
        {
          "metadata": {
            "tags": null
          },
          "name": "stderr",
          "output_type": "stream",
          "text": [
            "\n",
            "Training...:  41%|████      | 705/1715 [18:01:01<27:56:21, 99.59s/it]\u001b[A\n",
            "Training...:  41%|████      | 706/1715 [18:02:40<27:52:11, 99.44s/it]\u001b[A\n",
            "Training...:  41%|████      | 707/1715 [18:04:17<27:39:21, 98.77s/it]\u001b[A\n",
            "Training...:  41%|████▏     | 708/1715 [18:05:55<27:32:12, 98.44s/it]\u001b[A\n",
            "Training...:  41%|████▏     | 709/1715 [18:07:31<27:17:57, 97.69s/it]\u001b[A\n",
            "Training...:  41%|████▏     | 710/1715 [18:09:08<27:14:09, 97.56s/it]\u001b[A\n",
            "Training...:  41%|████▏     | 711/1715 [18:10:45<27:08:56, 97.35s/it]\u001b[A\n",
            "Training...:  42%|████▏     | 712/1715 [18:12:21<27:01:03, 96.97s/it]\u001b[A\n",
            "Training...:  42%|████▏     | 713/1715 [18:13:48<26:12:04, 94.14s/it]\u001b[A\n",
            "Training...:  42%|████▏     | 714/1715 [18:15:16<25:37:38, 92.17s/it]\u001b[A\n",
            "Training...:  42%|████▏     | 715/1715 [18:16:42<25:03:29, 90.21s/it]\u001b[A\n",
            "Training...:  42%|████▏     | 716/1715 [18:18:08<24:43:40, 89.11s/it]\u001b[A\n",
            "Training...:  42%|████▏     | 717/1715 [18:19:37<24:39:00, 88.92s/it]\u001b[A\n",
            "Training...:  42%|████▏     | 718/1715 [18:21:00<24:11:04, 87.33s/it]\u001b[A\n",
            "Training...:  42%|████▏     | 719/1715 [18:22:28<24:12:02, 87.47s/it]\u001b[A\n",
            "Training...:  42%|████▏     | 720/1715 [18:23:52<23:54:58, 86.53s/it]\u001b[A\n",
            "Training...:  42%|████▏     | 721/1715 [18:25:18<23:48:41, 86.24s/it]\u001b[A\n",
            "Training...:  42%|████▏     | 722/1715 [18:26:50<24:14:51, 87.91s/it]\u001b[A\n",
            "Training...:  42%|████▏     | 723/1715 [18:28:24<24:42:49, 89.69s/it]\u001b[A\n",
            "Training...:  42%|████▏     | 724/1715 [18:29:53<24:41:50, 89.72s/it]\u001b[A\n",
            "Training...:  42%|████▏     | 725/1715 [18:31:16<24:07:12, 87.71s/it]\u001b[A\n",
            "Training...:  42%|████▏     | 726/1715 [18:32:42<23:57:16, 87.20s/it]\u001b[A\n",
            "Training...:  42%|████▏     | 727/1715 [18:34:07<23:42:19, 86.38s/it]\u001b[A\n",
            "Training...:  42%|████▏     | 728/1715 [18:35:29<23:18:15, 85.00s/it]\u001b[A\n",
            "Training...:  43%|████▎     | 729/1715 [18:36:54<23:17:41, 85.05s/it]\u001b[A\n",
            "Training...:  43%|████▎     | 730/1715 [18:38:18<23:12:04, 84.80s/it]\u001b[A\n",
            "Training...:  43%|████▎     | 731/1715 [18:39:40<22:58:46, 84.07s/it]\u001b[A\n",
            "Training...:  43%|████▎     | 732/1715 [18:41:07<23:06:59, 84.66s/it]\u001b[A\n",
            "Training...:  43%|████▎     | 733/1715 [18:42:30<22:59:29, 84.29s/it]\u001b[A\n",
            "Training...:  43%|████▎     | 734/1715 [18:43:52<22:45:47, 83.53s/it]\u001b[A\n",
            "Training...:  43%|████▎     | 735/1715 [18:45:17<22:54:15, 84.14s/it]\u001b[A\n",
            "\n",
            "Epoch ... :   0%|          | 0/2 [18:48:03<?, ?it/s]\n",
            "Training...:  43%|████▎     | 736/1715 [18:48:03<22:41:13, 83.43s/it]\u001b[A"
          ]
        },
        {
          "metadata": {
            "tags": null
          },
          "name": "stdout",
          "output_type": "stream",
          "text": [
            "Loss: 0.7482792735099792, Learning Rate: 0.00023553938081022352\n"
          ]
        },
        {
          "metadata": {
            "tags": null
          },
          "name": "stderr",
          "output_type": "stream",
          "text": [
            "Several commits (2) will be pushed upstream.\n",
            "WARNING:huggingface_hub.repository:Several commits (2) will be pushed upstream.\n",
            "\n",
            "Training...:  43%|████▎     | 737/1715 [18:48:51<26:35:58, 97.91s/it]\u001b[A\n",
            "Training...:  43%|████▎     | 738/1715 [18:50:28<26:32:59, 97.83s/it]\u001b[A\n",
            "Training...:  43%|████▎     | 739/1715 [18:52:04<26:21:57, 97.25s/it]\u001b[A\n",
            "Training...:  43%|████▎     | 740/1715 [18:53:39<26:06:12, 96.38s/it]\u001b[A\n",
            "Training...:  43%|████▎     | 741/1715 [18:55:13<25:53:23, 95.69s/it]\u001b[A\n",
            "Training...:  43%|████▎     | 742/1715 [18:56:48<25:51:19, 95.66s/it]\u001b[A\n",
            "Training...:  43%|████▎     | 743/1715 [18:58:23<25:47:20, 95.51s/it]\u001b[A\n",
            "Training...:  43%|████▎     | 744/1715 [19:00:01<25:54:19, 96.04s/it]\u001b[A\n",
            "Training...:  43%|████▎     | 745/1715 [19:01:30<25:19:05, 93.96s/it]\u001b[A\n",
            "Training...:  43%|████▎     | 746/1715 [19:02:57<24:45:07, 91.96s/it]\u001b[A\n",
            "Training...:  44%|████▎     | 747/1715 [19:04:22<24:11:14, 89.95s/it]\u001b[A\n",
            "Training...:  44%|████▎     | 748/1715 [19:05:49<23:52:38, 88.89s/it]\u001b[A\n",
            "Training...:  44%|████▎     | 749/1715 [19:07:14<23:32:33, 87.74s/it]\u001b[A\n",
            "Training...:  44%|████▎     | 750/1715 [19:08:43<23:35:54, 88.04s/it]\u001b[A\n",
            "Training...:  44%|████▍     | 751/1715 [19:10:10<23:30:41, 87.80s/it]\u001b[A\n",
            "Training...:  44%|████▍     | 752/1715 [19:11:36<23:21:47, 87.34s/it]\u001b[A\n",
            "Training...:  44%|████▍     | 753/1715 [19:13:06<23:33:00, 88.13s/it]\u001b[A\n",
            "Training...:  44%|████▍     | 754/1715 [19:14:34<23:32:30, 88.19s/it]\u001b[A\n",
            "Training...:  44%|████▍     | 755/1715 [19:16:00<23:20:20, 87.52s/it]\u001b[A\n",
            "Training...:  44%|████▍     | 756/1715 [19:17:30<23:30:21, 88.24s/it]\u001b[A\n",
            "Training...:  44%|████▍     | 757/1715 [19:18:59<23:30:43, 88.35s/it]\u001b[A\n",
            "Training...:  44%|████▍     | 758/1715 [19:20:25<23:18:46, 87.70s/it]\u001b[A\n",
            "Training...:  44%|████▍     | 759/1715 [19:21:55<23:25:44, 88.23s/it]\u001b[A\n",
            "Training...:  44%|████▍     | 760/1715 [19:23:18<23:01:16, 86.78s/it]\u001b[A\n",
            "Training...:  44%|████▍     | 761/1715 [19:24:46<23:03:28, 87.01s/it]\u001b[A\n",
            "Training...:  44%|████▍     | 762/1715 [19:26:13<23:03:20, 87.09s/it]\u001b[A\n",
            "Training...:  44%|████▍     | 763/1715 [19:27:37<22:50:13, 86.36s/it]\u001b[A\n",
            "Training...:  45%|████▍     | 764/1715 [19:29:04<22:47:26, 86.27s/it]\u001b[A\n",
            "Training...:  45%|████▍     | 765/1715 [19:30:27<22:33:09, 85.46s/it]\u001b[A\n",
            "Training...:  45%|████▍     | 766/1715 [19:31:54<22:38:26, 85.89s/it]\u001b[A\n",
            "Training...:  45%|████▍     | 767/1715 [19:33:27<23:12:42, 88.15s/it]\u001b[A\n",
            "\n",
            "Epoch ... :   0%|          | 0/2 [19:36:28<?, ?it/s]\n",
            "Training...:  45%|████▍     | 768/1715 [19:36:28<23:20:19, 88.72s/it]\u001b[A"
          ]
        },
        {
          "metadata": {
            "tags": null
          },
          "name": "stdout",
          "output_type": "stream",
          "text": [
            "Loss: 0.6709142327308655, Learning Rate: 0.00023274053819477558\n"
          ]
        },
        {
          "metadata": {
            "tags": null
          },
          "name": "stderr",
          "output_type": "stream",
          "text": [
            "Several commits (3) will be pushed upstream.\n",
            "WARNING:huggingface_hub.repository:Several commits (3) will be pushed upstream.\n",
            "\n",
            "Training...:  45%|████▍     | 769/1715 [19:37:16<27:16:03, 103.77s/it]\u001b[A\n",
            "Training...:  45%|████▍     | 770/1715 [19:38:55<26:48:16, 102.11s/it]\u001b[A\n",
            "Training...:  45%|████▍     | 771/1715 [19:40:34<26:35:37, 101.42s/it]\u001b[A\n",
            "Training...:  45%|████▌     | 772/1715 [19:42:13<26:19:32, 100.50s/it]\u001b[A\n",
            "Training...:  45%|████▌     | 773/1715 [19:43:48<25:54:57, 99.04s/it] \u001b[A\n",
            "Training...:  45%|████▌     | 774/1715 [19:45:24<25:36:18, 97.96s/it]\u001b[A\n",
            "Training...:  45%|████▌     | 775/1715 [19:46:59<25:23:55, 97.27s/it]\u001b[A\n",
            "Training...:  45%|████▌     | 776/1715 [19:48:36<25:20:53, 97.18s/it]\u001b[A\n",
            "Training...:  45%|████▌     | 777/1715 [19:50:14<25:20:49, 97.28s/it]\u001b[A\n",
            "Training...:  45%|████▌     | 778/1715 [19:51:47<25:00:38, 96.09s/it]\u001b[A\n",
            "Training...:  45%|████▌     | 779/1715 [19:53:50<27:02:00, 103.97s/it]\u001b[A\n",
            "Training...:  45%|████▌     | 780/1715 [19:55:27<26:28:15, 101.92s/it]\u001b[A\n",
            "Training...:  46%|████▌     | 781/1715 [19:56:57<25:29:41, 98.27s/it] \u001b[A\n",
            "Training...:  46%|████▌     | 782/1715 [19:58:56<27:07:04, 104.63s/it]\u001b[A\n",
            "Training...:  46%|████▌     | 783/1715 [20:00:21<25:32:51, 98.68s/it] \u001b[A\n",
            "Training...:  46%|████▌     | 784/1715 [20:01:57<25:20:54, 98.02s/it]\u001b[A\n",
            "Training...:  46%|████▌     | 785/1715 [20:03:59<27:08:30, 105.06s/it]\u001b[A\n",
            "Training...:  46%|████▌     | 786/1715 [20:05:23<25:30:12, 98.83s/it] \u001b[A\n",
            "Training...:  46%|████▌     | 787/1715 [20:06:56<25:00:43, 97.03s/it]\u001b[A\n",
            "Training...:  46%|████▌     | 788/1715 [20:08:53<26:30:08, 102.92s/it]\u001b[A\n",
            "Training...:  46%|████▌     | 789/1715 [20:10:14<24:49:37, 96.52s/it] \u001b[A\n",
            "Training...:  46%|████▌     | 790/1715 [20:11:46<24:28:00, 95.22s/it]\u001b[A\n",
            "Training...:  46%|████▌     | 791/1715 [20:13:43<26:04:15, 101.58s/it]\u001b[A\n",
            "Training...:  46%|████▌     | 792/1715 [20:15:06<24:37:07, 96.02s/it] \u001b[A\n",
            "Training...:  46%|████▌     | 793/1715 [20:16:39<24:23:34, 95.24s/it]\u001b[A\n",
            "Training...:  46%|████▋     | 794/1715 [20:18:39<26:13:24, 102.50s/it]\u001b[A\n",
            "Training...:  46%|████▋     | 795/1715 [20:20:21<26:10:09, 102.40s/it]\u001b[A\n",
            "Training...:  46%|████▋     | 796/1715 [20:21:55<25:28:36, 99.80s/it] \u001b[A\n",
            "Training...:  46%|████▋     | 797/1715 [20:23:18<24:09:49, 94.76s/it]\u001b[A\n",
            "Training...:  47%|████▋     | 798/1715 [20:25:17<25:59:59, 102.07s/it]\u001b[A\n",
            "Training...:  47%|████▋     | 799/1715 [20:26:50<25:19:27, 99.53s/it] \u001b[A\n",
            "\n",
            "Epoch ... :   0%|          | 0/2 [20:30:16<?, ?it/s]\n",
            "Training...:  47%|████▋     | 800/1715 [20:30:16<24:20:35, 95.78s/it]\u001b[A"
          ]
        },
        {
          "metadata": {
            "tags": null
          },
          "name": "stdout",
          "output_type": "stream",
          "text": [
            "Loss: 0.7956089377403259, Learning Rate: 0.00022994171013124287\n"
          ]
        },
        {
          "metadata": {
            "tags": null
          },
          "name": "stderr",
          "output_type": "stream",
          "text": [
            "\n",
            "Training...:  47%|████▋     | 801/1715 [20:31:05<29:49:13, 117.45s/it]\u001b[A\n",
            "Training...:  47%|████▋     | 802/1715 [20:32:53<29:00:55, 114.41s/it]\u001b[A\n",
            "Training...:  47%|████▋     | 803/1715 [20:34:30<27:42:51, 109.40s/it]\u001b[A\n",
            "Training...:  47%|████▋     | 804/1715 [20:36:10<26:54:38, 106.34s/it]\u001b[A\n",
            "Training...:  47%|████▋     | 805/1715 [20:38:12<28:07:58, 111.29s/it]\u001b[A\n",
            "Training...:  47%|████▋     | 806/1715 [20:39:54<27:21:15, 108.33s/it]\u001b[A\n",
            "Training...:  47%|████▋     | 807/1715 [20:41:32<26:32:44, 105.25s/it]\u001b[A\n",
            "Training...:  47%|████▋     | 808/1715 [20:43:07<25:44:56, 102.20s/it]\u001b[A\n",
            "Training...:  47%|████▋     | 809/1715 [20:44:36<24:41:24, 98.11s/it] \u001b[A\n",
            "Training...:  47%|████▋     | 810/1715 [20:46:02<23:45:03, 94.48s/it]\u001b[A\n",
            "Training...:  47%|████▋     | 811/1715 [20:47:29<23:11:20, 92.35s/it]\u001b[A\n",
            "Training...:  47%|████▋     | 812/1715 [20:48:55<22:39:21, 90.32s/it]\u001b[A\n",
            "Training...:  47%|████▋     | 813/1715 [20:50:27<22:46:19, 90.89s/it]\u001b[A\n",
            "Training...:  47%|████▋     | 814/1715 [20:52:21<24:30:45, 97.94s/it]\u001b[A\n",
            "Training...:  48%|████▊     | 815/1715 [20:54:05<24:57:10, 99.81s/it]\u001b[A\n",
            "Training...:  48%|████▊     | 816/1715 [20:55:33<24:00:29, 96.14s/it]\u001b[A\n",
            "Training...:  48%|████▊     | 817/1715 [20:56:58<23:11:05, 92.95s/it]\u001b[A\n",
            "Training...:  48%|████▊     | 818/1715 [20:58:59<25:12:42, 101.18s/it]\u001b[A\n",
            "Training...:  48%|████▊     | 819/1715 [21:00:26<24:06:59, 96.90s/it] \u001b[A\n",
            "Training...:  48%|████▊     | 820/1715 [21:01:52<23:18:33, 93.76s/it]\u001b[A\n",
            "Training...:  48%|████▊     | 821/1715 [21:03:53<25:16:47, 101.80s/it]\u001b[A\n",
            "Training...:  48%|████▊     | 822/1715 [21:05:36<25:21:34, 102.23s/it]\u001b[A\n",
            "Training...:  48%|████▊     | 823/1715 [21:07:05<24:19:11, 98.15s/it] \u001b[A\n",
            "Training...:  48%|████▊     | 824/1715 [21:08:30<23:19:16, 94.23s/it]\u001b[A\n",
            "Training...:  48%|████▊     | 825/1715 [21:10:31<25:18:48, 102.39s/it]\u001b[A\n",
            "Training...:  48%|████▊     | 826/1715 [21:12:05<24:38:22, 99.78s/it] \u001b[A\n",
            "Training...:  48%|████▊     | 827/1715 [21:13:37<24:04:39, 97.61s/it]\u001b[A\n",
            "Training...:  48%|████▊     | 828/1715 [21:15:43<26:06:57, 106.00s/it]\u001b[A\n",
            "Training...:  48%|████▊     | 829/1715 [21:17:27<25:58:14, 105.52s/it]\u001b[A\n",
            "Training...:  48%|████▊     | 830/1715 [21:18:55<24:39:12, 100.29s/it]\u001b[A\n",
            "Training...:  48%|████▊     | 831/1715 [21:20:20<23:28:39, 95.61s/it] \u001b[A\n",
            "\n",
            "Epoch ... :   0%|          | 0/2 [21:24:08<?, ?it/s]\n",
            "Training...:  49%|████▊     | 832/1715 [21:24:08<25:21:12, 103.37s/it]\u001b[A"
          ]
        },
        {
          "metadata": {
            "tags": null
          },
          "name": "stdout",
          "output_type": "stream",
          "text": [
            "Loss: 1.0832576751708984, Learning Rate: 0.00022714286751579493\n"
          ]
        },
        {
          "metadata": {
            "tags": null
          },
          "name": "stderr",
          "output_type": "stream",
          "text": [
            "Several commits (2) will be pushed upstream.\n",
            "WARNING:huggingface_hub.repository:Several commits (2) will be pushed upstream.\n",
            "\n",
            "Training...:  49%|████▊     | 833/1715 [21:24:56<29:06:03, 118.78s/it]\u001b[A\n",
            "Training...:  49%|████▊     | 834/1715 [21:26:35<27:36:31, 112.82s/it]\u001b[A\n",
            "Training...:  49%|████▊     | 835/1715 [21:28:15<26:39:38, 109.07s/it]\u001b[A\n",
            "Training...:  49%|████▊     | 836/1715 [21:29:54<25:52:36, 105.98s/it]\u001b[A\n",
            "Training...:  49%|████▉     | 837/1715 [21:31:32<25:14:46, 103.52s/it]\u001b[A\n",
            "Training...:  49%|████▉     | 838/1715 [21:33:11<24:53:25, 102.17s/it]\u001b[A\n",
            "Training...:  49%|████▉     | 839/1715 [21:34:47<24:25:03, 100.35s/it]\u001b[A\n",
            "Training...:  49%|████▉     | 840/1715 [21:36:24<24:07:27, 99.25s/it] \u001b[A\n",
            "Training...:  49%|████▉     | 841/1715 [21:37:59<23:46:20, 97.92s/it]\u001b[A\n",
            "Training...:  49%|████▉     | 842/1715 [21:39:25<22:54:53, 94.49s/it]\u001b[A\n",
            "Training...:  49%|████▉     | 843/1715 [21:40:52<22:22:06, 92.35s/it]\u001b[A\n",
            "Training...:  49%|████▉     | 844/1715 [21:42:18<21:50:33, 90.28s/it]\u001b[A\n",
            "Training...:  49%|████▉     | 845/1715 [21:43:45<21:33:27, 89.20s/it]\u001b[A\n",
            "Training...:  49%|████▉     | 846/1715 [21:45:14<21:32:29, 89.24s/it]\u001b[A\n",
            "Training...:  49%|████▉     | 847/1715 [21:46:39<21:13:04, 88.00s/it]\u001b[A\n",
            "Training...:  49%|████▉     | 848/1715 [21:48:07<21:09:42, 87.87s/it]\u001b[A\n",
            "Training...:  50%|████▉     | 849/1715 [21:49:34<21:06:51, 87.77s/it]\u001b[A\n",
            "Training...:  50%|████▉     | 850/1715 [21:51:00<20:55:39, 87.10s/it]\u001b[A\n",
            "Training...:  50%|████▉     | 851/1715 [21:52:27<20:54:23, 87.11s/it]\u001b[A\n",
            "Training...:  50%|████▉     | 852/1715 [21:53:52<20:44:17, 86.51s/it]\u001b[A\n",
            "Training...:  50%|████▉     | 853/1715 [21:55:17<20:38:29, 86.21s/it]\u001b[A\n",
            "Training...:  50%|████▉     | 854/1715 [21:56:43<20:32:31, 85.89s/it]\u001b[A\n",
            "Training...:  50%|████▉     | 855/1715 [21:58:09<20:31:34, 85.92s/it]\u001b[A\n",
            "Training...:  50%|████▉     | 856/1715 [21:59:33<20:23:56, 85.49s/it]\u001b[A\n",
            "Training...:  50%|████▉     | 857/1715 [22:01:00<20:29:08, 85.95s/it]\u001b[A\n",
            "Training...:  50%|█████     | 858/1715 [22:02:25<20:25:16, 85.78s/it]\u001b[A\n",
            "Training...:  50%|█████     | 859/1715 [22:03:49<20:14:53, 85.16s/it]\u001b[A\n",
            "Training...:  50%|█████     | 860/1715 [22:05:16<20:20:56, 85.68s/it]\u001b[A\n",
            "Training...:  50%|█████     | 861/1715 [22:06:42<20:21:20, 85.81s/it]\u001b[A\n",
            "Training...:  50%|█████     | 862/1715 [22:08:06<20:11:15, 85.20s/it]\u001b[A\n",
            "Training...:  50%|█████     | 863/1715 [22:09:33<20:17:55, 85.77s/it]\u001b[A\n",
            "\n",
            "Epoch ... :   0%|          | 0/2 [22:12:22<?, ?it/s]\n",
            "Training...:  50%|█████     | 864/1715 [22:12:22<20:15:12, 85.68s/it]\u001b[A"
          ]
        },
        {
          "metadata": {
            "tags": null
          },
          "name": "stdout",
          "output_type": "stream",
          "text": [
            "Loss: 0.7977034449577332, Learning Rate: 0.00022434403945226222\n"
          ]
        },
        {
          "metadata": {
            "tags": null
          },
          "name": "stderr",
          "output_type": "stream",
          "text": [
            "\n",
            "Training...:  50%|█████     | 865/1715 [22:13:11<23:33:27, 99.77s/it]\u001b[A\n",
            "Training...:  50%|█████     | 866/1715 [22:14:57<23:55:54, 101.48s/it]\u001b[A\n",
            "Training...:  51%|█████     | 867/1715 [22:16:37<23:48:27, 101.07s/it]\u001b[A\n",
            "Training...:  51%|█████     | 868/1715 [22:18:15<23:35:57, 100.30s/it]\u001b[A\n",
            "Training...:  51%|█████     | 869/1715 [22:20:29<25:53:30, 110.18s/it]\u001b[A\n",
            "Training...:  51%|█████     | 870/1715 [22:22:14<25:22:19, 108.09s/it]\u001b[A\n",
            "Training...:  51%|█████     | 871/1715 [22:24:05<25:42:43, 109.67s/it]\u001b[A\n",
            "Training...:  51%|█████     | 872/1715 [22:25:41<24:43:54, 105.62s/it]\u001b[A\n",
            "Training...:  51%|█████     | 873/1715 [22:27:12<23:38:11, 101.06s/it]\u001b[A\n",
            "Training...:  51%|█████     | 874/1715 [22:28:40<22:41:34, 97.14s/it] \u001b[A\n",
            "Training...:  51%|█████     | 875/1715 [22:30:15<22:31:58, 96.57s/it]\u001b[A\n",
            "Training...:  51%|█████     | 876/1715 [22:31:46<22:06:25, 94.86s/it]\u001b[A\n",
            "Training...:  51%|█████     | 877/1715 [22:33:45<23:46:56, 102.17s/it]\u001b[A\n",
            "Training...:  51%|█████     | 878/1715 [22:35:23<23:28:31, 100.97s/it]\u001b[A\n",
            "Training...:  51%|█████▏    | 879/1715 [22:36:58<22:59:32, 99.01s/it] \u001b[A\n",
            "Training...:  51%|█████▏    | 880/1715 [22:38:23<22:01:07, 94.93s/it]\u001b[A\n",
            "Training...:  51%|█████▏    | 881/1715 [22:40:22<23:41:32, 102.27s/it]\u001b[A\n",
            "Training...:  51%|█████▏    | 882/1715 [22:41:51<22:44:33, 98.29s/it] \u001b[A\n",
            "Training...:  51%|█████▏    | 883/1715 [22:43:27<22:32:30, 97.54s/it]\u001b[A\n",
            "Training...:  52%|█████▏    | 884/1715 [22:45:29<24:12:40, 104.89s/it]\u001b[A\n",
            "Training...:  52%|█████▏    | 885/1715 [22:46:53<22:44:58, 98.67s/it] \u001b[A\n",
            "Training...:  52%|█████▏    | 886/1715 [22:48:29<22:29:00, 97.64s/it]\u001b[A\n",
            "Training...:  52%|█████▏    | 887/1715 [22:50:30<24:06:21, 104.81s/it]\u001b[A\n",
            "Training...:  52%|█████▏    | 888/1715 [22:51:55<22:40:48, 98.73s/it] \u001b[A\n",
            "Training...:  52%|█████▏    | 889/1715 [22:53:28<22:16:11, 97.06s/it]\u001b[A"
          ]
        }
      ],
      "source": [
        "\n",
        "\n",
        "train_time = 0\n",
        "epochs = tqdm.tqdm(range(num_epochs), desc=\"Epoch ... \", position=0)\n",
        "for epoch in epochs:\n",
        "    # ======================== Training ================================\n",
        "    train_start = time.time()\n",
        "    train_metrics = []\n",
        "\n",
        "    # Create sampling rng\n",
        "    rng, input_rng = jax.random.split(rng)\n",
        "\n",
        "    # Generate an epoch by shuffling sampling indices from the train dataset\n",
        "    num_train_samples = len(train_data['input_ids'])\n",
        "    train_samples_idx = jax.random.permutation(input_rng, jnp.arange(num_train_samples))\n",
        "    #train_batch_idx = generate_batch_splits(train_samples_idx, train_batch_size)\n",
        "\n",
        "    # Gather the indexes for creating the batch and do a training step\n",
        "    batches_tqdm = tqdm.tqdm(range(num_train_samples // train_batch_size), desc=\"Training...\", position=1)\n",
        "    for step, batch_idx in enumerate(batches_tqdm):\n",
        "        #samples = [tokenized_datasets[\"train\"][int(idx)] for idx in batch_idx]\n",
        "        model_inputs = batch_from_indices(train_data, train_samples_idx[train_batch_size * batch_idx:train_batch_size * batch_idx + train_batch_size])\n",
        "        #print('model_inputs are', {key:val.shape for key, val in model_inputs.items()})\n",
        "        #model_inputs = data_collator(samples)\n",
        "\n",
        "        # Model forward\n",
        "        model_inputs = flax.training.common_utils.shard(model_inputs)\n",
        "        state, train_metric, dropout_rngs = p_train_step(state, model_inputs, dropout_rng=dropout_rngs)\n",
        "        train_metrics.append(train_metric)\n",
        "\n",
        "        cur_step = epoch * (num_train_samples // train_batch_size) + step\n",
        "\n",
        "        if cur_step % logging_steps == 0 and cur_step > 0 and jax.process_index() == 0:\n",
        "            # Save metrics\n",
        "            train_metric = flax.jax_utils.unreplicate(train_metric)\n",
        "            train_time += time.time() - train_start\n",
        "            #if has_tensorboard and jax.process_index() == 0:\n",
        "            #    write_train_metric(summary_writer, train_metrics, train_time, cur_step)\n",
        "\n",
        "            epochs.write(\n",
        "                f\"Loss: {train_metric['loss'].mean()}, Learning Rate: {train_metric['learning_rate'].mean()}\"\n",
        "            )\n",
        "\n",
        "            train_metrics = []\n",
        "        #if cur_step % (num_train_samples // 8) == 0:\n",
        "            # save checkpoint\n",
        "            if jax.process_index() == 0:\n",
        "                params = jax.device_get(jax.tree_map(lambda x: x[0], state.params))\n",
        "                model.save_pretrained('local_model', params=params)\n",
        "                repo.push_to_hub(commit_message=f'step={step} loss={train_metric[\"loss\"].mean()}', blocking=False)"
      ]
    },
    {
      "cell_type": "code",
      "execution_count": null,
      "metadata": {
        "id": "aGdYRKVJxHxN"
      },
      "outputs": [],
      "source": [
        "while True:\n",
        "  print(repr(eval(input('>>> '), globals(), locals())))"
      ]
    },
    {
      "cell_type": "markdown",
      "metadata": {
        "id": "K2lLdDyZP0mT"
      },
      "source": [
        ""
      ]
    }
  ],
  "metadata": {
    "accelerator": "GPU",
    "colab": {
      "background_execution": "on",
      "machine_shape": "hm",
      "name": "Untitled3.ipynb",
      "provenance": [],
      "include_colab_link": true
    },
    "jupytext": {
      "main_language": "python"
    },
    "kernelspec": {
      "display_name": "Python 3",
      "name": "python3"
    },
    "language_info": {
      "name": "python"
    },
    "widgets": {
      "application/vnd.jupyter.widget-state+json": {
        "8d2b177e9eb248ba9f7075406e257dac": {
          "model_module": "@jupyter-widgets/controls",
          "model_name": "HBoxModel",
          "model_module_version": "1.5.0",
          "state": {
            "_view_name": "HBoxView",
            "_dom_classes": [],
            "_model_name": "HBoxModel",
            "_view_module": "@jupyter-widgets/controls",
            "_model_module_version": "1.5.0",
            "_view_count": null,
            "_view_module_version": "1.5.0",
            "box_style": "",
            "layout": "IPY_MODEL_d7fd051f29de4264b52e804e84f49b1c",
            "_model_module": "@jupyter-widgets/controls",
            "children": [
              "IPY_MODEL_708515f5e150458f8116fd425f5a6697",
              "IPY_MODEL_c2d67aeb71f54d218efdde38341ecc1b",
              "IPY_MODEL_31979ffa817b4d8683fd447d682b6a39"
            ]
          }
        },
        "d7fd051f29de4264b52e804e84f49b1c": {
          "model_module": "@jupyter-widgets/base",
          "model_name": "LayoutModel",
          "model_module_version": "1.2.0",
          "state": {
            "_view_name": "LayoutView",
            "grid_template_rows": null,
            "right": null,
            "justify_content": null,
            "_view_module": "@jupyter-widgets/base",
            "overflow": null,
            "_model_module_version": "1.2.0",
            "_view_count": null,
            "flex_flow": null,
            "width": null,
            "min_width": null,
            "border": null,
            "align_items": null,
            "bottom": null,
            "_model_module": "@jupyter-widgets/base",
            "top": null,
            "grid_column": null,
            "overflow_y": null,
            "overflow_x": null,
            "grid_auto_flow": null,
            "grid_area": null,
            "grid_template_columns": null,
            "flex": null,
            "_model_name": "LayoutModel",
            "justify_items": null,
            "grid_row": null,
            "max_height": null,
            "align_content": null,
            "visibility": null,
            "align_self": null,
            "height": null,
            "min_height": null,
            "padding": null,
            "grid_auto_rows": null,
            "grid_gap": null,
            "max_width": null,
            "order": null,
            "_view_module_version": "1.2.0",
            "grid_template_areas": null,
            "object_position": null,
            "object_fit": null,
            "grid_auto_columns": null,
            "margin": null,
            "display": null,
            "left": null
          }
        },
        "708515f5e150458f8116fd425f5a6697": {
          "model_module": "@jupyter-widgets/controls",
          "model_name": "HTMLModel",
          "model_module_version": "1.5.0",
          "state": {
            "_view_name": "HTMLView",
            "style": "IPY_MODEL_d29f34df718441639dda43e74cee1af0",
            "_dom_classes": [],
            "description": "",
            "_model_name": "HTMLModel",
            "placeholder": "​",
            "_view_module": "@jupyter-widgets/controls",
            "_model_module_version": "1.5.0",
            "value": "Download file flax_model.msgpack:  68%",
            "_view_count": null,
            "_view_module_version": "1.5.0",
            "description_tooltip": null,
            "_model_module": "@jupyter-widgets/controls",
            "layout": "IPY_MODEL_36c1e1abf49446f5b1163f148af5e91e"
          }
        },
        "c2d67aeb71f54d218efdde38341ecc1b": {
          "model_module": "@jupyter-widgets/controls",
          "model_name": "FloatProgressModel",
          "model_module_version": "1.5.0",
          "state": {
            "_view_name": "ProgressView",
            "style": "IPY_MODEL_3667278bc4804f93b87d092550853d13",
            "_dom_classes": [],
            "description": "",
            "_model_name": "FloatProgressModel",
            "bar_style": "success",
            "max": 891625348,
            "_view_module": "@jupyter-widgets/controls",
            "_model_module_version": "1.5.0",
            "value": 891625348,
            "_view_count": null,
            "_view_module_version": "1.5.0",
            "orientation": "horizontal",
            "min": 0,
            "description_tooltip": null,
            "_model_module": "@jupyter-widgets/controls",
            "layout": "IPY_MODEL_4bb6955d2e8d4423943383341b5d24c1"
          }
        },
        "31979ffa817b4d8683fd447d682b6a39": {
          "model_module": "@jupyter-widgets/controls",
          "model_name": "HTMLModel",
          "model_module_version": "1.5.0",
          "state": {
            "_view_name": "HTMLView",
            "style": "IPY_MODEL_3b395aad74934962b5871d103b62658e",
            "_dom_classes": [],
            "description": "",
            "_model_name": "HTMLModel",
            "placeholder": "​",
            "_view_module": "@jupyter-widgets/controls",
            "_model_module_version": "1.5.0",
            "value": " 850M/850M [05:49&lt;00:00, 111kB/s]",
            "_view_count": null,
            "_view_module_version": "1.5.0",
            "description_tooltip": null,
            "_model_module": "@jupyter-widgets/controls",
            "layout": "IPY_MODEL_92fcdd2641e547aa833184f22948c63b"
          }
        },
        "d29f34df718441639dda43e74cee1af0": {
          "model_module": "@jupyter-widgets/controls",
          "model_name": "DescriptionStyleModel",
          "model_module_version": "1.5.0",
          "state": {
            "_view_name": "StyleView",
            "_model_name": "DescriptionStyleModel",
            "description_width": "",
            "_view_module": "@jupyter-widgets/base",
            "_model_module_version": "1.5.0",
            "_view_count": null,
            "_view_module_version": "1.2.0",
            "_model_module": "@jupyter-widgets/controls"
          }
        },
        "36c1e1abf49446f5b1163f148af5e91e": {
          "model_module": "@jupyter-widgets/base",
          "model_name": "LayoutModel",
          "model_module_version": "1.2.0",
          "state": {
            "_view_name": "LayoutView",
            "grid_template_rows": null,
            "right": null,
            "justify_content": null,
            "_view_module": "@jupyter-widgets/base",
            "overflow": null,
            "_model_module_version": "1.2.0",
            "_view_count": null,
            "flex_flow": null,
            "width": null,
            "min_width": null,
            "border": null,
            "align_items": null,
            "bottom": null,
            "_model_module": "@jupyter-widgets/base",
            "top": null,
            "grid_column": null,
            "overflow_y": null,
            "overflow_x": null,
            "grid_auto_flow": null,
            "grid_area": null,
            "grid_template_columns": null,
            "flex": null,
            "_model_name": "LayoutModel",
            "justify_items": null,
            "grid_row": null,
            "max_height": null,
            "align_content": null,
            "visibility": null,
            "align_self": null,
            "height": null,
            "min_height": null,
            "padding": null,
            "grid_auto_rows": null,
            "grid_gap": null,
            "max_width": null,
            "order": null,
            "_view_module_version": "1.2.0",
            "grid_template_areas": null,
            "object_position": null,
            "object_fit": null,
            "grid_auto_columns": null,
            "margin": null,
            "display": null,
            "left": null
          }
        },
        "3667278bc4804f93b87d092550853d13": {
          "model_module": "@jupyter-widgets/controls",
          "model_name": "ProgressStyleModel",
          "model_module_version": "1.5.0",
          "state": {
            "_view_name": "StyleView",
            "_model_name": "ProgressStyleModel",
            "description_width": "",
            "_view_module": "@jupyter-widgets/base",
            "_model_module_version": "1.5.0",
            "_view_count": null,
            "_view_module_version": "1.2.0",
            "bar_color": null,
            "_model_module": "@jupyter-widgets/controls"
          }
        },
        "4bb6955d2e8d4423943383341b5d24c1": {
          "model_module": "@jupyter-widgets/base",
          "model_name": "LayoutModel",
          "model_module_version": "1.2.0",
          "state": {
            "_view_name": "LayoutView",
            "grid_template_rows": null,
            "right": null,
            "justify_content": null,
            "_view_module": "@jupyter-widgets/base",
            "overflow": null,
            "_model_module_version": "1.2.0",
            "_view_count": null,
            "flex_flow": null,
            "width": null,
            "min_width": null,
            "border": null,
            "align_items": null,
            "bottom": null,
            "_model_module": "@jupyter-widgets/base",
            "top": null,
            "grid_column": null,
            "overflow_y": null,
            "overflow_x": null,
            "grid_auto_flow": null,
            "grid_area": null,
            "grid_template_columns": null,
            "flex": null,
            "_model_name": "LayoutModel",
            "justify_items": null,
            "grid_row": null,
            "max_height": null,
            "align_content": null,
            "visibility": null,
            "align_self": null,
            "height": null,
            "min_height": null,
            "padding": null,
            "grid_auto_rows": null,
            "grid_gap": null,
            "max_width": null,
            "order": null,
            "_view_module_version": "1.2.0",
            "grid_template_areas": null,
            "object_position": null,
            "object_fit": null,
            "grid_auto_columns": null,
            "margin": null,
            "display": null,
            "left": null
          }
        },
        "3b395aad74934962b5871d103b62658e": {
          "model_module": "@jupyter-widgets/controls",
          "model_name": "DescriptionStyleModel",
          "model_module_version": "1.5.0",
          "state": {
            "_view_name": "StyleView",
            "_model_name": "DescriptionStyleModel",
            "description_width": "",
            "_view_module": "@jupyter-widgets/base",
            "_model_module_version": "1.5.0",
            "_view_count": null,
            "_view_module_version": "1.2.0",
            "_model_module": "@jupyter-widgets/controls"
          }
        },
        "92fcdd2641e547aa833184f22948c63b": {
          "model_module": "@jupyter-widgets/base",
          "model_name": "LayoutModel",
          "model_module_version": "1.2.0",
          "state": {
            "_view_name": "LayoutView",
            "grid_template_rows": null,
            "right": null,
            "justify_content": null,
            "_view_module": "@jupyter-widgets/base",
            "overflow": null,
            "_model_module_version": "1.2.0",
            "_view_count": null,
            "flex_flow": null,
            "width": null,
            "min_width": null,
            "border": null,
            "align_items": null,
            "bottom": null,
            "_model_module": "@jupyter-widgets/base",
            "top": null,
            "grid_column": null,
            "overflow_y": null,
            "overflow_x": null,
            "grid_auto_flow": null,
            "grid_area": null,
            "grid_template_columns": null,
            "flex": null,
            "_model_name": "LayoutModel",
            "justify_items": null,
            "grid_row": null,
            "max_height": null,
            "align_content": null,
            "visibility": null,
            "align_self": null,
            "height": null,
            "min_height": null,
            "padding": null,
            "grid_auto_rows": null,
            "grid_gap": null,
            "max_width": null,
            "order": null,
            "_view_module_version": "1.2.0",
            "grid_template_areas": null,
            "object_position": null,
            "object_fit": null,
            "grid_auto_columns": null,
            "margin": null,
            "display": null,
            "left": null
          }
        },
        "4f331d56b9aa447c9d4ff3cbdb1d539a": {
          "model_module": "@jupyter-widgets/controls",
          "model_name": "HBoxModel",
          "model_module_version": "1.5.0",
          "state": {
            "_view_name": "HBoxView",
            "_dom_classes": [],
            "_model_name": "HBoxModel",
            "_view_module": "@jupyter-widgets/controls",
            "_model_module_version": "1.5.0",
            "_view_count": null,
            "_view_module_version": "1.5.0",
            "box_style": "",
            "layout": "IPY_MODEL_9102640426dd4d7eb64e326752024515",
            "_model_module": "@jupyter-widgets/controls",
            "children": [
              "IPY_MODEL_5ea2f78b8ff640e09534c3723984d158",
              "IPY_MODEL_e7007ec7470e41838d0904ffdb2c891c",
              "IPY_MODEL_010d53d8e85e41e9a519241d124bb12b"
            ]
          }
        },
        "9102640426dd4d7eb64e326752024515": {
          "model_module": "@jupyter-widgets/base",
          "model_name": "LayoutModel",
          "model_module_version": "1.2.0",
          "state": {
            "_view_name": "LayoutView",
            "grid_template_rows": null,
            "right": null,
            "justify_content": null,
            "_view_module": "@jupyter-widgets/base",
            "overflow": null,
            "_model_module_version": "1.2.0",
            "_view_count": null,
            "flex_flow": null,
            "width": null,
            "min_width": null,
            "border": null,
            "align_items": null,
            "bottom": null,
            "_model_module": "@jupyter-widgets/base",
            "top": null,
            "grid_column": null,
            "overflow_y": null,
            "overflow_x": null,
            "grid_auto_flow": null,
            "grid_area": null,
            "grid_template_columns": null,
            "flex": null,
            "_model_name": "LayoutModel",
            "justify_items": null,
            "grid_row": null,
            "max_height": null,
            "align_content": null,
            "visibility": null,
            "align_self": null,
            "height": null,
            "min_height": null,
            "padding": null,
            "grid_auto_rows": null,
            "grid_gap": null,
            "max_width": null,
            "order": null,
            "_view_module_version": "1.2.0",
            "grid_template_areas": null,
            "object_position": null,
            "object_fit": null,
            "grid_auto_columns": null,
            "margin": null,
            "display": null,
            "left": null
          }
        },
        "5ea2f78b8ff640e09534c3723984d158": {
          "model_module": "@jupyter-widgets/controls",
          "model_name": "HTMLModel",
          "model_module_version": "1.5.0",
          "state": {
            "_view_name": "HTMLView",
            "style": "IPY_MODEL_32dae5ee26954ee88639fee5b959db14",
            "_dom_classes": [],
            "description": "",
            "_model_name": "HTMLModel",
            "placeholder": "​",
            "_view_module": "@jupyter-widgets/controls",
            "_model_module_version": "1.5.0",
            "value": "Download file spiece.model: 100%",
            "_view_count": null,
            "_view_module_version": "1.5.0",
            "description_tooltip": null,
            "_model_module": "@jupyter-widgets/controls",
            "layout": "IPY_MODEL_9165da459a35429aac7e2e4d568a4094"
          }
        },
        "e7007ec7470e41838d0904ffdb2c891c": {
          "model_module": "@jupyter-widgets/controls",
          "model_name": "FloatProgressModel",
          "model_module_version": "1.5.0",
          "state": {
            "_view_name": "ProgressView",
            "style": "IPY_MODEL_e5b8b72b42424f4e9db925882bf32b66",
            "_dom_classes": [],
            "description": "",
            "_model_name": "FloatProgressModel",
            "bar_style": "success",
            "max": 527461,
            "_view_module": "@jupyter-widgets/controls",
            "_model_module_version": "1.5.0",
            "value": 527461,
            "_view_count": null,
            "_view_module_version": "1.5.0",
            "orientation": "horizontal",
            "min": 0,
            "description_tooltip": null,
            "_model_module": "@jupyter-widgets/controls",
            "layout": "IPY_MODEL_f378d616119a4035bbbff05a17d3a70c"
          }
        },
        "010d53d8e85e41e9a519241d124bb12b": {
          "model_module": "@jupyter-widgets/controls",
          "model_name": "HTMLModel",
          "model_module_version": "1.5.0",
          "state": {
            "_view_name": "HTMLView",
            "style": "IPY_MODEL_2f4c2a24a575475cb5a10461f6b7e39e",
            "_dom_classes": [],
            "description": "",
            "_model_name": "HTMLModel",
            "placeholder": "​",
            "_view_module": "@jupyter-widgets/controls",
            "_model_module_version": "1.5.0",
            "value": " 515k/515k [05:48&lt;00:00, 1.49kB/s]",
            "_view_count": null,
            "_view_module_version": "1.5.0",
            "description_tooltip": null,
            "_model_module": "@jupyter-widgets/controls",
            "layout": "IPY_MODEL_6af8bd66f11547968358bcd2019c41ba"
          }
        },
        "32dae5ee26954ee88639fee5b959db14": {
          "model_module": "@jupyter-widgets/controls",
          "model_name": "DescriptionStyleModel",
          "model_module_version": "1.5.0",
          "state": {
            "_view_name": "StyleView",
            "_model_name": "DescriptionStyleModel",
            "description_width": "",
            "_view_module": "@jupyter-widgets/base",
            "_model_module_version": "1.5.0",
            "_view_count": null,
            "_view_module_version": "1.2.0",
            "_model_module": "@jupyter-widgets/controls"
          }
        },
        "9165da459a35429aac7e2e4d568a4094": {
          "model_module": "@jupyter-widgets/base",
          "model_name": "LayoutModel",
          "model_module_version": "1.2.0",
          "state": {
            "_view_name": "LayoutView",
            "grid_template_rows": null,
            "right": null,
            "justify_content": null,
            "_view_module": "@jupyter-widgets/base",
            "overflow": null,
            "_model_module_version": "1.2.0",
            "_view_count": null,
            "flex_flow": null,
            "width": null,
            "min_width": null,
            "border": null,
            "align_items": null,
            "bottom": null,
            "_model_module": "@jupyter-widgets/base",
            "top": null,
            "grid_column": null,
            "overflow_y": null,
            "overflow_x": null,
            "grid_auto_flow": null,
            "grid_area": null,
            "grid_template_columns": null,
            "flex": null,
            "_model_name": "LayoutModel",
            "justify_items": null,
            "grid_row": null,
            "max_height": null,
            "align_content": null,
            "visibility": null,
            "align_self": null,
            "height": null,
            "min_height": null,
            "padding": null,
            "grid_auto_rows": null,
            "grid_gap": null,
            "max_width": null,
            "order": null,
            "_view_module_version": "1.2.0",
            "grid_template_areas": null,
            "object_position": null,
            "object_fit": null,
            "grid_auto_columns": null,
            "margin": null,
            "display": null,
            "left": null
          }
        },
        "e5b8b72b42424f4e9db925882bf32b66": {
          "model_module": "@jupyter-widgets/controls",
          "model_name": "ProgressStyleModel",
          "model_module_version": "1.5.0",
          "state": {
            "_view_name": "StyleView",
            "_model_name": "ProgressStyleModel",
            "description_width": "",
            "_view_module": "@jupyter-widgets/base",
            "_model_module_version": "1.5.0",
            "_view_count": null,
            "_view_module_version": "1.2.0",
            "bar_color": null,
            "_model_module": "@jupyter-widgets/controls"
          }
        },
        "f378d616119a4035bbbff05a17d3a70c": {
          "model_module": "@jupyter-widgets/base",
          "model_name": "LayoutModel",
          "model_module_version": "1.2.0",
          "state": {
            "_view_name": "LayoutView",
            "grid_template_rows": null,
            "right": null,
            "justify_content": null,
            "_view_module": "@jupyter-widgets/base",
            "overflow": null,
            "_model_module_version": "1.2.0",
            "_view_count": null,
            "flex_flow": null,
            "width": null,
            "min_width": null,
            "border": null,
            "align_items": null,
            "bottom": null,
            "_model_module": "@jupyter-widgets/base",
            "top": null,
            "grid_column": null,
            "overflow_y": null,
            "overflow_x": null,
            "grid_auto_flow": null,
            "grid_area": null,
            "grid_template_columns": null,
            "flex": null,
            "_model_name": "LayoutModel",
            "justify_items": null,
            "grid_row": null,
            "max_height": null,
            "align_content": null,
            "visibility": null,
            "align_self": null,
            "height": null,
            "min_height": null,
            "padding": null,
            "grid_auto_rows": null,
            "grid_gap": null,
            "max_width": null,
            "order": null,
            "_view_module_version": "1.2.0",
            "grid_template_areas": null,
            "object_position": null,
            "object_fit": null,
            "grid_auto_columns": null,
            "margin": null,
            "display": null,
            "left": null
          }
        },
        "2f4c2a24a575475cb5a10461f6b7e39e": {
          "model_module": "@jupyter-widgets/controls",
          "model_name": "DescriptionStyleModel",
          "model_module_version": "1.5.0",
          "state": {
            "_view_name": "StyleView",
            "_model_name": "DescriptionStyleModel",
            "description_width": "",
            "_view_module": "@jupyter-widgets/base",
            "_model_module_version": "1.5.0",
            "_view_count": null,
            "_view_module_version": "1.2.0",
            "_model_module": "@jupyter-widgets/controls"
          }
        },
        "6af8bd66f11547968358bcd2019c41ba": {
          "model_module": "@jupyter-widgets/base",
          "model_name": "LayoutModel",
          "model_module_version": "1.2.0",
          "state": {
            "_view_name": "LayoutView",
            "grid_template_rows": null,
            "right": null,
            "justify_content": null,
            "_view_module": "@jupyter-widgets/base",
            "overflow": null,
            "_model_module_version": "1.2.0",
            "_view_count": null,
            "flex_flow": null,
            "width": null,
            "min_width": null,
            "border": null,
            "align_items": null,
            "bottom": null,
            "_model_module": "@jupyter-widgets/base",
            "top": null,
            "grid_column": null,
            "overflow_y": null,
            "overflow_x": null,
            "grid_auto_flow": null,
            "grid_area": null,
            "grid_template_columns": null,
            "flex": null,
            "_model_name": "LayoutModel",
            "justify_items": null,
            "grid_row": null,
            "max_height": null,
            "align_content": null,
            "visibility": null,
            "align_self": null,
            "height": null,
            "min_height": null,
            "padding": null,
            "grid_auto_rows": null,
            "grid_gap": null,
            "max_width": null,
            "order": null,
            "_view_module_version": "1.2.0",
            "grid_template_areas": null,
            "object_position": null,
            "object_fit": null,
            "grid_auto_columns": null,
            "margin": null,
            "display": null,
            "left": null
          }
        },
        "2f2c9fe60f5244f0a5dd5285e3af3c2a": {
          "model_module": "@jupyter-widgets/controls",
          "model_name": "HBoxModel",
          "model_module_version": "1.5.0",
          "state": {
            "_view_name": "HBoxView",
            "_dom_classes": [],
            "_model_name": "HBoxModel",
            "_view_module": "@jupyter-widgets/controls",
            "_model_module_version": "1.5.0",
            "_view_count": null,
            "_view_module_version": "1.5.0",
            "box_style": "",
            "layout": "IPY_MODEL_7d225752b20d4d09893175a840ec324d",
            "_model_module": "@jupyter-widgets/controls",
            "children": [
              "IPY_MODEL_952ce89aab804b3aa54c119a8ca090fc",
              "IPY_MODEL_1a2e04acb6ab49f0b53598fa646b51a4",
              "IPY_MODEL_75714a58e12341739d3425a117168bbd"
            ]
          }
        },
        "7d225752b20d4d09893175a840ec324d": {
          "model_module": "@jupyter-widgets/base",
          "model_name": "LayoutModel",
          "model_module_version": "1.2.0",
          "state": {
            "_view_name": "LayoutView",
            "grid_template_rows": null,
            "right": null,
            "justify_content": null,
            "_view_module": "@jupyter-widgets/base",
            "overflow": null,
            "_model_module_version": "1.2.0",
            "_view_count": null,
            "flex_flow": null,
            "width": null,
            "min_width": null,
            "border": null,
            "align_items": null,
            "bottom": null,
            "_model_module": "@jupyter-widgets/base",
            "top": null,
            "grid_column": null,
            "overflow_y": null,
            "overflow_x": null,
            "grid_auto_flow": null,
            "grid_area": null,
            "grid_template_columns": null,
            "flex": null,
            "_model_name": "LayoutModel",
            "justify_items": null,
            "grid_row": null,
            "max_height": null,
            "align_content": null,
            "visibility": null,
            "align_self": null,
            "height": null,
            "min_height": null,
            "padding": null,
            "grid_auto_rows": null,
            "grid_gap": null,
            "max_width": null,
            "order": null,
            "_view_module_version": "1.2.0",
            "grid_template_areas": null,
            "object_position": null,
            "object_fit": null,
            "grid_auto_columns": null,
            "margin": null,
            "display": null,
            "left": null
          }
        },
        "952ce89aab804b3aa54c119a8ca090fc": {
          "model_module": "@jupyter-widgets/controls",
          "model_name": "HTMLModel",
          "model_module_version": "1.5.0",
          "state": {
            "_view_name": "HTMLView",
            "style": "IPY_MODEL_36543b9c3c6e48668287483d20524c17",
            "_dom_classes": [],
            "description": "",
            "_model_name": "HTMLModel",
            "placeholder": "​",
            "_view_module": "@jupyter-widgets/controls",
            "_model_module_version": "1.5.0",
            "value": "Clean file spiece.model: 100%",
            "_view_count": null,
            "_view_module_version": "1.5.0",
            "description_tooltip": null,
            "_model_module": "@jupyter-widgets/controls",
            "layout": "IPY_MODEL_e6a53e3b58b5489d891ecf56c62a00e7"
          }
        },
        "1a2e04acb6ab49f0b53598fa646b51a4": {
          "model_module": "@jupyter-widgets/controls",
          "model_name": "FloatProgressModel",
          "model_module_version": "1.5.0",
          "state": {
            "_view_name": "ProgressView",
            "style": "IPY_MODEL_6964963fd3464b8782f436105de1dc92",
            "_dom_classes": [],
            "description": "",
            "_model_name": "FloatProgressModel",
            "bar_style": "success",
            "max": 527461,
            "_view_module": "@jupyter-widgets/controls",
            "_model_module_version": "1.5.0",
            "value": 527461,
            "_view_count": null,
            "_view_module_version": "1.5.0",
            "orientation": "horizontal",
            "min": 0,
            "description_tooltip": null,
            "_model_module": "@jupyter-widgets/controls",
            "layout": "IPY_MODEL_122cae27f17a4f57aae957cf30768dcc"
          }
        },
        "75714a58e12341739d3425a117168bbd": {
          "model_module": "@jupyter-widgets/controls",
          "model_name": "HTMLModel",
          "model_module_version": "1.5.0",
          "state": {
            "_view_name": "HTMLView",
            "style": "IPY_MODEL_7c0b73554a534caf950c85e8a989b9ad",
            "_dom_classes": [],
            "description": "",
            "_model_name": "HTMLModel",
            "placeholder": "​",
            "_view_module": "@jupyter-widgets/controls",
            "_model_module_version": "1.5.0",
            "value": " 515k/515k [05:48&lt;00:00, 1.51kB/s]",
            "_view_count": null,
            "_view_module_version": "1.5.0",
            "description_tooltip": null,
            "_model_module": "@jupyter-widgets/controls",
            "layout": "IPY_MODEL_598c2d50ef3f42c28f5c2d48b9a8ea2b"
          }
        },
        "36543b9c3c6e48668287483d20524c17": {
          "model_module": "@jupyter-widgets/controls",
          "model_name": "DescriptionStyleModel",
          "model_module_version": "1.5.0",
          "state": {
            "_view_name": "StyleView",
            "_model_name": "DescriptionStyleModel",
            "description_width": "",
            "_view_module": "@jupyter-widgets/base",
            "_model_module_version": "1.5.0",
            "_view_count": null,
            "_view_module_version": "1.2.0",
            "_model_module": "@jupyter-widgets/controls"
          }
        },
        "e6a53e3b58b5489d891ecf56c62a00e7": {
          "model_module": "@jupyter-widgets/base",
          "model_name": "LayoutModel",
          "model_module_version": "1.2.0",
          "state": {
            "_view_name": "LayoutView",
            "grid_template_rows": null,
            "right": null,
            "justify_content": null,
            "_view_module": "@jupyter-widgets/base",
            "overflow": null,
            "_model_module_version": "1.2.0",
            "_view_count": null,
            "flex_flow": null,
            "width": null,
            "min_width": null,
            "border": null,
            "align_items": null,
            "bottom": null,
            "_model_module": "@jupyter-widgets/base",
            "top": null,
            "grid_column": null,
            "overflow_y": null,
            "overflow_x": null,
            "grid_auto_flow": null,
            "grid_area": null,
            "grid_template_columns": null,
            "flex": null,
            "_model_name": "LayoutModel",
            "justify_items": null,
            "grid_row": null,
            "max_height": null,
            "align_content": null,
            "visibility": null,
            "align_self": null,
            "height": null,
            "min_height": null,
            "padding": null,
            "grid_auto_rows": null,
            "grid_gap": null,
            "max_width": null,
            "order": null,
            "_view_module_version": "1.2.0",
            "grid_template_areas": null,
            "object_position": null,
            "object_fit": null,
            "grid_auto_columns": null,
            "margin": null,
            "display": null,
            "left": null
          }
        },
        "6964963fd3464b8782f436105de1dc92": {
          "model_module": "@jupyter-widgets/controls",
          "model_name": "ProgressStyleModel",
          "model_module_version": "1.5.0",
          "state": {
            "_view_name": "StyleView",
            "_model_name": "ProgressStyleModel",
            "description_width": "",
            "_view_module": "@jupyter-widgets/base",
            "_model_module_version": "1.5.0",
            "_view_count": null,
            "_view_module_version": "1.2.0",
            "bar_color": null,
            "_model_module": "@jupyter-widgets/controls"
          }
        },
        "122cae27f17a4f57aae957cf30768dcc": {
          "model_module": "@jupyter-widgets/base",
          "model_name": "LayoutModel",
          "model_module_version": "1.2.0",
          "state": {
            "_view_name": "LayoutView",
            "grid_template_rows": null,
            "right": null,
            "justify_content": null,
            "_view_module": "@jupyter-widgets/base",
            "overflow": null,
            "_model_module_version": "1.2.0",
            "_view_count": null,
            "flex_flow": null,
            "width": null,
            "min_width": null,
            "border": null,
            "align_items": null,
            "bottom": null,
            "_model_module": "@jupyter-widgets/base",
            "top": null,
            "grid_column": null,
            "overflow_y": null,
            "overflow_x": null,
            "grid_auto_flow": null,
            "grid_area": null,
            "grid_template_columns": null,
            "flex": null,
            "_model_name": "LayoutModel",
            "justify_items": null,
            "grid_row": null,
            "max_height": null,
            "align_content": null,
            "visibility": null,
            "align_self": null,
            "height": null,
            "min_height": null,
            "padding": null,
            "grid_auto_rows": null,
            "grid_gap": null,
            "max_width": null,
            "order": null,
            "_view_module_version": "1.2.0",
            "grid_template_areas": null,
            "object_position": null,
            "object_fit": null,
            "grid_auto_columns": null,
            "margin": null,
            "display": null,
            "left": null
          }
        },
        "7c0b73554a534caf950c85e8a989b9ad": {
          "model_module": "@jupyter-widgets/controls",
          "model_name": "DescriptionStyleModel",
          "model_module_version": "1.5.0",
          "state": {
            "_view_name": "StyleView",
            "_model_name": "DescriptionStyleModel",
            "description_width": "",
            "_view_module": "@jupyter-widgets/base",
            "_model_module_version": "1.5.0",
            "_view_count": null,
            "_view_module_version": "1.2.0",
            "_model_module": "@jupyter-widgets/controls"
          }
        },
        "598c2d50ef3f42c28f5c2d48b9a8ea2b": {
          "model_module": "@jupyter-widgets/base",
          "model_name": "LayoutModel",
          "model_module_version": "1.2.0",
          "state": {
            "_view_name": "LayoutView",
            "grid_template_rows": null,
            "right": null,
            "justify_content": null,
            "_view_module": "@jupyter-widgets/base",
            "overflow": null,
            "_model_module_version": "1.2.0",
            "_view_count": null,
            "flex_flow": null,
            "width": null,
            "min_width": null,
            "border": null,
            "align_items": null,
            "bottom": null,
            "_model_module": "@jupyter-widgets/base",
            "top": null,
            "grid_column": null,
            "overflow_y": null,
            "overflow_x": null,
            "grid_auto_flow": null,
            "grid_area": null,
            "grid_template_columns": null,
            "flex": null,
            "_model_name": "LayoutModel",
            "justify_items": null,
            "grid_row": null,
            "max_height": null,
            "align_content": null,
            "visibility": null,
            "align_self": null,
            "height": null,
            "min_height": null,
            "padding": null,
            "grid_auto_rows": null,
            "grid_gap": null,
            "max_width": null,
            "order": null,
            "_view_module_version": "1.2.0",
            "grid_template_areas": null,
            "object_position": null,
            "object_fit": null,
            "grid_auto_columns": null,
            "margin": null,
            "display": null,
            "left": null
          }
        }
      }
    }
  },
  "nbformat": 4,
  "nbformat_minor": 0
}