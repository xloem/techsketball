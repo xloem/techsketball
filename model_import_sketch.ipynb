{
 "cells": [
  {
   "cell_type": "markdown",
   "metadata": {
    "colab_type": "text",
    "id": "view-in-github"
   },
   "source": [
    "<a href=\"https://colab.research.google.com/github/xloem/techsketball/blob/main/model_import_sketch.ipynb\" target=\"_parent\"><img src=\"https://colab.research.google.com/assets/colab-badge.svg\" alt=\"Open In Colab\"/></a>"
   ]
  },
  {
   "cell_type": "code",
   "execution_count": 1,
   "metadata": {
    "colab": {
     "base_uri": "https://localhost:8080/"
    },
    "id": "nH1Ld_vd9wyx",
    "outputId": "9d084e9b-c8b2-493c-ea3e-f2a288d43c44"
   },
   "outputs": [
    {
     "name": "stdout",
     "output_type": "stream",
     "text": [
      "Collecting deepspeed\n",
      "  Downloading deepspeed-0.5.8.tar.gz (517 kB)\n",
      "\u001b[K     |████████████████████████████████| 517 kB 5.4 MB/s \n",
      "\u001b[?25hRequirement already satisfied: torch in /usr/local/lib/python3.7/dist-packages (from deepspeed) (1.10.0+cu111)\n",
      "Requirement already satisfied: tqdm in /usr/local/lib/python3.7/dist-packages (from deepspeed) (4.62.3)\n",
      "Collecting ninja\n",
      "  Downloading ninja-1.10.2.3-py2.py3-none-manylinux_2_5_x86_64.manylinux1_x86_64.whl (108 kB)\n",
      "\u001b[K     |████████████████████████████████| 108 kB 60.2 MB/s \n",
      "\u001b[?25hRequirement already satisfied: numpy in /usr/local/lib/python3.7/dist-packages (from deepspeed) (1.19.5)\n",
      "Requirement already satisfied: psutil in /usr/local/lib/python3.7/dist-packages (from deepspeed) (5.4.8)\n",
      "Requirement already satisfied: packaging in /usr/local/lib/python3.7/dist-packages (from deepspeed) (21.3)\n",
      "Collecting hjson\n",
      "  Downloading hjson-3.0.2-py3-none-any.whl (54 kB)\n",
      "\u001b[K     |████████████████████████████████| 54 kB 1.9 MB/s \n",
      "\u001b[?25hCollecting triton\n",
      "  Downloading triton-1.1.1-cp37-cp37m-manylinux_2_17_x86_64.manylinux2014_x86_64.whl (18.2 MB)\n",
      "\u001b[K     |████████████████████████████████| 18.2 MB 126 kB/s \n",
      "\u001b[?25hRequirement already satisfied: pyparsing!=3.0.5,>=2.0.2 in /usr/local/lib/python3.7/dist-packages (from packaging->deepspeed) (3.0.6)\n",
      "Requirement already satisfied: typing-extensions in /usr/local/lib/python3.7/dist-packages (from torch->deepspeed) (3.10.0.2)\n",
      "Requirement already satisfied: filelock in /usr/local/lib/python3.7/dist-packages (from triton->deepspeed) (3.4.0)\n",
      "Building wheels for collected packages: deepspeed\n",
      "  Building wheel for deepspeed (setup.py) ... \u001b[?25l\u001b[?25hdone\n",
      "  Created wheel for deepspeed: filename=deepspeed-0.5.8-py3-none-any.whl size=532129 sha256=1c991ecae1c7b9b5264261417b7769e66591e33084ec0d10873bd8c0c5818970\n",
      "  Stored in directory: /root/.cache/pip/wheels/8d/c6/82/cabd9a300c582a221591fd2c8c997e1f03f601e748aad44e4e\n",
      "Successfully built deepspeed\n",
      "Installing collected packages: triton, ninja, hjson, deepspeed\n",
      "Successfully installed deepspeed-0.5.8 hjson-3.0.2 ninja-1.10.2.3 triton-1.1.1\n",
      "Collecting transformers\n",
      "  Downloading transformers-4.15.0-py3-none-any.whl (3.4 MB)\n",
      "\u001b[K     |████████████████████████████████| 3.4 MB 5.4 MB/s \n",
      "\u001b[?25hRequirement already satisfied: tqdm>=4.27 in /usr/local/lib/python3.7/dist-packages (from transformers) (4.62.3)\n",
      "Collecting huggingface-hub<1.0,>=0.1.0\n",
      "  Downloading huggingface_hub-0.2.1-py3-none-any.whl (61 kB)\n",
      "\u001b[K     |████████████████████████████████| 61 kB 396 kB/s \n",
      "\u001b[?25hRequirement already satisfied: numpy>=1.17 in /usr/local/lib/python3.7/dist-packages (from transformers) (1.19.5)\n",
      "Collecting sacremoses\n",
      "  Downloading sacremoses-0.0.46-py3-none-any.whl (895 kB)\n",
      "\u001b[K     |████████████████████████████████| 895 kB 52.6 MB/s \n",
      "\u001b[?25hCollecting tokenizers<0.11,>=0.10.1\n",
      "  Downloading tokenizers-0.10.3-cp37-cp37m-manylinux_2_5_x86_64.manylinux1_x86_64.manylinux_2_12_x86_64.manylinux2010_x86_64.whl (3.3 MB)\n",
      "\u001b[K     |████████████████████████████████| 3.3 MB 40.8 MB/s \n",
      "\u001b[?25hRequirement already satisfied: requests in /usr/local/lib/python3.7/dist-packages (from transformers) (2.23.0)\n",
      "Collecting pyyaml>=5.1\n",
      "  Downloading PyYAML-6.0-cp37-cp37m-manylinux_2_5_x86_64.manylinux1_x86_64.manylinux_2_12_x86_64.manylinux2010_x86_64.whl (596 kB)\n",
      "\u001b[K     |████████████████████████████████| 596 kB 41.7 MB/s \n",
      "\u001b[?25hRequirement already satisfied: packaging>=20.0 in /usr/local/lib/python3.7/dist-packages (from transformers) (21.3)\n",
      "Requirement already satisfied: regex!=2019.12.17 in /usr/local/lib/python3.7/dist-packages (from transformers) (2019.12.20)\n",
      "Requirement already satisfied: importlib-metadata in /usr/local/lib/python3.7/dist-packages (from transformers) (4.8.2)\n",
      "Requirement already satisfied: filelock in /usr/local/lib/python3.7/dist-packages (from transformers) (3.4.0)\n",
      "Requirement already satisfied: typing-extensions>=3.7.4.3 in /usr/local/lib/python3.7/dist-packages (from huggingface-hub<1.0,>=0.1.0->transformers) (3.10.0.2)\n",
      "Requirement already satisfied: pyparsing!=3.0.5,>=2.0.2 in /usr/local/lib/python3.7/dist-packages (from packaging>=20.0->transformers) (3.0.6)\n",
      "Requirement already satisfied: zipp>=0.5 in /usr/local/lib/python3.7/dist-packages (from importlib-metadata->transformers) (3.6.0)\n",
      "Requirement already satisfied: idna<3,>=2.5 in /usr/local/lib/python3.7/dist-packages (from requests->transformers) (2.10)\n",
      "Requirement already satisfied: urllib3!=1.25.0,!=1.25.1,<1.26,>=1.21.1 in /usr/local/lib/python3.7/dist-packages (from requests->transformers) (1.24.3)\n",
      "Requirement already satisfied: certifi>=2017.4.17 in /usr/local/lib/python3.7/dist-packages (from requests->transformers) (2021.10.8)\n",
      "Requirement already satisfied: chardet<4,>=3.0.2 in /usr/local/lib/python3.7/dist-packages (from requests->transformers) (3.0.4)\n",
      "Requirement already satisfied: joblib in /usr/local/lib/python3.7/dist-packages (from sacremoses->transformers) (1.1.0)\n",
      "Requirement already satisfied: click in /usr/local/lib/python3.7/dist-packages (from sacremoses->transformers) (7.1.2)\n",
      "Requirement already satisfied: six in /usr/local/lib/python3.7/dist-packages (from sacremoses->transformers) (1.15.0)\n",
      "Installing collected packages: pyyaml, tokenizers, sacremoses, huggingface-hub, transformers\n",
      "  Attempting uninstall: pyyaml\n",
      "    Found existing installation: PyYAML 3.13\n",
      "    Uninstalling PyYAML-3.13:\n",
      "      Successfully uninstalled PyYAML-3.13\n",
      "Successfully installed huggingface-hub-0.2.1 pyyaml-6.0 sacremoses-0.0.46 tokenizers-0.10.3 transformers-4.15.0\n",
      "Collecting flax\n",
      "  Downloading flax-0.3.6-py3-none-any.whl (207 kB)\n",
      "\u001b[K     |████████████████████████████████| 207 kB 5.3 MB/s \n",
      "\u001b[?25hRequirement already satisfied: jax>=0.2.21 in /usr/local/lib/python3.7/dist-packages (from flax) (0.2.25)\n",
      "Requirement already satisfied: matplotlib in /usr/local/lib/python3.7/dist-packages (from flax) (3.2.2)\n",
      "Requirement already satisfied: numpy>=1.12 in /usr/local/lib/python3.7/dist-packages (from flax) (1.19.5)\n",
      "Collecting optax\n",
      "  Downloading optax-0.1.0-py3-none-any.whl (126 kB)\n",
      "\u001b[K     |████████████████████████████████| 126 kB 53.6 MB/s \n",
      "\u001b[?25hRequirement already satisfied: msgpack in /usr/local/lib/python3.7/dist-packages (from flax) (1.0.3)\n",
      "Requirement already satisfied: typing-extensions in /usr/local/lib/python3.7/dist-packages (from jax>=0.2.21->flax) (3.10.0.2)\n",
      "Requirement already satisfied: absl-py in /usr/local/lib/python3.7/dist-packages (from jax>=0.2.21->flax) (0.12.0)\n",
      "Requirement already satisfied: opt-einsum in /usr/local/lib/python3.7/dist-packages (from jax>=0.2.21->flax) (3.3.0)\n",
      "Requirement already satisfied: scipy>=1.2.1 in /usr/local/lib/python3.7/dist-packages (from jax>=0.2.21->flax) (1.4.1)\n",
      "Requirement already satisfied: six in /usr/local/lib/python3.7/dist-packages (from absl-py->jax>=0.2.21->flax) (1.15.0)\n",
      "Requirement already satisfied: python-dateutil>=2.1 in /usr/local/lib/python3.7/dist-packages (from matplotlib->flax) (2.8.2)\n",
      "Requirement already satisfied: kiwisolver>=1.0.1 in /usr/local/lib/python3.7/dist-packages (from matplotlib->flax) (1.3.2)\n",
      "Requirement already satisfied: pyparsing!=2.0.4,!=2.1.2,!=2.1.6,>=2.0.1 in /usr/local/lib/python3.7/dist-packages (from matplotlib->flax) (3.0.6)\n",
      "Requirement already satisfied: cycler>=0.10 in /usr/local/lib/python3.7/dist-packages (from matplotlib->flax) (0.11.0)\n",
      "Requirement already satisfied: jaxlib>=0.1.37 in /usr/local/lib/python3.7/dist-packages (from optax->flax) (0.1.71+cuda111)\n",
      "Collecting chex>=0.0.4\n",
      "  Downloading chex-0.1.0-py3-none-any.whl (65 kB)\n",
      "\u001b[K     |████████████████████████████████| 65 kB 2.9 MB/s \n",
      "\u001b[?25hRequirement already satisfied: dm-tree>=0.1.5 in /usr/local/lib/python3.7/dist-packages (from chex>=0.0.4->optax->flax) (0.1.6)\n",
      "Requirement already satisfied: toolz>=0.9.0 in /usr/local/lib/python3.7/dist-packages (from chex>=0.0.4->optax->flax) (0.11.2)\n",
      "Requirement already satisfied: flatbuffers<3.0,>=1.12 in /usr/local/lib/python3.7/dist-packages (from jaxlib>=0.1.37->optax->flax) (2.0)\n",
      "Installing collected packages: chex, optax, flax\n",
      "Successfully installed chex-0.1.0 flax-0.3.6 optax-0.1.0\n",
      "Collecting sentencepiece\n",
      "  Downloading sentencepiece-0.1.96-cp37-cp37m-manylinux_2_17_x86_64.manylinux2014_x86_64.whl (1.2 MB)\n",
      "\u001b[K     |████████████████████████████████| 1.2 MB 5.4 MB/s \n",
      "\u001b[?25hInstalling collected packages: sentencepiece\n",
      "Successfully installed sentencepiece-0.1.96\n",
      "Cloning into 'techsketball'...\n",
      "remote: Enumerating objects: 69, done.\u001b[K\n",
      "remote: Counting objects: 100% (69/69), done.\u001b[K\n",
      "remote: Compressing objects: 100% (53/53), done.\u001b[K\n",
      "remote: Total 69 (delta 23), reused 24 (delta 6), pack-reused 0\u001b[K\n",
      "Unpacking objects: 100% (69/69), done.\n"
     ]
    }
   ],
   "source": [
    "#[![Open In Colab](https://colab.research.google.com/assets/colab-badge.svg)](https://colab.research.google.com/github/googlecolab/colabtools/blob/master/notebooks/colab-github-demo.ipynb)\n",
    "\n",
    "starting_model_path = 't5-base'#'bigscience/T0pp'\n",
    "input_width = 512\n",
    "\n",
    "\n",
    "#!pip install jax[tpu] -f https://storage.googleapis.com/jax-releases/libtpu_releases.html\n",
    "!pip3 install deepspeed\n",
    "!pip3 install transformers\n",
    "!pip3 install flax\n",
    "!pip3 install sentencepiece\n",
    "!git clone https://github.com/xloem/techsketball && ln -s techsketball/* ."
   ]
  },
  {
   "cell_type": "code",
   "execution_count": 2,
   "metadata": {
    "id": "mTGBjrXoX2eS"
   },
   "outputs": [],
   "source": [
    "#import jax.tools.colab_tpu\n",
    "#jax.tools.colab_tpu.setup_tpu()\n",
    "#jax.local_devices()"
   ]
  },
  {
   "cell_type": "code",
   "execution_count": 19,
   "metadata": {
    "id": "qhJhFJfQAOXG"
   },
   "outputs": [],
   "source": [
    "from transformers import T5Tokenizer, FlaxT5ForConditionalGeneration\n",
    "\n",
    "tokenizer = T5Tokenizer.from_pretrained(starting_model_path) # only for source, not for binary\n",
    "#model = FlaxT5ForConditionalGeneration.from_pretrained(starting_model_path)"
   ]
  },
  {
   "cell_type": "code",
   "execution_count": 21,
   "metadata": {
    "colab": {
     "base_uri": "https://localhost:8080/"
    },
    "id": "QnyDTDt_f1fE",
    "outputId": "df6a10a9-d449-411d-87ce-e779ef83222c"
   },
   "outputs": [
    {
     "name": "stdout",
     "output_type": "stream",
     "text": [
      "generating training data ...\n"
     ]
    },
    {
     "name": "stderr",
     "output_type": "stream",
     "text": [
      "/usr/local/lib/python3.7/dist-packages/torch/distributed/distributed_c10d.py:171: UserWarning: torch.distributed.reduce_op is deprecated, please use torch.distributed.ReduceOp instead\n",
      "  \"torch.distributed.reduce_op is deprecated, please use \"\n"
     ]
    }
   ],
   "source": [
    "from find_pycode import pair_finder\n",
    "print('generating training data ...')\n",
    "data_tuples = [*pair_finder(globals())] # finds code examples"
   ]
  },
  {
   "cell_type": "code",
   "execution_count": 22,
   "metadata": {
    "id": "TrRadfeAhZSd",
    "lines_to_next_cell": 2
   },
   "outputs": [],
   "source": [
    "import jax, numpy as np\n",
    "data_input_ids = jax.numpy.stack([\n",
    "  np.frombuffer(bytes.ljust(input_width, b'\\0'), dtype=np.uint8)\n",
    "  for bytes, str in data_tuples\n",
    "  if len(bytes) <= input_width\n",
    "])\n",
    "data_labels = [str for bytes, str in data_tuples if len(bytes) <= input_width]"
   ]
  },
  {
   "cell_type": "code",
   "execution_count": 15,
   "metadata": {
    "id": "6qTNv8oZwbGS"
   },
   "outputs": [],
   "source": [
    "#from tokenizers import ByteLevelBPETokenizer\n",
    "#tokenizer = ByteLevelBPETokenizer()\n",
    "#tokenizer.train_from_iterator((str for bytes, str in data_tuples), vocab_size=model.config.vocab_size, min_frequency=2) "
   ]
  },
  {
   "cell_type": "code",
   "execution_count": 28,
   "metadata": {
    "id": "CxCgcJ0dzQY_"
   },
   "outputs": [],
   "source": [
    "data_labels_tokenized = tokenizer(data_labels, padding = True, return_tensors = 'np')\n",
    "data_label_ids = data_labels_tokenized['input_ids']\n",
    "data_label_attention_masks = data_labels_tokenized['attention_mask']\n",
    "#data_label_ids[data_label_attention_masks == 0] = -100"
   ]
  },
  {
   "cell_type": "code",
   "execution_count": 6,
   "metadata": {
    "id": "sdJ1Ek3-_j37"
   },
   "outputs": [],
   "source": [
    "#import deepspeed\n",
    "#cmd_args = None\n",
    "#model_engine, optimizer, _, _ = deepspeed.initialize(args=cmd_args,\n",
    "#                                                     model=model,\n",
    "#                                                     model_parameters=params)"
   ]
  },
  {
   "cell_type": "code",
   "execution_count": 29,
   "metadata": {
    "id": "nTQyR1KO4Sbv"
   },
   "outputs": [],
   "source": [
    "# these are not t5 parameters\n",
    "per_device_batch_size = 16 # small for notebook\n",
    "num_epochs = 10\n",
    "training_seed = 0\n",
    "learning_rate = 3e-4\n",
    "\n",
    "total_batch_size = per_device_batch_size * jax.device_count()\n",
    "num_train_steps = len(data_input_ids) // total_batch_size * num_epochs"
   ]
  },
  {
   "cell_type": "code",
   "execution_count": 33,
   "metadata": {
    "id": "doKKw-W345Zn",
    "lines_to_next_cell": 1
   },
   "outputs": [],
   "source": [
    "import optax, flax.training.train_state\n",
    "linear_decay_lr_schedule_fn = optax.linear_schedule(init_value=learning_rate, end_value=0, transition_steps=num_train_steps)\n",
    "adamw = optax.adamw(learning_rate=linear_decay_lr_schedule_fn, b1=0.9, b2=0.98, eps=1e-8, weight_decay=0.01)\n",
    "state = flax.training.train_state.TrainState.create(apply_fn=model.__call__, params=model.params, tx=adamw)\n",
    "\n",
    "def data_loader(rng, dataset, batch_size, shuffle=True):\n",
    "    steps_per_epoch = len(dataset) // batch_size\n",
    "\n",
    "    if shuffle:\n",
    "        batch_idx = jax.random.permutation(rng, len(dataset))\n",
    "    else:\n",
    "        batch_idx = jnp.arange(len(dataset))\n",
    "\n",
    "    batch_idx = batch_idx[: steps_per_epoch * batch_size]  # Skip incomplete batch.\n",
    "    batch_idx = batch_idx.reshape((steps_per_epoch, batch_size))\n",
    "\n",
    "    for idx in batch_idx:\n",
    "        batch = dataset[idx]\n",
    "        batch = {k: jnp.array(v) for k, v in batch.items()}\n",
    "\n",
    "        batch = shard(batch)\n",
    "\n",
    "        yield batch\n",
    "\n",
    "# from run_t5_mlm_flax.py\n",
    "#rng = jax.random.PRNGKey(training_seed)\n",
    "#dropout_rngs = jax.random.split(rng, jax.local_device_count())\n",
    "#\n",
    "## Define gradient update step fn\n",
    "#def train_step(state, batch, dropout_rng):\n",
    "#    dropout_rng, new_dropout_rng = jax.random.split(dropout_rng)\n",
    "#                                                                                     def loss_fn(params):\n",
    "#        labels = batch.pop(\"labels\")\n",
    "#\n",
    "#        logits = state.apply_fn(**batch, params=params, dropout_rng=dropout_r\n",
    "#ngain=True)[0]\n",
    "#                                                                                         # compute loss\n",
    "#        loss = optax.softmax_cross_entropy(logits, onehot(labels, logits.shape[-1])).mean()\n",
    "#\n",
    "#        return loss\n",
    "#    grad_fn = jax.value_and_grad(loss_fn)\n",
    "#    loss, grad = grad_fn(state.params)\n",
    "#    grad = jax.lax.pmean(grad, \"batch\")\n",
    "#    new_state = state.apply_gradients(grads=grad)\n",
    "#    metrics = jax.lax.pmean(\n",
    "#        {\"loss\": loss, \"learning_rate\": linear_decay_lr_schedule_fn(state.ste\n",
    "#p)xis_name=\"batch\"\n",
    "#    )\n",
    "#    return new_state, metrics, new_dropout_rng\n",
    "#\n",
    "## Create parallel version of the train step\n",
    "#p_train_step = jax.pmap(train_step, \"batch\", donate_argnums=(0,))\n",
    "## Replicate the train state on each device\n",
    "#state = jax_utils.replicate(state)\n",
    "#\n",
    "#train_time = 0\n",
    "#epochs = tqdm(range(num_epochs), desc=\"Epoch ... \", position=0)\n",
    "#for epoch in epochs:                                                                 # ======================== Training ================================             train_start = time.time()                                                        train_metrics = []                                                                                                                                                # Create sampling rng                                                            rng, input_rng = jax.random.split(rng)\n",
    "#                                                                                         # Generate an epoch by shuffling sampling indices from the train dataset\n",
    "#        num_train_samples = len(tokenized_datasets[\"train\"])\n",
    "#        train_samples_idx = jax.random.permutation(input_rng, jnp.arange(num_train_samples))                                                                              train_batch_idx = generate_batch_splits(train_samples_idx, train_batch_size)\n",
    "#        # Gather the indexes for creating the batch and do a training step               for step, batch_idx in enumerate(tqdm(train_batch_idx, desc=\"Training...\", position=1)):\n",
    "#            samples = [tokenized_datasets[\"train\"][int(idx)] for idx in batch_idx\n",
    "#]                                                                                            model_inputs = data_collator(samples)                                                                                                                             # Model forward\n",
    "#            model_inputs = shard(model_inputs.data)                                          state, train_metric, dropout_rngs = p_train_step(state, model_inputs, dropout_rngs)                                                                               train_metrics.append(train_metric)\n",
    "#                                                                                             cur_step = epoch * (num_train_samples // train_batch_size) + step\n",
    "#                                                                                             if cur_step % training_args.logging_steps == 0 and cur_step > 0:                     # Save metrics                                                                   train_metric = jax_utils.unreplicate(train_metric)                               train_time += time.time() - train_start                                          if has_tensorboard and jax.process_index() == 0:                                     write_train_metric(summary_writer, train_metrics, train_time, cur_step)                                                                                                                                                                        epochs.write(                                                                        f\"Step... ({cur_step} | Loss: {train_metric['loss'].mean()}, Learning Rate: {train_metric['learning_rate'].mean()})\"                                          )                                                                                                                                                                 train_metrics = []\n",
    "#"
   ]
  },
  {
   "cell_type": "code",
   "execution_count": null,
   "metadata": {
    "id": "aGdYRKVJxHxN"
   },
   "outputs": [],
   "source": [
    "while True:\n",
    "  print(repr(eval(input('>>> '), globals(), locals())))"
   ]
  }
 ],
 "metadata": {
  "accelerator": "TPU",
  "colab": {
   "authorship_tag": "ABX9TyMEeM4BJWK+Sc9tVnUBLR9U",
   "include_colab_link": true,
   "name": "Untitled3.ipynb",
   "provenance": [],
   "toc_visible": true
  },
  "jupytext": {
   "main_language": "python"
  },
  "kernelspec": {
   "display_name": "Python 3",
   "name": "python3"
  },
  "language_info": {
   "name": "python"
  }
 },
 "nbformat": 4,
 "nbformat_minor": 0
}
