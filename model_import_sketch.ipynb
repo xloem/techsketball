{
  "cells": [
    {
      "cell_type": "markdown",
      "metadata": {
        "id": "view-in-github",
        "colab_type": "text"
      },
      "source": [
        "<a href=\"https://colab.research.google.com/github/xloem/techsketball/blob/wip/model_import_sketch.ipynb\" target=\"_parent\"><img src=\"https://colab.research.google.com/assets/colab-badge.svg\" alt=\"Open In Colab\"/></a>"
      ]
    },
    {
      "cell_type": "code",
      "execution_count": 1,
      "metadata": {
        "colab": {
          "base_uri": "https://localhost:8080/"
        },
        "id": "nH1Ld_vd9wyx",
        "outputId": "8879afab-9e06-4807-ad8b-fcb552fb66bd"
      },
      "outputs": [
        {
          "output_type": "stream",
          "name": "stdout",
          "text": [
            "Requirement already satisfied: deepspeed in /usr/local/lib/python3.7/dist-packages (0.5.9)\n",
            "Requirement already satisfied: triton==1.0.0 in /usr/local/lib/python3.7/dist-packages (from deepspeed) (1.0.0)\n",
            "Requirement already satisfied: tqdm in /usr/local/lib/python3.7/dist-packages (from deepspeed) (4.62.3)\n",
            "Requirement already satisfied: torch in /usr/local/lib/python3.7/dist-packages (from deepspeed) (1.10.0+cu111)\n",
            "Requirement already satisfied: ninja in /usr/local/lib/python3.7/dist-packages (from deepspeed) (1.10.2.3)\n",
            "Requirement already satisfied: py-cpuinfo in /usr/local/lib/python3.7/dist-packages (from deepspeed) (8.0.0)\n",
            "Requirement already satisfied: packaging in /usr/local/lib/python3.7/dist-packages (from deepspeed) (21.3)\n",
            "Requirement already satisfied: hjson in /usr/local/lib/python3.7/dist-packages (from deepspeed) (3.0.2)\n",
            "Requirement already satisfied: numpy in /usr/local/lib/python3.7/dist-packages (from deepspeed) (1.19.5)\n",
            "Requirement already satisfied: psutil in /usr/local/lib/python3.7/dist-packages (from deepspeed) (5.4.8)\n",
            "Requirement already satisfied: pyparsing!=3.0.5,>=2.0.2 in /usr/local/lib/python3.7/dist-packages (from packaging->deepspeed) (3.0.6)\n",
            "Requirement already satisfied: typing-extensions in /usr/local/lib/python3.7/dist-packages (from torch->deepspeed) (3.10.0.2)\n",
            "Requirement already satisfied: transformers in /usr/local/lib/python3.7/dist-packages (4.15.0)\n",
            "Requirement already satisfied: regex!=2019.12.17 in /usr/local/lib/python3.7/dist-packages (from transformers) (2019.12.20)\n",
            "Requirement already satisfied: numpy>=1.17 in /usr/local/lib/python3.7/dist-packages (from transformers) (1.19.5)\n",
            "Requirement already satisfied: pyyaml>=5.1 in /usr/local/lib/python3.7/dist-packages (from transformers) (6.0)\n",
            "Requirement already satisfied: packaging>=20.0 in /usr/local/lib/python3.7/dist-packages (from transformers) (21.3)\n",
            "Requirement already satisfied: huggingface-hub<1.0,>=0.1.0 in /usr/local/lib/python3.7/dist-packages (from transformers) (0.4.0)\n",
            "Requirement already satisfied: requests in /usr/local/lib/python3.7/dist-packages (from transformers) (2.23.0)\n",
            "Requirement already satisfied: importlib-metadata in /usr/local/lib/python3.7/dist-packages (from transformers) (4.10.0)\n",
            "Requirement already satisfied: filelock in /usr/local/lib/python3.7/dist-packages (from transformers) (3.4.2)\n",
            "Requirement already satisfied: tokenizers<0.11,>=0.10.1 in /usr/local/lib/python3.7/dist-packages (from transformers) (0.10.3)\n",
            "Requirement already satisfied: sacremoses in /usr/local/lib/python3.7/dist-packages (from transformers) (0.0.47)\n",
            "Requirement already satisfied: tqdm>=4.27 in /usr/local/lib/python3.7/dist-packages (from transformers) (4.62.3)\n",
            "Requirement already satisfied: typing-extensions>=3.7.4.3 in /usr/local/lib/python3.7/dist-packages (from huggingface-hub<1.0,>=0.1.0->transformers) (3.10.0.2)\n",
            "Requirement already satisfied: pyparsing!=3.0.5,>=2.0.2 in /usr/local/lib/python3.7/dist-packages (from packaging>=20.0->transformers) (3.0.6)\n",
            "Requirement already satisfied: zipp>=0.5 in /usr/local/lib/python3.7/dist-packages (from importlib-metadata->transformers) (3.7.0)\n",
            "Requirement already satisfied: idna<3,>=2.5 in /usr/local/lib/python3.7/dist-packages (from requests->transformers) (2.10)\n",
            "Requirement already satisfied: chardet<4,>=3.0.2 in /usr/local/lib/python3.7/dist-packages (from requests->transformers) (3.0.4)\n",
            "Requirement already satisfied: certifi>=2017.4.17 in /usr/local/lib/python3.7/dist-packages (from requests->transformers) (2021.10.8)\n",
            "Requirement already satisfied: urllib3!=1.25.0,!=1.25.1,<1.26,>=1.21.1 in /usr/local/lib/python3.7/dist-packages (from requests->transformers) (1.24.3)\n",
            "Requirement already satisfied: six in /usr/local/lib/python3.7/dist-packages (from sacremoses->transformers) (1.15.0)\n",
            "Requirement already satisfied: joblib in /usr/local/lib/python3.7/dist-packages (from sacremoses->transformers) (1.1.0)\n",
            "Requirement already satisfied: click in /usr/local/lib/python3.7/dist-packages (from sacremoses->transformers) (7.1.2)\n",
            "Requirement already satisfied: flax in /usr/local/lib/python3.7/dist-packages (0.3.6)\n",
            "Requirement already satisfied: optax in /usr/local/lib/python3.7/dist-packages (from flax) (0.1.0)\n",
            "Requirement already satisfied: numpy>=1.12 in /usr/local/lib/python3.7/dist-packages (from flax) (1.19.5)\n",
            "Requirement already satisfied: msgpack in /usr/local/lib/python3.7/dist-packages (from flax) (1.0.3)\n",
            "Requirement already satisfied: jax>=0.2.21 in /usr/local/lib/python3.7/dist-packages (from flax) (0.2.25)\n",
            "Requirement already satisfied: matplotlib in /usr/local/lib/python3.7/dist-packages (from flax) (3.2.2)\n",
            "Requirement already satisfied: absl-py in /usr/local/lib/python3.7/dist-packages (from jax>=0.2.21->flax) (0.12.0)\n",
            "Requirement already satisfied: scipy>=1.2.1 in /usr/local/lib/python3.7/dist-packages (from jax>=0.2.21->flax) (1.4.1)\n",
            "Requirement already satisfied: opt-einsum in /usr/local/lib/python3.7/dist-packages (from jax>=0.2.21->flax) (3.3.0)\n",
            "Requirement already satisfied: typing-extensions in /usr/local/lib/python3.7/dist-packages (from jax>=0.2.21->flax) (3.10.0.2)\n",
            "Requirement already satisfied: six in /usr/local/lib/python3.7/dist-packages (from absl-py->jax>=0.2.21->flax) (1.15.0)\n",
            "Requirement already satisfied: python-dateutil>=2.1 in /usr/local/lib/python3.7/dist-packages (from matplotlib->flax) (2.8.2)\n",
            "Requirement already satisfied: pyparsing!=2.0.4,!=2.1.2,!=2.1.6,>=2.0.1 in /usr/local/lib/python3.7/dist-packages (from matplotlib->flax) (3.0.6)\n",
            "Requirement already satisfied: cycler>=0.10 in /usr/local/lib/python3.7/dist-packages (from matplotlib->flax) (0.11.0)\n",
            "Requirement already satisfied: kiwisolver>=1.0.1 in /usr/local/lib/python3.7/dist-packages (from matplotlib->flax) (1.3.2)\n",
            "Requirement already satisfied: jaxlib>=0.1.37 in /usr/local/lib/python3.7/dist-packages (from optax->flax) (0.1.71+cuda111)\n",
            "Requirement already satisfied: chex>=0.0.4 in /usr/local/lib/python3.7/dist-packages (from optax->flax) (0.1.0)\n",
            "Requirement already satisfied: toolz>=0.9.0 in /usr/local/lib/python3.7/dist-packages (from chex>=0.0.4->optax->flax) (0.11.2)\n",
            "Requirement already satisfied: dm-tree>=0.1.5 in /usr/local/lib/python3.7/dist-packages (from chex>=0.0.4->optax->flax) (0.1.6)\n",
            "Requirement already satisfied: flatbuffers<3.0,>=1.12 in /usr/local/lib/python3.7/dist-packages (from jaxlib>=0.1.37->optax->flax) (2.0)\n",
            "Requirement already satisfied: sentencepiece in /usr/local/lib/python3.7/dist-packages (0.1.96)\n",
            "fatal: destination path 'techsketball' already exists and is not an empty directory.\n"
          ]
        }
      ],
      "source": [
        "#[![Open In Colab](https://colab.research.google.com/assets/colab-badge.svg)](https://colab.research.google.com/github/googlecolab/colabtools/blob/master/notebooks/colab-github-demo.ipynb)\n",
        "\n",
        "import jax\n",
        "\n",
        "starting_model_path = 't5-base'#'t5-small'#'bigscience/T0pp'\n",
        "input_width = 512\n",
        "# these are not t5 parameters?\n",
        "train_batch_size = 19 # small for notebook\n",
        "per_device_batch_size = train_batch_size // jax.device_count()\n",
        "num_epochs = 2\n",
        "training_seed = 0\n",
        "learning_rate = 3e-4\n",
        "logging_steps = 1\n",
        "\n",
        "\n",
        "#!pip install jax[tpu] -f https://storage.googleapis.com/jax-releases/libtpu_releases.html\n",
        "!pip3 install deepspeed\n",
        "!pip3 install transformers\n",
        "!pip3 install flax\n",
        "!pip3 install sentencepiece\n",
        "!git clone https://github.com/xloem/techsketball && ln -s techsketball/* ."
      ]
    },
    {
      "cell_type": "code",
      "execution_count": 2,
      "metadata": {
        "colab": {
          "base_uri": "https://localhost:8080/"
        },
        "id": "mTGBjrXoX2eS",
        "outputId": "d1050151-45e3-447f-e00f-f72c5d27766d"
      },
      "outputs": [
        {
          "output_type": "stream",
          "name": "stdout",
          "text": [
            "Tue Jan 18 00:42:48 2022       \n",
            "+-----------------------------------------------------------------------------+\n",
            "| NVIDIA-SMI 495.46       Driver Version: 460.32.03    CUDA Version: 11.2     |\n",
            "|-------------------------------+----------------------+----------------------+\n",
            "| GPU  Name        Persistence-M| Bus-Id        Disp.A | Volatile Uncorr. ECC |\n",
            "| Fan  Temp  Perf  Pwr:Usage/Cap|         Memory-Usage | GPU-Util  Compute M. |\n",
            "|                               |                      |               MIG M. |\n",
            "|===============================+======================+======================|\n",
            "|   0  Tesla P100-PCIE...  Off  | 00000000:00:04.0 Off |                    0 |\n",
            "| N/A   36C    P0    34W / 250W |    257MiB / 16280MiB |      0%      Default |\n",
            "|                               |                      |                  N/A |\n",
            "+-------------------------------+----------------------+----------------------+\n",
            "                                                                               \n",
            "+-----------------------------------------------------------------------------+\n",
            "| Processes:                                                                  |\n",
            "|  GPU   GI   CI        PID   Type   Process name                  GPU Memory |\n",
            "|        ID   ID                                                   Usage      |\n",
            "|=============================================================================|\n",
            "|  No running processes found                                                 |\n",
            "+-----------------------------------------------------------------------------+\n"
          ]
        },
        {
          "output_type": "execute_result",
          "data": {
            "text/plain": [
              "[GpuDevice(id=0, process_index=0)]"
            ]
          },
          "metadata": {},
          "execution_count": 2
        }
      ],
      "source": [
        "import jax.tools.colab_tpu\n",
        "import jaxlib\n",
        "import os\n",
        "try:\n",
        "  if 'COLAB_TPU_ADDR' in os.environ:\n",
        "    jax.tools.colab_tpu.setup_tpu()\n",
        "  jaxlib.xla_extension.tpu_client()\n",
        "  backend = 'tpu'\n",
        "except:\n",
        "  try:\n",
        "    jaxlib.xla_extension.gpu_client()\n",
        "    backend = 'gpu'\n",
        "  except:\n",
        "    backend = 'cpu'\n",
        "import tensorflow as tf\n",
        "!nvidia-smi\n",
        "jax.local_devices()"
      ]
    },
    {
      "cell_type": "code",
      "execution_count": 3,
      "metadata": {
        "id": "qhJhFJfQAOXG"
      },
      "outputs": [],
      "source": [
        "from transformers import T5Tokenizer, FlaxT5ForConditionalGeneration \n",
        "import huggingface_hub\n",
        "#repo = huggingface_hub.Repository('local_model', clone_from='hub_model_id')\n",
        "try:\n",
        "    tokenizer = T5Tokenizer.from_pretrained('local_model')\n",
        "except:\n",
        "    tokenizer = T5Tokenizer.from_pretrained(starting_model_path)\n",
        "try:\n",
        "    model = FlaxT5ForConditionalGeneration.from_pretrained('local_model')\n",
        "except:\n",
        "    model = FlaxT5ForConditionalGeneration.from_pretrained(starting_model_path)"
      ]
    },
    {
      "cell_type": "code",
      "execution_count": 4,
      "metadata": {
        "id": "mZqc_JNhixjS"
      },
      "outputs": [],
      "source": [
        "# before data is generated we can import libraries to generate it from\n",
        "import jax, jax.numpy as jnp\n",
        "import numpy as np\n",
        "import optax\n",
        "import flax\n",
        "import flax.training.common_utils\n",
        "import flax.training.train_state\n",
        "import tqdm\n",
        "import time\n",
        "import os\n",
        "# ...\n",
        "import transformers\n",
        "import scipy"
      ]
    },
    {
      "cell_type": "code",
      "execution_count": 5,
      "metadata": {
        "colab": {
          "base_uri": "https://localhost:8080/"
        },
        "id": "QnyDTDt_f1fE",
        "outputId": "7f491a68-1768-440f-8e4f-945569eb7670"
      },
      "outputs": [
        {
          "output_type": "stream",
          "name": "stdout",
          "text": [
            "getting training data ...\n"
          ]
        }
      ],
      "source": [
        "import find_pycode\n",
        "print('getting training data ...')\n",
        "tokenizerpfx = starting_model_path.replace('/','_') + '.'\n",
        "find_pycode.write_files('example.', tokenizerpfx, 512, tokenizer, 512, globals(), skip_if_exists = True, tokenize_binary = True)\n",
        "tokenizer.save_pretrained('local_model')\n",
        "# repo.push_to_hub(commit_message=f'commit-message', blocking=False)\n",
        "train_data = find_pycode.read_files('example.', tokenizerpfx, 512, 512, tokenize_binary = True)"
      ]
    },
    {
      "cell_type": "code",
      "execution_count": 6,
      "metadata": {
        "id": "6qTNv8oZwbGS"
      },
      "outputs": [],
      "source": [
        "#from tokenizers import ByteLevelBPETokenizer\n",
        "#tokenizer = ByteLevelBPETokenizer()\n",
        "#tokenizer.train_from_iterator((str for bytes, str in data_tuples), vocab_size=model.config.vocab_size, min_frequency=2) "
      ]
    },
    {
      "cell_type": "code",
      "execution_count": 6,
      "metadata": {
        "id": "CxCgcJ0dzQY_",
        "lines_to_next_cell": 2
      },
      "outputs": [],
      "source": [
        ""
      ]
    },
    {
      "cell_type": "code",
      "execution_count": 7,
      "metadata": {
        "id": "sdJ1Ek3-_j37"
      },
      "outputs": [],
      "source": [
        "#import deepspeed\n",
        "#cmd_args = None\n",
        "#model_engine, optimizer, _, _ = deepspeed.initialize(args=cmd_args,\n",
        "#                                                     model=model,\n",
        "#                                                     model_parameters=params)"
      ]
    },
    {
      "cell_type": "code",
      "execution_count": 8,
      "metadata": {
        "id": "nTQyR1KO4Sbv"
      },
      "outputs": [],
      "source": [
        "num_train_steps = len(train_data['input_ids']) // train_batch_size * num_epochs\n",
        "\n",
        "rng = jax.random.PRNGKey(training_seed)"
      ]
    },
    {
      "cell_type": "code",
      "execution_count": 9,
      "metadata": {
        "id": "gD_cvz5MebpC"
      },
      "outputs": [],
      "source": [
        "def batch_from_indices(dataset : dict, indices):\n",
        "  #print(dataset['input_ids'].shape, indices.shape)\n",
        "  result = {\n",
        "      key : jnp.stack(data[indices,:])\n",
        "      for key, data in dataset.items()\n",
        "  }\n",
        "  # this change could be already put in the dataset passed by the function that produces it\n",
        "  result['labels'] = result['decoder_input_ids']\n",
        "  result['decoder_input_ids'] = np.asarray(transformers.models.t5.modeling_flax_t5.shift_tokens_right(result['labels'], tokenizer.pad_token_id, model.config.decoder_start_token_id))\n",
        "  return result"
      ]
    },
    {
      "cell_type": "code",
      "execution_count": 10,
      "metadata": {
        "colab": {
          "base_uri": "https://localhost:8080/"
        },
        "id": "m58ESSevKp6P",
        "lines_to_next_cell": 2,
        "outputId": "cd17491c-ca91-464b-8551-5dd66f45e909"
      },
      "outputs": [
        {
          "output_type": "stream",
          "name": "stderr",
          "text": [
            "WARNING:absl:Compiling _threefry_split (140698546546880) for args (ShapedArray(uint32[2]),).\n",
            "WARNING:absl:Compiling prim_fun (140698546312928) for args ().\n",
            "WARNING:absl:Compiling _shuffle (140698546215984) for args (ShapedArray(uint32[2]), ShapedArray(int32[56449])).\n"
          ]
        },
        {
          "output_type": "stream",
          "name": "stdout",
          "text": [
            "Performing initial batch to compile train step ...\n"
          ]
        },
        {
          "output_type": "stream",
          "name": "stderr",
          "text": [
            "WARNING:absl:Compiling prim_fun (140698546532432) for args (ShapedArray(int32[]),).\n",
            "WARNING:absl:Compiling prim_fun (140698101779024) for args (ShapedArray(int32[56449]), ShapedArray(int32[1])).\n",
            "WARNING:absl:Compiling prim_fun (140698101522512) for args (ShapedArray(int32[19]),).\n",
            "WARNING:absl:Compiling prim_fun (140698546536352) for args (ShapedArray(uint16[19,512]),).\n",
            "WARNING:absl:Compiling prim_fun (140698546944112) for args (ShapedArray(uint16[19,1,512]),).\n",
            "WARNING:absl:Compiling prim_fun (140698546944112) for args (ShapedArray(uint8[19,512]),).\n",
            "WARNING:absl:Compiling prim_fun (140698546534512) for args (ShapedArray(uint8[19,1,512]),).\n",
            "WARNING:absl:Compiling prim_fun (140698546967568) for args (ShapedArray(uint16[19,512]), ShapedArray(int32[1])).\n",
            "WARNING:absl:Compiling prim_fun (140698546498208) for args (ShapedArray(uint16[19,511]),).\n",
            "WARNING:absl:Compiling prim_fun (140698546029904) for args (ShapedArray(uint8[19,512]),).\n",
            "WARNING:absl:Compiling prim_fun (140698546547680) for args (ShapedArray(uint16[19,512]),).\n",
            "WARNING:absl:Compiling train_step (140698546244256) for 1 devices with args (ShapedArray(int32[1]), ShapedArray(float32[1,768,768]), ShapedArray(float32[1,768,768]), ShapedArray(float32[1,768,768]), ShapedArray(float32[1,32,12]), ShapedArray(float32[1,768,768]), ShapedArray(float32[1,768]), ShapedArray(float32[1,768,768]), ShapedArray(float32[1,768,768]), ShapedArray(float32[1,768,768]), ShapedArray(float32[1,768,768]), ShapedArray(float32[1,768]), ShapedArray(float32[1,768,3072]), ShapedArray(float32[1,3072,768]), ShapedArray(float32[1,768]), ShapedArray(float32[1,768,768]), ShapedArray(float32[1,768,768]), ShapedArray(float32[1,768,768]), ShapedArray(float32[1,768,768]), ShapedArray(float32[1,768]), ShapedArray(float32[1,768,768]), ShapedArray(float32[1,768,768]), ShapedArray(float32[1,768,768]), ShapedArray(float32[1,768,768]), ShapedArray(float32[1,768]), ShapedArray(float32[1,768,3072]), ShapedArray(float32[1,3072,768]), ShapedArray(float32[1,768]), ShapedArray(float32[1,768,768]), ShapedArray(float32[1,768,768]), ShapedArray(float32[1,768,768]), ShapedArray(float32[1,768,768]), ShapedArray(float32[1,768]), ShapedArray(float32[1,768,768]), ShapedArray(float32[1,768,768]), ShapedArray(float32[1,768,768]), ShapedArray(float32[1,768,768]), ShapedArray(float32[1,768]), ShapedArray(float32[1,768,3072]), ShapedArray(float32[1,3072,768]), ShapedArray(float32[1,768]), ShapedArray(float32[1,768,768]), ShapedArray(float32[1,768,768]), ShapedArray(float32[1,768,768]), ShapedArray(float32[1,768,768]), ShapedArray(float32[1,768]), ShapedArray(float32[1,768,768]), ShapedArray(float32[1,768,768]), ShapedArray(float32[1,768,768]), ShapedArray(float32[1,768,768]), ShapedArray(float32[1,768]), ShapedArray(float32[1,768,3072]), ShapedArray(float32[1,3072,768]), ShapedArray(float32[1,768]), ShapedArray(float32[1,768,768]), ShapedArray(float32[1,768,768]), ShapedArray(float32[1,768,768]), ShapedArray(float32[1,768,768]), ShapedArray(float32[1,768]), ShapedArray(float32[1,768,768]), ShapedArray(float32[1,768,768]), ShapedArray(float32[1,768,768]), ShapedArray(float32[1,768,768]), ShapedArray(float32[1,768]), ShapedArray(float32[1,768,3072]), ShapedArray(float32[1,3072,768]), ShapedArray(float32[1,768]), ShapedArray(float32[1,768,768]), ShapedArray(float32[1,768,768]), ShapedArray(float32[1,768,768]), ShapedArray(float32[1,768,768]), ShapedArray(float32[1,768]), ShapedArray(float32[1,768,768]), ShapedArray(float32[1,768,768]), ShapedArray(float32[1,768,768]), ShapedArray(float32[1,768,768]), ShapedArray(float32[1,768]), ShapedArray(float32[1,768,3072]), ShapedArray(float32[1,3072,768]), ShapedArray(float32[1,768]), ShapedArray(float32[1,768,768]), ShapedArray(float32[1,768,768]), ShapedArray(float32[1,768,768]), ShapedArray(float32[1,768,768]), ShapedArray(float32[1,768]), ShapedArray(float32[1,768,768]), ShapedArray(float32[1,768,768]), ShapedArray(float32[1,768,768]), ShapedArray(float32[1,768,768]), ShapedArray(float32[1,768]), ShapedArray(float32[1,768,3072]), ShapedArray(float32[1,3072,768]), ShapedArray(float32[1,768]), ShapedArray(float32[1,768,768]), ShapedArray(float32[1,768,768]), ShapedArray(float32[1,768,768]), ShapedArray(float32[1,768,768]), ShapedArray(float32[1,768]), ShapedArray(float32[1,768,768]), ShapedArray(float32[1,768,768]), ShapedArray(float32[1,768,768]), ShapedArray(float32[1,768,768]), ShapedArray(float32[1,768]), ShapedArray(float32[1,768,3072]), ShapedArray(float32[1,3072,768]), ShapedArray(float32[1,768]), ShapedArray(float32[1,768,768]), ShapedArray(float32[1,768,768]), ShapedArray(float32[1,768,768]), ShapedArray(float32[1,768,768]), ShapedArray(float32[1,768]), ShapedArray(float32[1,768,768]), ShapedArray(float32[1,768,768]), ShapedArray(float32[1,768,768]), ShapedArray(float32[1,768,768]), ShapedArray(float32[1,768]), ShapedArray(float32[1,768,3072]), ShapedArray(float32[1,3072,768]), ShapedArray(float32[1,768]), ShapedArray(float32[1,768,768]), ShapedArray(float32[1,768,768]), ShapedArray(float32[1,768,768]), ShapedArray(float32[1,768,768]), ShapedArray(float32[1,768]), ShapedArray(float32[1,768,768]), ShapedArray(float32[1,768,768]), ShapedArray(float32[1,768,768]), ShapedArray(float32[1,768,768]), ShapedArray(float32[1,768]), ShapedArray(float32[1,768,3072]), ShapedArray(float32[1,3072,768]), ShapedArray(float32[1,768]), ShapedArray(float32[1,768,768]), ShapedArray(float32[1,768,768]), ShapedArray(float32[1,768,768]), ShapedArray(float32[1,768,768]), ShapedArray(float32[1,768]), ShapedArray(float32[1,768,768]), ShapedArray(float32[1,768,768]), ShapedArray(float32[1,768,768]), ShapedArray(float32[1,768,768]), ShapedArray(float32[1,768]), ShapedArray(float32[1,768,3072]), ShapedArray(float32[1,3072,768]), ShapedArray(float32[1,768]), ShapedArray(float32[1,768,768]), ShapedArray(float32[1,768,768]), ShapedArray(float32[1,768,768]), ShapedArray(float32[1,768,768]), ShapedArray(float32[1,768]), ShapedArray(float32[1,768,768]), ShapedArray(float32[1,768,768]), ShapedArray(float32[1,768,768]), ShapedArray(float32[1,768,768]), ShapedArray(float32[1,768]), ShapedArray(float32[1,768,3072]), ShapedArray(float32[1,3072,768]), ShapedArray(float32[1,768]), ShapedArray(float32[1,768]), ShapedArray(float32[1,768,768]), ShapedArray(float32[1,768,768]), ShapedArray(float32[1,768,768]), ShapedArray(float32[1,32,12]), ShapedArray(float32[1,768,768]), ShapedArray(float32[1,768]), ShapedArray(float32[1,768,3072]), ShapedArray(float32[1,3072,768]), ShapedArray(float32[1,768]), ShapedArray(float32[1,768,768]), ShapedArray(float32[1,768,768]), ShapedArray(float32[1,768,768]), ShapedArray(float32[1,768,768]), ShapedArray(float32[1,768]), ShapedArray(float32[1,768,3072]), ShapedArray(float32[1,3072,768]), ShapedArray(float32[1,768]), ShapedArray(float32[1,768,768]), ShapedArray(float32[1,768,768]), ShapedArray(float32[1,768,768]), ShapedArray(float32[1,768,768]), ShapedArray(float32[1,768]), ShapedArray(float32[1,768,3072]), ShapedArray(float32[1,3072,768]), ShapedArray(float32[1,768]), ShapedArray(float32[1,768,768]), ShapedArray(float32[1,768,768]), ShapedArray(float32[1,768,768]), ShapedArray(float32[1,768,768]), ShapedArray(float32[1,768]), ShapedArray(float32[1,768,3072]), ShapedArray(float32[1,3072,768]), ShapedArray(float32[1,768]), ShapedArray(float32[1,768,768]), ShapedArray(float32[1,768,768]), ShapedArray(float32[1,768,768]), ShapedArray(float32[1,768,768]), ShapedArray(float32[1,768]), ShapedArray(float32[1,768,3072]), ShapedArray(float32[1,3072,768]), ShapedArray(float32[1,768]), ShapedArray(float32[1,768,768]), ShapedArray(float32[1,768,768]), ShapedArray(float32[1,768,768]), ShapedArray(float32[1,768,768]), ShapedArray(float32[1,768]), ShapedArray(float32[1,768,3072]), ShapedArray(float32[1,3072,768]), ShapedArray(float32[1,768]), ShapedArray(float32[1,768,768]), ShapedArray(float32[1,768,768]), ShapedArray(float32[1,768,768]), ShapedArray(float32[1,768,768]), ShapedArray(float32[1,768]), ShapedArray(float32[1,768,3072]), ShapedArray(float32[1,3072,768]), ShapedArray(float32[1,768]), ShapedArray(float32[1,768,768]), ShapedArray(float32[1,768,768]), ShapedArray(float32[1,768,768]), ShapedArray(float32[1,768,768]), ShapedArray(float32[1,768]), ShapedArray(float32[1,768,3072]), ShapedArray(float32[1,3072,768]), ShapedArray(float32[1,768]), ShapedArray(float32[1,768,768]), ShapedArray(float32[1,768,768]), ShapedArray(float32[1,768,768]), ShapedArray(float32[1,768,768]), ShapedArray(float32[1,768]), ShapedArray(float32[1,768,3072]), ShapedArray(float32[1,3072,768]), ShapedArray(float32[1,768]), ShapedArray(float32[1,768,768]), ShapedArray(float32[1,768,768]), ShapedArray(float32[1,768,768]), ShapedArray(float32[1,768,768]), ShapedArray(float32[1,768]), ShapedArray(float32[1,768,3072]), ShapedArray(float32[1,3072,768]), ShapedArray(float32[1,768]), ShapedArray(float32[1,768,768]), ShapedArray(float32[1,768,768]), ShapedArray(float32[1,768,768]), ShapedArray(float32[1,768,768]), ShapedArray(float32[1,768]), ShapedArray(float32[1,768,3072]), ShapedArray(float32[1,3072,768]), ShapedArray(float32[1,768]), ShapedArray(float32[1,768,768]), ShapedArray(float32[1,768,768]), ShapedArray(float32[1,768,768]), ShapedArray(float32[1,768,768]), ShapedArray(float32[1,768]), ShapedArray(float32[1,768,3072]), ShapedArray(float32[1,3072,768]), ShapedArray(float32[1,768]), ShapedArray(float32[1,768]), ShapedArray(float32[1,32128,768]), ShapedArray(int32[1]), ShapedArray(float32[1,768,768]), ShapedArray(float32[1,768,768]), ShapedArray(float32[1,768,768]), ShapedArray(float32[1,32,12]), ShapedArray(float32[1,768,768]), ShapedArray(float32[1,768]), ShapedArray(float32[1,768,768]), ShapedArray(float32[1,768,768]), ShapedArray(float32[1,768,768]), ShapedArray(float32[1,768,768]), ShapedArray(float32[1,768]), ShapedArray(float32[1,768,3072]), ShapedArray(float32[1,3072,768]), ShapedArray(float32[1,768]), ShapedArray(float32[1,768,768]), ShapedArray(float32[1,768,768]), ShapedArray(float32[1,768,768]), ShapedArray(float32[1,768,768]), ShapedArray(float32[1,768]), ShapedArray(float32[1,768,768]), ShapedArray(float32[1,768,768]), ShapedArray(float32[1,768,768]), ShapedArray(float32[1,768,768]), ShapedArray(float32[1,768]), ShapedArray(float32[1,768,3072]), ShapedArray(float32[1,3072,768]), ShapedArray(float32[1,768]), ShapedArray(float32[1,768,768]), ShapedArray(float32[1,768,768]), ShapedArray(float32[1,768,768]), ShapedArray(float32[1,768,768]), ShapedArray(float32[1,768]), ShapedArray(float32[1,768,768]), ShapedArray(float32[1,768,768]), ShapedArray(float32[1,768,768]), ShapedArray(float32[1,768,768]), ShapedArray(float32[1,768]), ShapedArray(float32[1,768,3072]), ShapedArray(float32[1,3072,768]), ShapedArray(float32[1,768]), ShapedArray(float32[1,768,768]), ShapedArray(float32[1,768,768]), ShapedArray(float32[1,768,768]), ShapedArray(float32[1,768,768]), ShapedArray(float32[1,768]), ShapedArray(float32[1,768,768]), ShapedArray(float32[1,768,768]), ShapedArray(float32[1,768,768]), ShapedArray(float32[1,768,768]), ShapedArray(float32[1,768]), ShapedArray(float32[1,768,3072]), ShapedArray(float32[1,3072,768]), ShapedArray(float32[1,768]), ShapedArray(float32[1,768,768]), ShapedArray(float32[1,768,768]), ShapedArray(float32[1,768,768]), ShapedArray(float32[1,768,768]), ShapedArray(float32[1,768]), ShapedArray(float32[1,768,768]), ShapedArray(float32[1,768,768]), ShapedArray(float32[1,768,768]), ShapedArray(float32[1,768,768]), ShapedArray(float32[1,768]), ShapedArray(float32[1,768,3072]), ShapedArray(float32[1,3072,768]), ShapedArray(float32[1,768]), ShapedArray(float32[1,768,768]), ShapedArray(float32[1,768,768]), ShapedArray(float32[1,768,768]), ShapedArray(float32[1,768,768]), ShapedArray(float32[1,768]), ShapedArray(float32[1,768,768]), ShapedArray(float32[1,768,768]), ShapedArray(float32[1,768,768]), ShapedArray(float32[1,768,768]), ShapedArray(float32[1,768]), ShapedArray(float32[1,768,3072]), ShapedArray(float32[1,3072,768]), ShapedArray(float32[1,768]), ShapedArray(float32[1,768,768]), ShapedArray(float32[1,768,768]), ShapedArray(float32[1,768,768]), ShapedArray(float32[1,768,768]), ShapedArray(float32[1,768]), ShapedArray(float32[1,768,768]), ShapedArray(float32[1,768,768]), ShapedArray(float32[1,768,768]), ShapedArray(float32[1,768,768]), ShapedArray(float32[1,768]), ShapedArray(float32[1,768,3072]), ShapedArray(float32[1,3072,768]), ShapedArray(float32[1,768]), ShapedArray(float32[1,768,768]), ShapedArray(float32[1,768,768]), ShapedArray(float32[1,768,768]), ShapedArray(float32[1,768,768]), ShapedArray(float32[1,768]), ShapedArray(float32[1,768,768]), ShapedArray(float32[1,768,768]), ShapedArray(float32[1,768,768]), ShapedArray(float32[1,768,768]), ShapedArray(float32[1,768]), ShapedArray(float32[1,768,3072]), ShapedArray(float32[1,3072,768]), ShapedArray(float32[1,768]), ShapedArray(float32[1,768,768]), ShapedArray(float32[1,768,768]), ShapedArray(float32[1,768,768]), ShapedArray(float32[1,768,768]), ShapedArray(float32[1,768]), ShapedArray(float32[1,768,768]), ShapedArray(float32[1,768,768]), ShapedArray(float32[1,768,768]), ShapedArray(float32[1,768,768]), ShapedArray(float32[1,768]), ShapedArray(float32[1,768,3072]), ShapedArray(float32[1,3072,768]), ShapedArray(float32[1,768]), ShapedArray(float32[1,768,768]), ShapedArray(float32[1,768,768]), ShapedArray(float32[1,768,768]), ShapedArray(float32[1,768,768]), ShapedArray(float32[1,768]), ShapedArray(float32[1,768,768]), ShapedArray(float32[1,768,768]), ShapedArray(float32[1,768,768]), ShapedArray(float32[1,768,768]), ShapedArray(float32[1,768]), ShapedArray(float32[1,768,3072]), ShapedArray(float32[1,3072,768]), ShapedArray(float32[1,768]), ShapedArray(float32[1,768,768]), ShapedArray(float32[1,768,768]), ShapedArray(float32[1,768,768]), ShapedArray(float32[1,768,768]), ShapedArray(float32[1,768]), ShapedArray(float32[1,768,768]), ShapedArray(float32[1,768,768]), ShapedArray(float32[1,768,768]), ShapedArray(float32[1,768,768]), ShapedArray(float32[1,768]), ShapedArray(float32[1,768,3072]), ShapedArray(float32[1,3072,768]), ShapedArray(float32[1,768]), ShapedArray(float32[1,768,768]), ShapedArray(float32[1,768,768]), ShapedArray(float32[1,768,768]), ShapedArray(float32[1,768,768]), ShapedArray(float32[1,768]), ShapedArray(float32[1,768,768]), ShapedArray(float32[1,768,768]), ShapedArray(float32[1,768,768]), ShapedArray(float32[1,768,768]), ShapedArray(float32[1,768]), ShapedArray(float32[1,768,3072]), ShapedArray(float32[1,3072,768]), ShapedArray(float32[1,768]), ShapedArray(float32[1,768]), ShapedArray(float32[1,768,768]), ShapedArray(float32[1,768,768]), ShapedArray(float32[1,768,768]), ShapedArray(float32[1,32,12]), ShapedArray(float32[1,768,768]), ShapedArray(float32[1,768]), ShapedArray(float32[1,768,3072]), ShapedArray(float32[1,3072,768]), ShapedArray(float32[1,768]), ShapedArray(float32[1,768,768]), ShapedArray(float32[1,768,768]), ShapedArray(float32[1,768,768]), ShapedArray(float32[1,768,768]), ShapedArray(float32[1,768]), ShapedArray(float32[1,768,3072]), ShapedArray(float32[1,3072,768]), ShapedArray(float32[1,768]), ShapedArray(float32[1,768,768]), ShapedArray(float32[1,768,768]), ShapedArray(float32[1,768,768]), ShapedArray(float32[1,768,768]), ShapedArray(float32[1,768]), ShapedArray(float32[1,768,3072]), ShapedArray(float32[1,3072,768]), ShapedArray(float32[1,768]), ShapedArray(float32[1,768,768]), ShapedArray(float32[1,768,768]), ShapedArray(float32[1,768,768]), ShapedArray(float32[1,768,768]), ShapedArray(float32[1,768]), ShapedArray(float32[1,768,3072]), ShapedArray(float32[1,3072,768]), ShapedArray(float32[1,768]), ShapedArray(float32[1,768,768]), ShapedArray(float32[1,768,768]), ShapedArray(float32[1,768,768]), ShapedArray(float32[1,768,768]), ShapedArray(float32[1,768]), ShapedArray(float32[1,768,3072]), ShapedArray(float32[1,3072,768]), ShapedArray(float32[1,768]), ShapedArray(float32[1,768,768]), ShapedArray(float32[1,768,768]), ShapedArray(float32[1,768,768]), ShapedArray(float32[1,768,768]), ShapedArray(float32[1,768]), ShapedArray(float32[1,768,3072]), ShapedArray(float32[1,3072,768]), ShapedArray(float32[1,768]), ShapedArray(float32[1,768,768]), ShapedArray(float32[1,768,768]), ShapedArray(float32[1,768,768]), ShapedArray(float32[1,768,768]), ShapedArray(float32[1,768]), ShapedArray(float32[1,768,3072]), ShapedArray(float32[1,3072,768]), ShapedArray(float32[1,768]), ShapedArray(float32[1,768,768]), ShapedArray(float32[1,768,768]), ShapedArray(float32[1,768,768]), ShapedArray(float32[1,768,768]), ShapedArray(float32[1,768]), ShapedArray(float32[1,768,3072]), ShapedArray(float32[1,3072,768]), ShapedArray(float32[1,768]), ShapedArray(float32[1,768,768]), ShapedArray(float32[1,768,768]), ShapedArray(float32[1,768,768]), ShapedArray(float32[1,768,768]), ShapedArray(float32[1,768]), ShapedArray(float32[1,768,3072]), ShapedArray(float32[1,3072,768]), ShapedArray(float32[1,768]), ShapedArray(float32[1,768,768]), ShapedArray(float32[1,768,768]), ShapedArray(float32[1,768,768]), ShapedArray(float32[1,768,768]), ShapedArray(float32[1,768]), ShapedArray(float32[1,768,3072]), ShapedArray(float32[1,3072,768]), ShapedArray(float32[1,768]), ShapedArray(float32[1,768,768]), ShapedArray(float32[1,768,768]), ShapedArray(float32[1,768,768]), ShapedArray(float32[1,768,768]), ShapedArray(float32[1,768]), ShapedArray(float32[1,768,3072]), ShapedArray(float32[1,3072,768]), ShapedArray(float32[1,768]), ShapedArray(float32[1,768,768]), ShapedArray(float32[1,768,768]), ShapedArray(float32[1,768,768]), ShapedArray(float32[1,768,768]), ShapedArray(float32[1,768]), ShapedArray(float32[1,768,3072]), ShapedArray(float32[1,3072,768]), ShapedArray(float32[1,768]), ShapedArray(float32[1,768]), ShapedArray(float32[1,32128,768]), ShapedArray(float32[1,768,768]), ShapedArray(float32[1,768,768]), ShapedArray(float32[1,768,768]), ShapedArray(float32[1,32,12]), ShapedArray(float32[1,768,768]), ShapedArray(float32[1,768]), ShapedArray(float32[1,768,768]), ShapedArray(float32[1,768,768]), ShapedArray(float32[1,768,768]), ShapedArray(float32[1,768,768]), ShapedArray(float32[1,768]), ShapedArray(float32[1,768,3072]), ShapedArray(float32[1,3072,768]), ShapedArray(float32[1,768]), ShapedArray(float32[1,768,768]), ShapedArray(float32[1,768,768]), ShapedArray(float32[1,768,768]), ShapedArray(float32[1,768,768]), ShapedArray(float32[1,768]), ShapedArray(float32[1,768,768]), ShapedArray(float32[1,768,768]), ShapedArray(float32[1,768,768]), ShapedArray(float32[1,768,768]), ShapedArray(float32[1,768]), ShapedArray(float32[1,768,3072]), ShapedArray(float32[1,3072,768]), ShapedArray(float32[1,768]), ShapedArray(float32[1,768,768]), ShapedArray(float32[1,768,768]), ShapedArray(float32[1,768,768]), ShapedArray(float32[1,768,768]), ShapedArray(float32[1,768]), ShapedArray(float32[1,768,768]), ShapedArray(float32[1,768,768]), ShapedArray(float32[1,768,768]), ShapedArray(float32[1,768,768]), ShapedArray(float32[1,768]), ShapedArray(float32[1,768,3072]), ShapedArray(float32[1,3072,768]), ShapedArray(float32[1,768]), ShapedArray(float32[1,768,768]), ShapedArray(float32[1,768,768]), ShapedArray(float32[1,768,768]), ShapedArray(float32[1,768,768]), ShapedArray(float32[1,768]), ShapedArray(float32[1,768,768]), ShapedArray(float32[1,768,768]), ShapedArray(float32[1,768,768]), ShapedArray(float32[1,768,768]), ShapedArray(float32[1,768]), ShapedArray(float32[1,768,3072]), ShapedArray(float32[1,3072,768]), ShapedArray(float32[1,768]), ShapedArray(float32[1,768,768]), ShapedArray(float32[1,768,768]), ShapedArray(float32[1,768,768]), ShapedArray(float32[1,768,768]), ShapedArray(float32[1,768]), ShapedArray(float32[1,768,768]), ShapedArray(float32[1,768,768]), ShapedArray(float32[1,768,768]), ShapedArray(float32[1,768,768]), ShapedArray(float32[1,768]), ShapedArray(float32[1,768,3072]), ShapedArray(float32[1,3072,768]), ShapedArray(float32[1,768]), ShapedArray(float32[1,768,768]), ShapedArray(float32[1,768,768]), ShapedArray(float32[1,768,768]), ShapedArray(float32[1,768,768]), ShapedArray(float32[1,768]), ShapedArray(float32[1,768,768]), ShapedArray(float32[1,768,768]), ShapedArray(float32[1,768,768]), ShapedArray(float32[1,768,768]), ShapedArray(float32[1,768]), ShapedArray(float32[1,768,3072]), ShapedArray(float32[1,3072,768]), ShapedArray(float32[1,768]), ShapedArray(float32[1,768,768]), ShapedArray(float32[1,768,768]), ShapedArray(float32[1,768,768]), ShapedArray(float32[1,768,768]), ShapedArray(float32[1,768]), ShapedArray(float32[1,768,768]), ShapedArray(float32[1,768,768]), ShapedArray(float32[1,768,768]), ShapedArray(float32[1,768,768]), ShapedArray(float32[1,768]), ShapedArray(float32[1,768,3072]), ShapedArray(float32[1,3072,768]), ShapedArray(float32[1,768]), ShapedArray(float32[1,768,768]), ShapedArray(float32[1,768,768]), ShapedArray(float32[1,768,768]), ShapedArray(float32[1,768,768]), ShapedArray(float32[1,768]), ShapedArray(float32[1,768,768]), ShapedArray(float32[1,768,768]), ShapedArray(float32[1,768,768]), ShapedArray(float32[1,768,768]), ShapedArray(float32[1,768]), ShapedArray(float32[1,768,3072]), ShapedArray(float32[1,3072,768]), ShapedArray(float32[1,768]), ShapedArray(float32[1,768,768]), ShapedArray(float32[1,768,768]), ShapedArray(float32[1,768,768]), ShapedArray(float32[1,768,768]), ShapedArray(float32[1,768]), ShapedArray(float32[1,768,768]), ShapedArray(float32[1,768,768]), ShapedArray(float32[1,768,768]), ShapedArray(float32[1,768,768]), ShapedArray(float32[1,768]), ShapedArray(float32[1,768,3072]), ShapedArray(float32[1,3072,768]), ShapedArray(float32[1,768]), ShapedArray(float32[1,768,768]), ShapedArray(float32[1,768,768]), ShapedArray(float32[1,768,768]), ShapedArray(float32[1,768,768]), ShapedArray(float32[1,768]), ShapedArray(float32[1,768,768]), ShapedArray(float32[1,768,768]), ShapedArray(float32[1,768,768]), ShapedArray(float32[1,768,768]), ShapedArray(float32[1,768]), ShapedArray(float32[1,768,3072]), ShapedArray(float32[1,3072,768]), ShapedArray(float32[1,768]), ShapedArray(float32[1,768,768]), ShapedArray(float32[1,768,768]), ShapedArray(float32[1,768,768]), ShapedArray(float32[1,768,768]), ShapedArray(float32[1,768]), ShapedArray(float32[1,768,768]), ShapedArray(float32[1,768,768]), ShapedArray(float32[1,768,768]), ShapedArray(float32[1,768,768]), ShapedArray(float32[1,768]), ShapedArray(float32[1,768,3072]), ShapedArray(float32[1,3072,768]), ShapedArray(float32[1,768]), ShapedArray(float32[1,768,768]), ShapedArray(float32[1,768,768]), ShapedArray(float32[1,768,768]), ShapedArray(float32[1,768,768]), ShapedArray(float32[1,768]), ShapedArray(float32[1,768,768]), ShapedArray(float32[1,768,768]), ShapedArray(float32[1,768,768]), ShapedArray(float32[1,768,768]), ShapedArray(float32[1,768]), ShapedArray(float32[1,768,3072]), ShapedArray(float32[1,3072,768]), ShapedArray(float32[1,768]), ShapedArray(float32[1,768]), ShapedArray(float32[1,768,768]), ShapedArray(float32[1,768,768]), ShapedArray(float32[1,768,768]), ShapedArray(float32[1,32,12]), ShapedArray(float32[1,768,768]), ShapedArray(float32[1,768]), ShapedArray(float32[1,768,3072]), ShapedArray(float32[1,3072,768]), ShapedArray(float32[1,768]), ShapedArray(float32[1,768,768]), ShapedArray(float32[1,768,768]), ShapedArray(float32[1,768,768]), ShapedArray(float32[1,768,768]), ShapedArray(float32[1,768]), ShapedArray(float32[1,768,3072]), ShapedArray(float32[1,3072,768]), ShapedArray(float32[1,768]), ShapedArray(float32[1,768,768]), ShapedArray(float32[1,768,768]), ShapedArray(float32[1,768,768]), ShapedArray(float32[1,768,768]), ShapedArray(float32[1,768]), ShapedArray(float32[1,768,3072]), ShapedArray(float32[1,3072,768]), ShapedArray(float32[1,768]), ShapedArray(float32[1,768,768]), ShapedArray(float32[1,768,768]), ShapedArray(float32[1,768,768]), ShapedArray(float32[1,768,768]), ShapedArray(float32[1,768]), ShapedArray(float32[1,768,3072]), ShapedArray(float32[1,3072,768]), ShapedArray(float32[1,768]), ShapedArray(float32[1,768,768]), ShapedArray(float32[1,768,768]), ShapedArray(float32[1,768,768]), ShapedArray(float32[1,768,768]), ShapedArray(float32[1,768]), ShapedArray(float32[1,768,3072]), ShapedArray(float32[1,3072,768]), ShapedArray(float32[1,768]), ShapedArray(float32[1,768,768]), ShapedArray(float32[1,768,768]), ShapedArray(float32[1,768,768]), ShapedArray(float32[1,768,768]), ShapedArray(float32[1,768]), ShapedArray(float32[1,768,3072]), ShapedArray(float32[1,3072,768]), ShapedArray(float32[1,768]), ShapedArray(float32[1,768,768]), ShapedArray(float32[1,768,768]), ShapedArray(float32[1,768,768]), ShapedArray(float32[1,768,768]), ShapedArray(float32[1,768]), ShapedArray(float32[1,768,3072]), ShapedArray(float32[1,3072,768]), ShapedArray(float32[1,768]), ShapedArray(float32[1,768,768]), ShapedArray(float32[1,768,768]), ShapedArray(float32[1,768,768]), ShapedArray(float32[1,768,768]), ShapedArray(float32[1,768]), ShapedArray(float32[1,768,3072]), ShapedArray(float32[1,3072,768]), ShapedArray(float32[1,768]), ShapedArray(float32[1,768,768]), ShapedArray(float32[1,768,768]), ShapedArray(float32[1,768,768]), ShapedArray(float32[1,768,768]), ShapedArray(float32[1,768]), ShapedArray(float32[1,768,3072]), ShapedArray(float32[1,3072,768]), ShapedArray(float32[1,768]), ShapedArray(float32[1,768,768]), ShapedArray(float32[1,768,768]), ShapedArray(float32[1,768,768]), ShapedArray(float32[1,768,768]), ShapedArray(float32[1,768]), ShapedArray(float32[1,768,3072]), ShapedArray(float32[1,3072,768]), ShapedArray(float32[1,768]), ShapedArray(float32[1,768,768]), ShapedArray(float32[1,768,768]), ShapedArray(float32[1,768,768]), ShapedArray(float32[1,768,768]), ShapedArray(float32[1,768]), ShapedArray(float32[1,768,3072]), ShapedArray(float32[1,3072,768]), ShapedArray(float32[1,768]), ShapedArray(float32[1,768,768]), ShapedArray(float32[1,768,768]), ShapedArray(float32[1,768,768]), ShapedArray(float32[1,768,768]), ShapedArray(float32[1,768]), ShapedArray(float32[1,768,3072]), ShapedArray(float32[1,3072,768]), ShapedArray(float32[1,768]), ShapedArray(float32[1,768]), ShapedArray(float32[1,32128,768]), ShapedArray(int32[1]), ShapedArray(uint8[1,19,512]), ShapedArray(uint8[1,19,512]), ShapedArray(uint16[1,19,512]), ShapedArray(uint16[1,19,512]), ShapedArray(uint16[1,19,512]), ShapedArray(uint32[1,2])). (num_replicas=1 num_partitions=1)\n",
            "WARNING:absl:Compiling _multi_slice (140698432725392) for args (ShapedArray(uint8[1,19,512]),).\n",
            "WARNING:absl:Compiling _multi_slice (140698432644272) for args (ShapedArray(uint16[1,19,512]),).\n",
            "WARNING:absl:Compiling _multi_slice (140675955844432) for args (ShapedArray(uint32[1,2]),).\n",
            "WARNING:absl:Compiling _mean (140698433956352) for args (ShapedArray(float32[]),).\n"
          ]
        },
        {
          "output_type": "stream",
          "name": "stdout",
          "text": [
            "Done.  First loss was 3.3882518\n"
          ]
        }
      ],
      "source": [
        "# these are not t5 parameters?\n",
        "linear_decay_lr_schedule_fn = optax.linear_schedule(init_value=learning_rate, end_value=0, transition_steps=num_train_steps)\n",
        "adamw = optax.adamw(learning_rate=linear_decay_lr_schedule_fn, b1=0.9, b2=0.98, eps=1e-8, weight_decay=0.01)\n",
        "state = flax.training.train_state.TrainState.create(apply_fn=model.__call__, params=model.params, tx=adamw)\n",
        "\n",
        "jax.config.update('jax_log_compiles', True)\n",
        "\n",
        "\n",
        "# from run_t5_mlm_flax.py\n",
        "dropout_rngs = jax.random.split(rng, jax.local_device_count())\n",
        "\n",
        "# Define gradient update step fn\n",
        "def train_step(state, batch, dropout_rng):#input_ids, attention_mask, labels, decoder_input_ids, decoder_attention_mask, dropout_rng):\n",
        "    dropout_rng, new_dropout_rng = jax.random.split(dropout_rng)\n",
        "    def loss_fn(params):\n",
        "        labels = batch.pop('labels')\n",
        "\n",
        "        #logits = state.apply_fn(\n",
        "        #    input_ids = input_ids,\n",
        "        #    attention_mask = attention_mask,\n",
        "        #    decoder_input_ids = decoder_input_ids,\n",
        "        #    decoder_attention_mask = decoder_attention_mask,\n",
        "        #    params = params,\n",
        "        #    dropout_rng = dropout_rng,\n",
        "        #    train = True\n",
        "        #).logits\n",
        "        logits = state.apply_fn(**batch, params = params, dropout_rng = dropout_rng, train = True).logits\n",
        "        #print(logits.shape)\n",
        "        #assert len(logits[-1]) == tokenizer.vocab_size\n",
        "        #logits = logits[0]\n",
        "\n",
        "        # logits, labels, padding_mask=batch['decoder_attention_mask', label_smoothing_factor=0]\n",
        "        # compute loss\n",
        "        loss = optax.softmax_cross_entropy(logits, flax.training.common_utils.onehot(labels, logits.shape[-1]))\n",
        "        padding_mask = batch['decoder_attention_mask']\n",
        "        loss = (loss * padding_mask).sum() / padding_mask.sum()\n",
        "\n",
        "        #loss = state.apply_fn(**batch, params=params, dropout_rng=dropout_rng, train=True).loss\n",
        "\n",
        "        return loss\n",
        "\n",
        "    grad_fn = jax.value_and_grad(loss_fn)\n",
        "    loss, grad = grad_fn(state.params)\n",
        "    grad = jax.lax.pmean(grad, \"batch\")\n",
        "    new_state = state.apply_gradients(grads=grad)\n",
        "\n",
        "    metrics = jax.lax.pmean(\n",
        "        {\"loss\": loss, \"learning_rate\": linear_decay_lr_schedule_fn(state.step)}, axis_name=\"batch\"\n",
        "    )\n",
        "\n",
        "    return new_state, metrics, new_dropout_rng\n",
        "\n",
        "# Create parallel version of the train step\n",
        "p_train_step = jax.pmap(train_step, 'batch', donate_argnums=(0,), backend=backend)\n",
        "\n",
        "# Replicate the train state on each device\n",
        "state = flax.jax_utils.replicate(state)\n",
        "\n",
        "print('Performing initial batch to compile train step ...')\n",
        "rng, input_rng = jax.random.split(rng)\n",
        "num_train_samples = len(train_data['input_ids'])\n",
        "train_samples_idx = jax.random.permutation(input_rng, jnp.arange(num_train_samples))\n",
        "model_inputs = batch_from_indices(train_data, train_samples_idx[:train_batch_size])\n",
        "model_inputs = flax.training.common_utils.shard(model_inputs)\n",
        "state, train_metric, dropout_rngs = p_train_step(state, model_inputs, dropout_rng=dropout_rngs)\n",
        "train_metric = flax.jax_utils.unreplicate(train_metric)\n",
        "print('Done.  First loss was', train_metric['loss'].mean())"
      ]
    },
    {
      "cell_type": "code",
      "execution_count": null,
      "metadata": {
        "colab": {
          "base_uri": "https://localhost:8080/"
        },
        "id": "doKKw-W345Zn",
        "outputId": "424e110d-70d9-424b-f857-6c89c6eed6c3"
      },
      "outputs": [
        {
          "output_type": "stream",
          "name": "stderr",
          "text": [
            "Epoch ... :   0%|          | 0/2 [00:00<?, ?it/s]\n",
            "Training...:   0%|          | 0/2971 [00:00<?, ?it/s]\u001b[A\n",
            "\n",
            "Epoch ... :   0%|          | 0/2 [02:51<?, ?it/s]\n",
            "Training...:   0%|          | 1/2971 [02:51<71:40:08, 86.87s/it]\u001b[A\n",
            "Training...:   0%|          | 2/2971 [02:51<70:42:52, 85.74s/it]\u001b[A"
          ]
        },
        {
          "output_type": "stream",
          "name": "stdout",
          "text": [
            "Loss: 2.793487548828125, Learning Rate: 0.0002998990239575505\n"
          ]
        },
        {
          "output_type": "stream",
          "name": "stderr",
          "text": [
            "\n",
            "Epoch ... :   0%|          | 0/2 [04:21<?, ?it/s]\n",
            "Training...:   0%|          | 2/2971 [04:21<70:42:52, 85.74s/it]\u001b[A\n",
            "Training...:   0%|          | 3/2971 [04:21<72:10:30, 87.54s/it]\u001b[A"
          ]
        },
        {
          "output_type": "stream",
          "name": "stdout",
          "text": [
            "Loss: 2.200140953063965, Learning Rate: 0.00029984855791553855\n"
          ]
        },
        {
          "output_type": "stream",
          "name": "stderr",
          "text": [
            "\n",
            "Epoch ... :   0%|          | 0/2 [05:51<?, ?it/s]\n",
            "Training...:   0%|          | 3/2971 [05:51<72:10:30, 87.54s/it]\u001b[A\n",
            "Training...:   0%|          | 4/2971 [05:51<73:01:32, 88.61s/it]\u001b[A"
          ]
        },
        {
          "output_type": "stream",
          "name": "stdout",
          "text": [
            "Loss: 2.441828489303589, Learning Rate: 0.0002997980627696961\n"
          ]
        },
        {
          "output_type": "stream",
          "name": "stderr",
          "text": [
            "\n",
            "Epoch ... :   0%|          | 0/2 [07:25<?, ?it/s]\n",
            "Training...:   0%|          | 4/2971 [07:25<73:01:32, 88.61s/it]\u001b[A\n",
            "Training...:   0%|          | 5/2971 [07:25<74:39:23, 90.61s/it]\u001b[A"
          ]
        },
        {
          "output_type": "stream",
          "name": "stdout",
          "text": [
            "Loss: 2.2808127403259277, Learning Rate: 0.0002997475676238537\n"
          ]
        },
        {
          "output_type": "stream",
          "name": "stderr",
          "text": [
            "\n",
            "Epoch ... :   0%|          | 0/2 [08:56<?, ?it/s]\n",
            "Training...:   0%|          | 5/2971 [08:56<74:39:23, 90.61s/it]\u001b[A\n",
            "Training...:   0%|          | 6/2971 [08:56<74:30:58, 90.48s/it]\u001b[A"
          ]
        },
        {
          "output_type": "stream",
          "name": "stdout",
          "text": [
            "Loss: 2.705730438232422, Learning Rate: 0.00029969707247801125\n"
          ]
        },
        {
          "output_type": "stream",
          "name": "stderr",
          "text": [
            "\n",
            "Epoch ... :   0%|          | 0/2 [10:38<?, ?it/s]\n",
            "Training...:   0%|          | 6/2971 [10:38<74:30:58, 90.48s/it]\u001b[A\n",
            "Training...:   0%|          | 7/2971 [10:38<77:42:45, 94.39s/it]\u001b[A"
          ]
        },
        {
          "output_type": "stream",
          "name": "stdout",
          "text": [
            "Loss: 2.503242015838623, Learning Rate: 0.0002996466064359993\n"
          ]
        },
        {
          "output_type": "stream",
          "name": "stderr",
          "text": [
            "\n",
            "Epoch ... :   0%|          | 0/2 [12:11<?, ?it/s]\n",
            "Training...:   0%|          | 7/2971 [12:11<77:42:45, 94.39s/it]\u001b[A\n",
            "Training...:   0%|          | 8/2971 [12:11<77:15:48, 93.87s/it]\u001b[A"
          ]
        },
        {
          "output_type": "stream",
          "name": "stdout",
          "text": [
            "Loss: 2.3284687995910645, Learning Rate: 0.00029959611129015684\n"
          ]
        },
        {
          "output_type": "stream",
          "name": "stderr",
          "text": [
            "\n",
            "Epoch ... :   0%|          | 0/2 [13:37<?, ?it/s]\n",
            "Training...:   0%|          | 8/2971 [13:37<77:15:48, 93.87s/it]\u001b[A\n",
            "Training...:   0%|          | 9/2971 [13:37<75:16:55, 91.50s/it]\u001b[A"
          ]
        },
        {
          "output_type": "stream",
          "name": "stdout",
          "text": [
            "Loss: 2.04621958732605, Learning Rate: 0.0002995456161443144\n"
          ]
        }
      ],
      "source": [
        "\n",
        "\n",
        "train_time = 0\n",
        "epochs = tqdm.tqdm(range(num_epochs), desc=\"Epoch ... \", position=0)\n",
        "for epoch in epochs:\n",
        "    # ======================== Training ================================\n",
        "    train_start = time.time()\n",
        "    train_metrics = []\n",
        "\n",
        "    # Create sampling rng\n",
        "    rng, input_rng = jax.random.split(rng)\n",
        "\n",
        "    # Generate an epoch by shuffling sampling indices from the train dataset\n",
        "    num_train_samples = len(train_data['input_ids'])\n",
        "    train_samples_idx = jax.random.permutation(input_rng, jnp.arange(num_train_samples))\n",
        "    #train_batch_idx = generate_batch_splits(train_samples_idx, train_batch_size)\n",
        "\n",
        "    # Gather the indexes for creating the batch and do a training step\n",
        "    batches_tqdm = tqdm.tqdm(range(num_train_samples // train_batch_size), desc=\"Training...\", position=1)\n",
        "    for step, batch_idx in enumerate(batches_tqdm):\n",
        "        #samples = [tokenized_datasets[\"train\"][int(idx)] for idx in batch_idx]\n",
        "        model_inputs = batch_from_indices(train_data, train_samples_idx[train_batch_size * batch_idx:train_batch_size * batch_idx + train_batch_size])\n",
        "        #print('model_inputs are', {key:val.shape for key, val in model_inputs.items()})\n",
        "        #model_inputs = data_collator(samples)\n",
        "\n",
        "        # Model forward\n",
        "        model_inputs = flax.training.common_utils.shard(model_inputs)\n",
        "        state, train_metric, dropout_rngs = p_train_step(state, model_inputs, dropout_rng=dropout_rngs)\n",
        "        train_metrics.append(train_metric)\n",
        "\n",
        "        cur_step = epoch * (num_train_samples // train_batch_size) + step\n",
        "\n",
        "        if cur_step % logging_steps == 0 and cur_step > 0 and jax.process_index() == 0:\n",
        "            # Save metrics\n",
        "            train_metric = flax.jax_utils.unreplicate(train_metric)\n",
        "            train_time += time.time() - train_start\n",
        "            #if has_tensorboard and jax.process_index() == 0:\n",
        "            #    write_train_metric(summary_writer, train_metrics, train_time, cur_step)\n",
        "\n",
        "            epochs.write(\n",
        "                f\"Loss: {train_metric['loss'].mean()}, Learning Rate: {train_metric['learning_rate'].mean()}\"\n",
        "            )\n",
        "\n",
        "            train_metrics = []\n",
        "        if cur_step % (num_train_samples // 8) == 0:\n",
        "            # save checkpoint\n",
        "            if jax.process_index() == 0:\n",
        "                params = jax.device_get(jax.tree_map(lambda x: x[0], state.params))\n",
        "                model.save_pretrained('local_model', params=params)\n",
        "                # repo.push_to_hub(commit_message=f'commit-message', blocking=False)"
      ]
    },
    {
      "cell_type": "code",
      "execution_count": null,
      "metadata": {
        "id": "aGdYRKVJxHxN"
      },
      "outputs": [],
      "source": [
        "while True:\n",
        "  print(repr(eval(input('>>> '), globals(), locals())))"
      ]
    },
    {
      "cell_type": "markdown",
      "metadata": {
        "id": "K2lLdDyZP0mT"
      },
      "source": [
        ""
      ]
    }
  ],
  "metadata": {
    "accelerator": "GPU",
    "colab": {
      "background_execution": "on",
      "machine_shape": "hm",
      "name": "Untitled3.ipynb",
      "provenance": [],
      "include_colab_link": true
    },
    "jupytext": {
      "main_language": "python"
    },
    "kernelspec": {
      "display_name": "Python 3",
      "name": "python3"
    },
    "language_info": {
      "name": "python"
    }
  },
  "nbformat": 4,
  "nbformat_minor": 0
}